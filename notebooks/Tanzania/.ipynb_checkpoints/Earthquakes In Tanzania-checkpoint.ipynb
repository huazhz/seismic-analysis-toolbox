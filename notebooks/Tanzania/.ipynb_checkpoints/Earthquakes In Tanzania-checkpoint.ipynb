{
 "cells": [
  {
   "cell_type": "code",
   "execution_count": 53,
   "metadata": {},
   "outputs": [
    {
     "name": "stdout",
     "output_type": "stream",
     "text": [
      "50.66\n"
     ]
    },
    {
     "data": {
      "text/plain": [
       "2016-06-22T22:52:50.660000Z"
      ]
     },
     "execution_count": 53,
     "metadata": {},
     "output_type": "execute_result"
    }
   ],
   "source": [
    "import os \n",
    "from pprint import pprint\n",
    "from obspy import UTCDateTime\n",
    "\n",
    "path = os.getcwd()\n",
    "filename = 'earthquake-data.sum'\n",
    "full_file_path = os.path.join(path, filename)\n",
    "\n",
    "with open(full_file_path) as file:\n",
    "    lines = file.readlines()\n",
    "    \n",
    "columns, *data = [line.strip().split() for line in lines] # first element of list is 'columns' the remaining is data\n",
    "earthquakes = [line[0:3] for line in data]\n",
    "\n",
    "\n",
    "def convert_to_UTCDateTime(date, hr_min, seconds):\n",
    "    year, month, day = date[:4], date[4:6], date[6:8]\n",
    "    utc_date = \"-\".join([year, month, day])\n",
    "    \n",
    "    hr, mn = hr_min[0:2], hr_min[2:4]  \n",
    "    utc_time = f\"T{hr}:{mn}:{seconds}\"\n",
    "    \n",
    "    return UTCDateTime(utc_date + utc_time)\n",
    "\n",
    "quake = earthquakes[0]\n",
    "convert_to_UTCDateTime(*quake)"
   ]
  },
  {
   "cell_type": "code",
   "execution_count": null,
   "metadata": {
    "collapsed": true
   },
   "outputs": [],
   "source": [
    "from obspy.clients.fdsn import Client\n",
    "\n",
    "client = Client(\"http://10.254.144.226/\")\n",
    "t = UTCDateTime(\"2016-06-15T00:00:00.000\")\n",
    "tt = t + 60*24*10\n",
    "st = client.get_waveforms(\"TZ\", \"CES06\", \"\", \"HNZ\", t, tt)\n",
    "st.plot()\n"
   ]
  }
 ],
 "metadata": {
  "kernelspec": {
   "display_name": "Python [default]",
   "language": "python",
   "name": "python3"
  },
  "language_info": {
   "codemirror_mode": {
    "name": "ipython",
    "version": 3
   },
   "file_extension": ".py",
   "mimetype": "text/x-python",
   "name": "python",
   "nbconvert_exporter": "python",
   "pygments_lexer": "ipython3",
   "version": "3.6.3"
  }
 },
 "nbformat": 4,
 "nbformat_minor": 2
}
