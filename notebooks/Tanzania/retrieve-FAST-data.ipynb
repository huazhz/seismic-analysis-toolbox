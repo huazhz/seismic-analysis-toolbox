{
 "cells": [
  {
   "cell_type": "code",
   "execution_count": 16,
   "metadata": {
    "collapsed": true
   },
   "outputs": [],
   "source": [
    "from obspy.clients.fdsn import Client\n",
    "from obspy import UTCDateTime\n",
    "\n",
    "def Hour(integer):\n",
    "    \"\"\"\n",
    "    More readable than doing 'sec x min x hour' every time.\n",
    "    :returns: int, time in minutes\n",
    "    \"\"\"\n",
    "    return 60 * 60 * integer\n",
    "\n",
    "client = Client(\"http://10.254.144.226/\")\n",
    "t = UTCDateTime(\"2016-06-15T00:00:00.000\")\n",
    "st = client.get_waveforms(\"TZ\", \"CES06\", \"\", \"HNZ\", t, t + Hour(24) * 7)  # 7 Days\n"
   ]
  },
  {
   "cell_type": "code",
   "execution_count": 23,
   "metadata": {},
   "outputs": [
    {
     "name": "stdout",
     "output_type": "stream",
     "text": [
      "               network: TZ\n",
      "               station: CES06\n",
      "              location: \n",
      "               channel: HNZ\n",
      "             starttime: 2016-06-21T00:00:00.000000Z\n",
      "               endtime: 2016-06-21T23:59:59.995000Z\n",
      "         sampling_rate: 200.0\n",
      "                 delta: 0.005\n",
      "                  npts: 17280000\n",
      "                 calib: 1.0\n",
      "_fdsnws_dataselect_url: http://10.254.144.226/fdsnws/dataselect/1/query\n",
      "               _format: MSEED\n",
      "                 mseed: AttribDict({'dataquality': 'D', 'number_of_records': 51296, 'encoding': 'STEIM1', 'byteorder': '>', 'record_length': 512, 'filesize': 178944512})\n"
     ]
    }
   ],
   "source": [
    "stream = st.copy()\n",
    "\n",
    "#trace.write(\"test.mseed\", format=\"MSEED\")\n",
    "import os\n",
    "\n",
    "def get_file_name(trace):\n",
    "    template = \"TZ.{station}.{channel}.{year}.{julian_day}\"\n",
    "    stats = trace.stats\n",
    "    \n",
    "    return template.format(stats.station, stats.channel, stats.year, stats.julian_day)\n",
    "\n",
    "def write_mseed(trace, path):\n",
    "    trace.write(os.path.join(path, get_file_name(trace) + \".MSEED\"))\n",
    "\n",
    "\n",
    "PATH = os.path.join(os.getcwd(), \"Tanzania-Data-August-2016\"\n",
    "                    \n",
    "for trace in stream:\n",
    "    path = os.path.join()\n",
    "    write_mseed(trace, )\n",
    "    \n",
    "\n"
   ]
  },
  {
   "cell_type": "code",
   "execution_count": null,
   "metadata": {},
   "outputs": [],
   "source": []
  },
  {
   "cell_type": "code",
   "execution_count": null,
   "metadata": {
    "collapsed": true
   },
   "outputs": [],
   "source": []
  }
 ],
 "metadata": {
  "kernelspec": {
   "display_name": "Python [default]",
   "language": "python",
   "name": "python3"
  },
  "language_info": {
   "codemirror_mode": {
    "name": "ipython",
    "version": 3
   },
   "file_extension": ".py",
   "mimetype": "text/x-python",
   "name": "python",
   "nbconvert_exporter": "python",
   "pygments_lexer": "ipython3",
   "version": "3.6.3"
  }
 },
 "nbformat": 4,
 "nbformat_minor": 2
}
