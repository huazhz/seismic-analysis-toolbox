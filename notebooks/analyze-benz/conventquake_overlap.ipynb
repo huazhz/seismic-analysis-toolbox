{
 "cells": [
  {
   "cell_type": "code",
   "execution_count": 9,
   "metadata": {},
   "outputs": [],
   "source": [
    "import pandas as pd\n",
    "import pandas as pd\n",
    "\n",
    "from collections import namedtuple\n",
    "from datetime import datetime\n",
    "from obspy import UTCDateTime\n",
    "\n",
    "predicted_times = pd.read_csv('predictions/convnetquake/GSOK029_catalog_detection.csv')"
   ]
  },
  {
   "cell_type": "code",
   "execution_count": 19,
   "metadata": {},
   "outputs": [],
   "source": [
    "\n",
    "#to_string = lambda date: date.strftime('%m/%d/%Y')\n",
    "predicted_times['start_time'] = pd.to_datetime(predicted_times['start_time'])\n",
    "predicted_times['end_time'] = pd.to_datetime(predicted_times['end_time'])\n",
    "\n",
    "to_string = lambda date: date.strftime('%m/%d/%Y')\n",
    "predicted_times['Date'] = predicted_times['start_time'].map(lambda date: to_string(date))\n",
    "start, end = predicted_times['Date'].iloc[0], predicted_times['Date'].iloc[-1]"
   ]
  },
  {
   "cell_type": "code",
   "execution_count": 20,
   "metadata": {},
   "outputs": [],
   "source": [
    "import catalog_lookup as cl\n",
    "\n",
    "CATALOG_PATH = 'Benz_catalog.csv'\n",
    "catalog_times = cl.catalog_df(CATALOG_PATH, start, end)"
   ]
  },
  {
   "cell_type": "code",
   "execution_count": null,
   "metadata": {},
   "outputs": [],
   "source": []
  },
  {
   "cell_type": "code",
   "execution_count": null,
   "metadata": {},
   "outputs": [],
   "source": []
  }
 ],
 "metadata": {
  "kernelspec": {
   "display_name": "Python 3",
   "language": "python",
   "name": "python3"
  },
  "language_info": {
   "codemirror_mode": {
    "name": "ipython",
    "version": 3
   },
   "file_extension": ".py",
   "mimetype": "text/x-python",
   "name": "python",
   "nbconvert_exporter": "python",
   "pygments_lexer": "ipython3",
   "version": "3.7.1"
  }
 },
 "nbformat": 4,
 "nbformat_minor": 2
}
