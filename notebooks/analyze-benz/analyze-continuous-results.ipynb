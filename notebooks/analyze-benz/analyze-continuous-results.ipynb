{
 "cells": [
  {
   "cell_type": "code",
   "execution_count": 38,
   "metadata": {},
   "outputs": [],
   "source": [
    "import pandas as pd\n",
    "\n",
    "from collections import namedtuple\n",
    "from datetime import datetime\n",
    "from obspy import UTCDateTime\n",
    "\n",
    "import catalog_lookup\n",
    "from importlib import reload\n",
    "%matplotlib inline"
   ]
  },
  {
   "cell_type": "code",
   "execution_count": 2,
   "metadata": {},
   "outputs": [],
   "source": [
    "predicted_times = catalog_lookup.predicted_df('predictions/predictions.csv')"
   ]
  },
  {
   "cell_type": "code",
   "execution_count": 3,
   "metadata": {},
   "outputs": [],
   "source": [
    "to_string = lambda date: date.strftime('%m/%d/%Y')\n",
    "start, end = predicted_times['event_start'].iloc[0], predicted_times['event_end'].iloc[-1]\n",
    "start, end = to_string(start), to_string(end)"
   ]
  },
  {
   "cell_type": "code",
   "execution_count": 4,
   "metadata": {},
   "outputs": [],
   "source": [
    "catalog_times = catalog_lookup.catalog_df(start, end)"
   ]
  },
  {
   "cell_type": "code",
   "execution_count": 9,
   "metadata": {},
   "outputs": [
    {
     "name": "stderr",
     "output_type": "stream",
     "text": [
      "/data/notebooks/analyze-benz/catalog_lookup.py:77: SettingWithCopyWarning: \n",
      "A value is trying to be set on a copy of a slice from a DataFrame.\n",
      "Try using .loc[row_indexer,col_indexer] = value instead\n",
      "\n",
      "See the caveats in the documentation: http://pandas.pydata.org/pandas-docs/stable/indexing.html#indexing-view-versus-copy\n",
      "  df['timerange'] = df.apply(lambda row: Timerange(row.event_start, row.event_end), axis=1)\n",
      "/data/notebooks/analyze-benz/catalog_lookup.py:78: SettingWithCopyWarning: \n",
      "A value is trying to be set on a copy of a slice from a DataFrame.\n",
      "Try using .loc[row_indexer,col_indexer] = value instead\n",
      "\n",
      "See the caveats in the documentation: http://pandas.pydata.org/pandas-docs/stable/indexing.html#indexing-view-versus-copy\n",
      "  df['catalog_id'] = df.apply(lambda row: event_in_catalog(row.timerange, catalog_times), axis=1)\n"
     ]
    },
    {
     "data": {
      "text/html": [
       "<div>\n",
       "<style>\n",
       "    .dataframe thead tr:only-child th {\n",
       "        text-align: right;\n",
       "    }\n",
       "\n",
       "    .dataframe thead th {\n",
       "        text-align: left;\n",
       "    }\n",
       "\n",
       "    .dataframe tbody tr th {\n",
       "        vertical-align: top;\n",
       "    }\n",
       "</style>\n",
       "<table border=\"1\" class=\"dataframe\">\n",
       "  <thead>\n",
       "    <tr style=\"text-align: right;\">\n",
       "      <th></th>\n",
       "      <th>Time</th>\n",
       "      <th>Guess</th>\n",
       "      <th>event_start</th>\n",
       "      <th>event_end</th>\n",
       "      <th>timerange</th>\n",
       "      <th>catalog_id</th>\n",
       "    </tr>\n",
       "  </thead>\n",
       "  <tbody>\n",
       "    <tr>\n",
       "      <th>126690</th>\n",
       "      <td>2014-07-01T00:07:45.005000Z--2014-07-01T00:08:...</td>\n",
       "      <td>1</td>\n",
       "      <td>2014-07-01T00:07:45.005000Z</td>\n",
       "      <td>2014-07-01T00:08:05.005000Z</td>\n",
       "      <td>(2014-07-01T00:07:45.005000Z, 2014-07-01T00:08...</td>\n",
       "      <td>-1</td>\n",
       "    </tr>\n",
       "    <tr>\n",
       "      <th>80994</th>\n",
       "      <td>2014-07-01T00:39:05.005000Z--2014-07-01T00:39:...</td>\n",
       "      <td>1</td>\n",
       "      <td>2014-07-01T00:39:05.005000Z</td>\n",
       "      <td>2014-07-01T00:39:25.005000Z</td>\n",
       "      <td>(2014-07-01T00:39:05.005000Z, 2014-07-01T00:39...</td>\n",
       "      <td>-1</td>\n",
       "    </tr>\n",
       "    <tr>\n",
       "      <th>92049</th>\n",
       "      <td>2014-07-01T00:56:05.005000Z--2014-07-01T00:56:...</td>\n",
       "      <td>1</td>\n",
       "      <td>2014-07-01T00:56:05.005000Z</td>\n",
       "      <td>2014-07-01T00:56:25.005000Z</td>\n",
       "      <td>(2014-07-01T00:56:05.005000Z, 2014-07-01T00:56...</td>\n",
       "      <td>-1</td>\n",
       "    </tr>\n",
       "    <tr>\n",
       "      <th>211128</th>\n",
       "      <td>2014-07-01T01:02:45.005000Z--2014-07-01T01:03:...</td>\n",
       "      <td>1</td>\n",
       "      <td>2014-07-01T01:02:45.005000Z</td>\n",
       "      <td>2014-07-01T01:03:05.005000Z</td>\n",
       "      <td>(2014-07-01T01:02:45.005000Z, 2014-07-01T01:03...</td>\n",
       "      <td>-1</td>\n",
       "    </tr>\n",
       "    <tr>\n",
       "      <th>26202</th>\n",
       "      <td>2014-07-01T01:03:05.005000Z--2014-07-01T01:03:...</td>\n",
       "      <td>1</td>\n",
       "      <td>2014-07-01T01:03:05.005000Z</td>\n",
       "      <td>2014-07-01T01:03:25.005000Z</td>\n",
       "      <td>(2014-07-01T01:03:05.005000Z, 2014-07-01T01:03...</td>\n",
       "      <td>-1</td>\n",
       "    </tr>\n",
       "  </tbody>\n",
       "</table>\n",
       "</div>"
      ],
      "text/plain": [
       "                                                     Time  Guess  \\\n",
       "126690  2014-07-01T00:07:45.005000Z--2014-07-01T00:08:...      1   \n",
       "80994   2014-07-01T00:39:05.005000Z--2014-07-01T00:39:...      1   \n",
       "92049   2014-07-01T00:56:05.005000Z--2014-07-01T00:56:...      1   \n",
       "211128  2014-07-01T01:02:45.005000Z--2014-07-01T01:03:...      1   \n",
       "26202   2014-07-01T01:03:05.005000Z--2014-07-01T01:03:...      1   \n",
       "\n",
       "                        event_start                    event_end  \\\n",
       "126690  2014-07-01T00:07:45.005000Z  2014-07-01T00:08:05.005000Z   \n",
       "80994   2014-07-01T00:39:05.005000Z  2014-07-01T00:39:25.005000Z   \n",
       "92049   2014-07-01T00:56:05.005000Z  2014-07-01T00:56:25.005000Z   \n",
       "211128  2014-07-01T01:02:45.005000Z  2014-07-01T01:03:05.005000Z   \n",
       "26202   2014-07-01T01:03:05.005000Z  2014-07-01T01:03:25.005000Z   \n",
       "\n",
       "                                                timerange  catalog_id  \n",
       "126690  (2014-07-01T00:07:45.005000Z, 2014-07-01T00:08...          -1  \n",
       "80994   (2014-07-01T00:39:05.005000Z, 2014-07-01T00:39...          -1  \n",
       "92049   (2014-07-01T00:56:05.005000Z, 2014-07-01T00:56...          -1  \n",
       "211128  (2014-07-01T01:02:45.005000Z, 2014-07-01T01:03...          -1  \n",
       "26202   (2014-07-01T01:03:05.005000Z, 2014-07-01T01:03...          -1  "
      ]
     },
     "execution_count": 9,
     "metadata": {},
     "output_type": "execute_result"
    }
   ],
   "source": [
    "# Events predicted        \n",
    "predicted_events = predicted_times[predicted_times['Guess'] == 1]\n",
    "predicted_events = catalog_lookup.find_events_in_catalog(predicted_events, catalog_times)"
   ]
  },
  {
   "cell_type": "code",
   "execution_count": 30,
   "metadata": {},
   "outputs": [],
   "source": [
    "catalog_events = catalog_times.copy()\n",
    "catalog_events['found'] = catalog_events.index.map(lambda i: i in set(predicted_events['catalog_id'].values))"
   ]
  },
  {
   "cell_type": "code",
   "execution_count": 31,
   "metadata": {},
   "outputs": [
    {
     "data": {
      "text/html": [
       "<div>\n",
       "<style>\n",
       "    .dataframe thead tr:only-child th {\n",
       "        text-align: right;\n",
       "    }\n",
       "\n",
       "    .dataframe thead th {\n",
       "        text-align: left;\n",
       "    }\n",
       "\n",
       "    .dataframe tbody tr th {\n",
       "        vertical-align: top;\n",
       "    }\n",
       "</style>\n",
       "<table border=\"1\" class=\"dataframe\">\n",
       "  <thead>\n",
       "    <tr style=\"text-align: right;\">\n",
       "      <th></th>\n",
       "      <th>Date</th>\n",
       "      <th>Time</th>\n",
       "      <th>Magnitude</th>\n",
       "      <th>Variance</th>\n",
       "      <th>origintime</th>\n",
       "      <th>utc_timestamp</th>\n",
       "      <th>found</th>\n",
       "    </tr>\n",
       "  </thead>\n",
       "  <tbody>\n",
       "    <tr>\n",
       "      <th>33251</th>\n",
       "      <td>07/01/2014</td>\n",
       "      <td>00:14:29</td>\n",
       "      <td>-0.42</td>\n",
       "      <td>0.41</td>\n",
       "      <td>2014-07-01T00:14:29.000000Z</td>\n",
       "      <td>1.404174e+09</td>\n",
       "      <td>False</td>\n",
       "    </tr>\n",
       "    <tr>\n",
       "      <th>33252</th>\n",
       "      <td>07/01/2014</td>\n",
       "      <td>01:05:21</td>\n",
       "      <td>0.55</td>\n",
       "      <td>0.44</td>\n",
       "      <td>2014-07-01T01:05:21.000000Z</td>\n",
       "      <td>1.404177e+09</td>\n",
       "      <td>False</td>\n",
       "    </tr>\n",
       "    <tr>\n",
       "      <th>33253</th>\n",
       "      <td>07/01/2014</td>\n",
       "      <td>01:07:07</td>\n",
       "      <td>1.21</td>\n",
       "      <td>0.39</td>\n",
       "      <td>2014-07-01T01:07:07.000000Z</td>\n",
       "      <td>1.404177e+09</td>\n",
       "      <td>True</td>\n",
       "    </tr>\n",
       "    <tr>\n",
       "      <th>33254</th>\n",
       "      <td>07/01/2014</td>\n",
       "      <td>01:07:13</td>\n",
       "      <td>0.39</td>\n",
       "      <td>0.44</td>\n",
       "      <td>2014-07-01T01:07:13.000000Z</td>\n",
       "      <td>1.404177e+09</td>\n",
       "      <td>False</td>\n",
       "    </tr>\n",
       "    <tr>\n",
       "      <th>33255</th>\n",
       "      <td>07/01/2014</td>\n",
       "      <td>01:07:18</td>\n",
       "      <td>0.33</td>\n",
       "      <td>0.40</td>\n",
       "      <td>2014-07-01T01:07:18.000000Z</td>\n",
       "      <td>1.404177e+09</td>\n",
       "      <td>False</td>\n",
       "    </tr>\n",
       "  </tbody>\n",
       "</table>\n",
       "</div>"
      ],
      "text/plain": [
       "             Date      Time  Magnitude  Variance                   origintime  \\\n",
       "33251  07/01/2014  00:14:29      -0.42      0.41  2014-07-01T00:14:29.000000Z   \n",
       "33252  07/01/2014  01:05:21       0.55      0.44  2014-07-01T01:05:21.000000Z   \n",
       "33253  07/01/2014  01:07:07       1.21      0.39  2014-07-01T01:07:07.000000Z   \n",
       "33254  07/01/2014  01:07:13       0.39      0.44  2014-07-01T01:07:13.000000Z   \n",
       "33255  07/01/2014  01:07:18       0.33      0.40  2014-07-01T01:07:18.000000Z   \n",
       "\n",
       "       utc_timestamp  found  \n",
       "33251   1.404174e+09  False  \n",
       "33252   1.404177e+09  False  \n",
       "33253   1.404177e+09   True  \n",
       "33254   1.404177e+09  False  \n",
       "33255   1.404177e+09  False  "
      ]
     },
     "execution_count": 31,
     "metadata": {},
     "output_type": "execute_result"
    }
   ],
   "source": [
    "catalog_events.head()"
   ]
  },
  {
   "cell_type": "code",
   "execution_count": 32,
   "metadata": {},
   "outputs": [
    {
     "data": {
      "text/html": [
       "<div>\n",
       "<style>\n",
       "    .dataframe thead tr:only-child th {\n",
       "        text-align: right;\n",
       "    }\n",
       "\n",
       "    .dataframe thead th {\n",
       "        text-align: left;\n",
       "    }\n",
       "\n",
       "    .dataframe tbody tr th {\n",
       "        vertical-align: top;\n",
       "    }\n",
       "</style>\n",
       "<table border=\"1\" class=\"dataframe\">\n",
       "  <thead>\n",
       "    <tr style=\"text-align: right;\">\n",
       "      <th></th>\n",
       "      <th>Time</th>\n",
       "      <th>Guess</th>\n",
       "      <th>event_start</th>\n",
       "      <th>event_end</th>\n",
       "      <th>timerange</th>\n",
       "      <th>catalog_id</th>\n",
       "    </tr>\n",
       "  </thead>\n",
       "  <tbody>\n",
       "    <tr>\n",
       "      <th>126690</th>\n",
       "      <td>2014-07-01T00:07:45.005000Z--2014-07-01T00:08:...</td>\n",
       "      <td>1</td>\n",
       "      <td>2014-07-01T00:07:45.005000Z</td>\n",
       "      <td>2014-07-01T00:08:05.005000Z</td>\n",
       "      <td>(2014-07-01T00:07:45.005000Z, 2014-07-01T00:08...</td>\n",
       "      <td>-1</td>\n",
       "    </tr>\n",
       "    <tr>\n",
       "      <th>80994</th>\n",
       "      <td>2014-07-01T00:39:05.005000Z--2014-07-01T00:39:...</td>\n",
       "      <td>1</td>\n",
       "      <td>2014-07-01T00:39:05.005000Z</td>\n",
       "      <td>2014-07-01T00:39:25.005000Z</td>\n",
       "      <td>(2014-07-01T00:39:05.005000Z, 2014-07-01T00:39...</td>\n",
       "      <td>-1</td>\n",
       "    </tr>\n",
       "    <tr>\n",
       "      <th>92049</th>\n",
       "      <td>2014-07-01T00:56:05.005000Z--2014-07-01T00:56:...</td>\n",
       "      <td>1</td>\n",
       "      <td>2014-07-01T00:56:05.005000Z</td>\n",
       "      <td>2014-07-01T00:56:25.005000Z</td>\n",
       "      <td>(2014-07-01T00:56:05.005000Z, 2014-07-01T00:56...</td>\n",
       "      <td>-1</td>\n",
       "    </tr>\n",
       "    <tr>\n",
       "      <th>211128</th>\n",
       "      <td>2014-07-01T01:02:45.005000Z--2014-07-01T01:03:...</td>\n",
       "      <td>1</td>\n",
       "      <td>2014-07-01T01:02:45.005000Z</td>\n",
       "      <td>2014-07-01T01:03:05.005000Z</td>\n",
       "      <td>(2014-07-01T01:02:45.005000Z, 2014-07-01T01:03...</td>\n",
       "      <td>-1</td>\n",
       "    </tr>\n",
       "    <tr>\n",
       "      <th>26202</th>\n",
       "      <td>2014-07-01T01:03:05.005000Z--2014-07-01T01:03:...</td>\n",
       "      <td>1</td>\n",
       "      <td>2014-07-01T01:03:05.005000Z</td>\n",
       "      <td>2014-07-01T01:03:25.005000Z</td>\n",
       "      <td>(2014-07-01T01:03:05.005000Z, 2014-07-01T01:03...</td>\n",
       "      <td>-1</td>\n",
       "    </tr>\n",
       "  </tbody>\n",
       "</table>\n",
       "</div>"
      ],
      "text/plain": [
       "                                                     Time  Guess  \\\n",
       "126690  2014-07-01T00:07:45.005000Z--2014-07-01T00:08:...      1   \n",
       "80994   2014-07-01T00:39:05.005000Z--2014-07-01T00:39:...      1   \n",
       "92049   2014-07-01T00:56:05.005000Z--2014-07-01T00:56:...      1   \n",
       "211128  2014-07-01T01:02:45.005000Z--2014-07-01T01:03:...      1   \n",
       "26202   2014-07-01T01:03:05.005000Z--2014-07-01T01:03:...      1   \n",
       "\n",
       "                        event_start                    event_end  \\\n",
       "126690  2014-07-01T00:07:45.005000Z  2014-07-01T00:08:05.005000Z   \n",
       "80994   2014-07-01T00:39:05.005000Z  2014-07-01T00:39:25.005000Z   \n",
       "92049   2014-07-01T00:56:05.005000Z  2014-07-01T00:56:25.005000Z   \n",
       "211128  2014-07-01T01:02:45.005000Z  2014-07-01T01:03:05.005000Z   \n",
       "26202   2014-07-01T01:03:05.005000Z  2014-07-01T01:03:25.005000Z   \n",
       "\n",
       "                                                timerange  catalog_id  \n",
       "126690  (2014-07-01T00:07:45.005000Z, 2014-07-01T00:08...          -1  \n",
       "80994   (2014-07-01T00:39:05.005000Z, 2014-07-01T00:39...          -1  \n",
       "92049   (2014-07-01T00:56:05.005000Z, 2014-07-01T00:56...          -1  \n",
       "211128  (2014-07-01T01:02:45.005000Z, 2014-07-01T01:03...          -1  \n",
       "26202   (2014-07-01T01:03:05.005000Z, 2014-07-01T01:03...          -1  "
      ]
     },
     "execution_count": 32,
     "metadata": {},
     "output_type": "execute_result"
    }
   ],
   "source": [
    "predicted_events.head()"
   ]
  },
  {
   "cell_type": "code",
   "execution_count": 39,
   "metadata": {},
   "outputs": [],
   "source": [
    "found = catalog_events[catalog_events['found'] == True]\n",
    "missed = catalog_events[catalog_events['found'] == False]\n",
    "new = predicted_events[predicted_events['catalog_id'] == -1]"
   ]
  },
  {
   "cell_type": "code",
   "execution_count": 69,
   "metadata": {},
   "outputs": [
    {
     "data": {
      "text/plain": [
       "<matplotlib.legend.Legend at 0x7f9178fdf198>"
      ]
     },
     "execution_count": 69,
     "metadata": {},
     "output_type": "execute_result"
    },
    {
     "data": {
      "image/png": "[encoded data removed]",
      "text/plain": [
       "<matplotlib.figure.Figure at 0x7f9178fdf128>"
      ]
     },
     "metadata": {},
     "output_type": "display_data"
    }
   ],
   "source": [
    "found.Magnitude.hist(density=True, label='Found')\n",
    "missed.Magnitude.hist(density=True, fc=(1, .65, 0, 0.8), label='Missed')\n",
    "plt.legend()"
   ]
  },
  {
   "cell_type": "code",
   "execution_count": 67,
   "metadata": {},
   "outputs": [
    {
     "data": {
      "text/plain": [
       "<matplotlib.legend.Legend at 0x7f91790d6668>"
      ]
     },
     "execution_count": 67,
     "metadata": {},
     "output_type": "execute_result"
    },
    {
     "data": {
      "image/png": "[encoded data removed]",
      "text/plain": [
       "<matplotlib.figure.Figure at 0x7f9178dc3400>"
      ]
     },
     "metadata": {},
     "output_type": "display_data"
    }
   ],
   "source": [
    "import matplotlib.pyplot as plt\n",
    "\n",
    "found.Variance.hist(density=True, label='Found')\n",
    "missed.Variance.hist(density=True, fc=(1, .65, 0, 0.8), label='Missed')\n",
    "plt.legend()"
   ]
  },
  {
   "cell_type": "code",
   "execution_count": 78,
   "metadata": {},
   "outputs": [
    {
     "data": {
      "text/plain": [
       "<matplotlib.legend.Legend at 0x7f917724a8d0>"
      ]
     },
     "execution_count": 78,
     "metadata": {},
     "output_type": "execute_result"
    },
    {
     "data": {
      "image/png": "[encoded data removed]",
      "text/plain": [
       "<matplotlib.figure.Figure at 0x7f91772edc18>"
      ]
     },
     "metadata": {},
     "output_type": "display_data"
    }
   ],
   "source": [
    "found.Date.hist(density=True, label='Found', bins=30)\n",
    "missed.Date.hist(density=True, fc=(1, .65, 0, 0.8), label='Missed', bins=20)\n",
    "plt.legend()"
   ]
  },
  {
   "cell_type": "code",
   "execution_count": null,
   "metadata": {},
   "outputs": [],
   "source": []
  }
 ],
 "metadata": {
  "kernelspec": {
   "display_name": "Python [default]",
   "language": "python",
   "name": "python3"
  },
  "language_info": {
   "codemirror_mode": {
    "name": "ipython",
    "version": 3
   },
   "file_extension": ".py",
   "mimetype": "text/x-python",
   "name": "python",
   "nbconvert_exporter": "python",
   "pygments_lexer": "ipython3",
   "version": "3.6.7"
  }
 },
 "nbformat": 4,
 "nbformat_minor": 2
}
