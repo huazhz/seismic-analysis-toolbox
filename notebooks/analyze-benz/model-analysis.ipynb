{
 "cells": [
  {
   "cell_type": "markdown",
   "metadata": {},
   "source": [
    "# Missed events for a single model\n",
    " Stats about missed events - magnitude, distance, and depth\n",
    " \n",
    " - stats should go in the dataframe\n",
    " - use catalog_lookup to cross reference the events\n",
    " - should be NaN if noise"
   ]
  },
  {
   "cell_type": "code",
   "execution_count": 42,
   "metadata": {},
   "outputs": [],
   "source": [
    "import pandas as pd\n",
    "import os\n",
    "pj = os.path.join\n",
    "from utils import *\n",
    "%matplotlib inline\n",
    "from importlib import reload\n",
    "import data_reader\n",
    "import obspy"
   ]
  },
  {
   "cell_type": "code",
   "execution_count": 43,
   "metadata": {},
   "outputs": [],
   "source": [
    "csv_path = 'predictions/predictions(76-0.9815-0.9727-0.9978.pt).csv' \n",
    "predicted = pd.read_csv(csv_path)\n",
    "PATH = '/data/notebooks/dataset_oklahoma/spectrograms/test_set_benz_2/'"
   ]
  },
  {
   "cell_type": "code",
   "execution_count": 44,
   "metadata": {},
   "outputs": [
    {
     "name": "stderr",
     "output_type": "stream",
     "text": [
      "/data/notebooks/analyze-benz/data_reader.py:35: SettingWithCopyWarning: \n",
      "A value is trying to be set on a copy of a slice from a DataFrame\n",
      "\n",
      "See the caveats in the documentation: http://pandas.pydata.org/pandas-docs/stable/indexing.html#indexing-view-versus-copy\n",
      "  predicted_times['Label'][true_positives_i] = 'True Positive'\n"
     ]
    }
   ],
   "source": [
    "predicted = data_reader.dataframe_from_csv(csv_path, PATH)\n",
    "predicted = data_reader.make_labels(predicted)\n",
    "predicted['WaveformPath'] = predicted['Filepath'].map(\n",
    "                                lambda path: os.path.join(path, 'waveform.mseed'))"
   ]
  },
  {
   "cell_type": "code",
   "execution_count": 45,
   "metadata": {},
   "outputs": [],
   "source": [
    "(false_positives, \n",
    "false_negatives, \n",
    "true_positives, \n",
    "true_negatives) = data_reader.df_confusion_matrix(predicted)"
   ]
  },
  {
   "cell_type": "code",
   "execution_count": 46,
   "metadata": {},
   "outputs": [],
   "source": [
    "wf_path = true_negatives.iloc[0]['WaveformPath']"
   ]
  },
  {
   "cell_type": "code",
   "execution_count": 47,
   "metadata": {},
   "outputs": [
    {
     "data": {
      "text/plain": [
       "         network: GS\n",
       "         station: OK029\n",
       "        location: 00\n",
       "         channel: HH1\n",
       "       starttime: 2014-07-22T00:03:22.995000Z\n",
       "         endtime: 2014-07-22T00:03:43.005000Z\n",
       "   sampling_rate: 100.0\n",
       "           delta: 0.01\n",
       "            npts: 2002\n",
       "           calib: 1.0\n",
       "         _format: MSEED\n",
       "           mseed: AttribDict({'dataquality': 'M', 'number_of_records': 36, 'encoding': 'FLOAT64', 'byteorder': '>', 'record_length': 512, 'filesize': 55296})"
      ]
     },
     "execution_count": 47,
     "metadata": {},
     "output_type": "execute_result"
    }
   ],
   "source": [
    "wave = obspy.read(wf_path)\n",
    "wave[0].stats"
   ]
  },
  {
   "cell_type": "code",
   "execution_count": null,
   "metadata": {},
   "outputs": [],
   "source": []
  }
 ],
 "metadata": {
  "kernelspec": {
   "display_name": "Python [default]",
   "language": "python",
   "name": "python3"
  },
  "language_info": {
   "codemirror_mode": {
    "name": "ipython",
    "version": 3
   },
   "file_extension": ".py",
   "mimetype": "text/x-python",
   "name": "python",
   "nbconvert_exporter": "python",
   "pygments_lexer": "ipython3",
   "version": "3.6.7"
  }
 },
 "nbformat": 4,
 "nbformat_minor": 2
}
