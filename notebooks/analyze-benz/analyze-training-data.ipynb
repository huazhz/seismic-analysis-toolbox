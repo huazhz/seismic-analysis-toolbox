{
 "cells": [
  {
   "cell_type": "code",
   "execution_count": 1,
   "metadata": {},
   "outputs": [],
   "source": [
    "import pandas as pd\n",
    "import os\n",
    "pj = os.path.join\n",
    "from utils import *\n",
    "%matplotlib inline"
   ]
  },
  {
   "cell_type": "code",
   "execution_count": 2,
   "metadata": {},
   "outputs": [],
   "source": [
    "cwd = os.getcwd()\n",
    "PATH = '/data/notebooks/dataset_oklahoma/spectrograms/train_set_benz/' \n",
    "noise_path = pj(PATH, 'noise')\n",
    "local_path = pj(PATH, 'local')"
   ]
  },
  {
   "cell_type": "code",
   "execution_count": 3,
   "metadata": {},
   "outputs": [],
   "source": [
    "def make_absolute_paths(path): return [os.path.join(path, folder) for folder in os.listdir(path)]\n",
    "\n",
    "noise_paths = make_absolute_paths(noise_path)\n",
    "local_paths = make_absolute_paths(local_path)"
   ]
  },
  {
   "cell_type": "code",
   "execution_count": 4,
   "metadata": {},
   "outputs": [],
   "source": [
    "from sklearn.utils import shuffle\n",
    "\n",
    "def make_df(paths, true_label, sort=False):\n",
    "    df = pd.DataFrame.from_dict({'Filepath': paths})\n",
    "    df['Name'] = df['Filepath'].map(lambda path: path.split('/')[-1])\n",
    "    df['Label'] = true_label\n",
    "    if sort:\n",
    "        df = df.sort_values(by='Name')\n",
    "    else:\n",
    "        df = shuffle(df)\n",
    "    return df\n",
    "\n",
    "df_noise = make_df(noise_paths, 'Noise', sort=False)\n",
    "df_local = make_df(local_paths, 'Quake', sort=False)"
   ]
  },
  {
   "cell_type": "markdown",
   "metadata": {},
   "source": [
    "# Write"
   ]
  },
  {
   "cell_type": "code",
   "execution_count": 5,
   "metadata": {},
   "outputs": [
    {
     "name": "stderr",
     "output_type": "stream",
     "text": [
      " 86%|████████▌ | 428/500 [00:20<00:02, 28.45it/s]/opt/conda/lib/python3.6/site-packages/matplotlib/pyplot.py:523: RuntimeWarning: More than 20 figures have been opened. Figures created through the pyplot interface (`matplotlib.pyplot.figure`) are retained until explicitly closed and may consume too much memory. (To control this warning, see the rcParam `figure.max_open_warning`).\n",
      "  max_open_warning, RuntimeWarning)\n",
      " 87%|████████▋ | 437/500 [00:20<00:01, 33.78it/s]/opt/conda/lib/python3.6/site-packages/matplotlib/pyplot.py:523: RuntimeWarning: More than 20 figures have been opened. Figures created through the pyplot interface (`matplotlib.pyplot.figure`) are retained until explicitly closed and may consume too much memory. (To control this warning, see the rcParam `figure.max_open_warning`).\n",
      "  max_open_warning, RuntimeWarning)\n",
      "100%|██████████| 500/500 [00:22<00:00, 22.29it/s]\n"
     ]
    }
   ],
   "source": [
    "from utils import *\n",
    "import matplotlib.pyplot as plt\n",
    "\n",
    "NUM_TO_WRITE = 500\n",
    "WRITE_PATH = pj(cwd, 'images/training/Events')\n",
    "df = df_local\n",
    "\n",
    "folder_paths = list(df['Filepath'])[:NUM_TO_WRITE]\n",
    "names = list(df['Name'])[:NUM_TO_WRITE]\n",
    "write_paths = [pj(WRITE_PATH, name + '.png') for name in names]\n",
    "\n",
    "write_visualization_parallel(folder_paths, write_paths)"
   ]
  },
  {
   "cell_type": "code",
   "execution_count": null,
   "metadata": {},
   "outputs": [],
   "source": []
  },
  {
   "cell_type": "code",
   "execution_count": null,
   "metadata": {},
   "outputs": [],
   "source": []
  }
 ],
 "metadata": {
  "kernelspec": {
   "display_name": "Python [default]",
   "language": "python",
   "name": "python3"
  },
  "language_info": {
   "codemirror_mode": {
    "name": "ipython",
    "version": 3
   },
   "file_extension": ".py",
   "mimetype": "text/x-python",
   "name": "python",
   "nbconvert_exporter": "python",
   "pygments_lexer": "ipython3",
   "version": "3.6.7"
  }
 },
 "nbformat": 4,
 "nbformat_minor": 2
}
