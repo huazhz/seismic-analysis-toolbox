{
 "cells": [
  {
   "cell_type": "code",
   "execution_count": 1,
   "metadata": {},
   "outputs": [],
   "source": [
    "import matplotlib\n",
    "\n",
    "# Memory leak with Matplotlib when in interactive mode and writing 1000+ plots\n",
    "matplotlib.use('agg')\n",
    "matplotlib.interactive(False)\n",
    "\n",
    "import obspy, os, glob\n",
    "\n",
    "CSV = 'Benz_catalog.csv' # 'OK_2014-2015-2016.csv' # \n",
    "FOLDER_NAME = 'benz_monthly'\n",
    "\n",
    "# In seconds\n",
    "DURATION = 20 \n",
    "\n",
    "# Seconds before event\n",
    "PRE_PADDING = 10\n",
    "\n",
    "# Seconds after event\n",
    "POST_PADDING = 10\n",
    "\n",
    "DATA_PATH = os.path.join(os.getcwd(), 'data')\n",
    "SPECTROGRAM_PATH = os.path.join(os.getcwd(), f'spectrograms/{FOLDER_NAME}')\n",
    "\n",
    "stream_paths = glob.glob(os.path.join(DATA_PATH, 'train_mseed/*.mseed'))"
   ]
  },
  {
   "cell_type": "code",
   "execution_count": 2,
   "metadata": {},
   "outputs": [],
   "source": [
    "# IMPORT SEISMIC TOOLBOX CODE\n",
    "import sys\n",
    "sys.path.insert(0, '/data/seismic_toolbox')"
   ]
  },
  {
   "cell_type": "code",
   "execution_count": 3,
   "metadata": {},
   "outputs": [],
   "source": [
    "import seismic_code.spectrograms as spectro\n",
    "import seismic_code.filter as filt\n",
    "from seismic_code import helpers\n",
    "from seismic_code.spectrograms import write_spectrogram"
   ]
  },
  {
   "cell_type": "code",
   "execution_count": 4,
   "metadata": {},
   "outputs": [],
   "source": [
    "from pathlib import Path\n",
    "from datetime import date\n",
    "from collections import defaultdict\n",
    "from obspy import read\n",
    "\n",
    "class StreamPath:\n",
    "    def __init__(self, path):\n",
    "        self.raw_path = path\n",
    "        self.path = Path(path)\n",
    "        self.station = self.path.parts[-1].split('_')[0]\n",
    "        date_str = self.path.parts[-1].split('_')[1].replace('.mseed', \"\")\n",
    "        month, year = date_str.split('-')\n",
    "        self.date_start = date(int(year), int(month), day=1)\n",
    "        \n",
    "    def load(self):\n",
    "        \"\"\" Loads a stream from the path \"\"\"\n",
    "        return read(self.raw_path)\n",
    "        \n",
    "    def __str__(self):\n",
    "        return self.raw_path\n",
    "    \n",
    "paths = list(map(StreamPath, stream_paths))\n",
    "s1_date_paths = {stream.date_start: stream for stream in paths if stream.station == 'GSOK029'}"
   ]
  },
  {
   "cell_type": "code",
   "execution_count": 5,
   "metadata": {},
   "outputs": [],
   "source": [
    "from obspy import Stream\n",
    "from operator import add\n",
    "from functools import reduce\n",
    "from obspy import read\n",
    "\n",
    "# Combine all streams into one\n",
    "# stream = reduce(add, map(read, stream_paths))"
   ]
  },
  {
   "cell_type": "code",
   "execution_count": 6,
   "metadata": {},
   "outputs": [],
   "source": [
    "import pandas as pd\n",
    "\n",
    "quake_csv = pd.read_csv(os.path.join(DATA_PATH, CSV))"
   ]
  },
  {
   "cell_type": "code",
   "execution_count": 7,
   "metadata": {},
   "outputs": [
    {
     "data": {
      "text/html": [
       "<div>\n",
       "<style scoped>\n",
       "    .dataframe tbody tr th:only-of-type {\n",
       "        vertical-align: middle;\n",
       "    }\n",
       "\n",
       "    .dataframe tbody tr th {\n",
       "        vertical-align: top;\n",
       "    }\n",
       "\n",
       "    .dataframe thead th {\n",
       "        text-align: right;\n",
       "    }\n",
       "</style>\n",
       "<table border=\"1\" class=\"dataframe\">\n",
       "  <thead>\n",
       "    <tr style=\"text-align: right;\">\n",
       "      <th></th>\n",
       "      <th>EventNum</th>\n",
       "      <th>Date</th>\n",
       "      <th>Time</th>\n",
       "      <th>Magnitude</th>\n",
       "      <th>Variance</th>\n",
       "      <th>origintime</th>\n",
       "      <th>utc_timestamp</th>\n",
       "    </tr>\n",
       "  </thead>\n",
       "  <tbody>\n",
       "    <tr>\n",
       "      <th>0</th>\n",
       "      <td>0</td>\n",
       "      <td>02/15/2014</td>\n",
       "      <td>00:02:41</td>\n",
       "      <td>0.37</td>\n",
       "      <td>0.95</td>\n",
       "      <td>2014-02-15T00:02:41.000000Z</td>\n",
       "      <td>1.392423e+09</td>\n",
       "    </tr>\n",
       "    <tr>\n",
       "      <th>1</th>\n",
       "      <td>1</td>\n",
       "      <td>02/15/2014</td>\n",
       "      <td>00:03:45</td>\n",
       "      <td>-0.44</td>\n",
       "      <td>0.86</td>\n",
       "      <td>2014-02-15T00:03:45.000000Z</td>\n",
       "      <td>1.392423e+09</td>\n",
       "    </tr>\n",
       "    <tr>\n",
       "      <th>2</th>\n",
       "      <td>2</td>\n",
       "      <td>02/15/2014</td>\n",
       "      <td>00:08:07</td>\n",
       "      <td>-0.18</td>\n",
       "      <td>0.93</td>\n",
       "      <td>2014-02-15T00:08:07.000000Z</td>\n",
       "      <td>1.392423e+09</td>\n",
       "    </tr>\n",
       "    <tr>\n",
       "      <th>3</th>\n",
       "      <td>3</td>\n",
       "      <td>02/15/2014</td>\n",
       "      <td>00:12:52</td>\n",
       "      <td>0.10</td>\n",
       "      <td>0.93</td>\n",
       "      <td>2014-02-15T00:12:52.000000Z</td>\n",
       "      <td>1.392423e+09</td>\n",
       "    </tr>\n",
       "    <tr>\n",
       "      <th>4</th>\n",
       "      <td>4</td>\n",
       "      <td>02/15/2014</td>\n",
       "      <td>00:14:09</td>\n",
       "      <td>-0.47</td>\n",
       "      <td>0.89</td>\n",
       "      <td>2014-02-15T00:14:09.000000Z</td>\n",
       "      <td>1.392423e+09</td>\n",
       "    </tr>\n",
       "  </tbody>\n",
       "</table>\n",
       "</div>"
      ],
      "text/plain": [
       "   EventNum        Date      Time  Magnitude  Variance  \\\n",
       "0         0  02/15/2014  00:02:41       0.37      0.95   \n",
       "1         1  02/15/2014  00:03:45      -0.44      0.86   \n",
       "2         2  02/15/2014  00:08:07      -0.18      0.93   \n",
       "3         3  02/15/2014  00:12:52       0.10      0.93   \n",
       "4         4  02/15/2014  00:14:09      -0.47      0.89   \n",
       "\n",
       "                    origintime  utc_timestamp  \n",
       "0  2014-02-15T00:02:41.000000Z   1.392423e+09  \n",
       "1  2014-02-15T00:03:45.000000Z   1.392423e+09  \n",
       "2  2014-02-15T00:08:07.000000Z   1.392423e+09  \n",
       "3  2014-02-15T00:12:52.000000Z   1.392423e+09  \n",
       "4  2014-02-15T00:14:09.000000Z   1.392423e+09  "
      ]
     },
     "execution_count": 7,
     "metadata": {},
     "output_type": "execute_result"
    }
   ],
   "source": [
    "def change_column_name(df, column_index, new_name):\n",
    "    columns = df.columns.values\n",
    "    columns[column_index] = new_name\n",
    "    df.columns = columns\n",
    "    \n",
    "change_column_name(quake_csv, 0, 'EventNum')\n",
    "\n",
    "quake_csv.head()"
   ]
  },
  {
   "cell_type": "code",
   "execution_count": 8,
   "metadata": {},
   "outputs": [],
   "source": [
    "from itertools import islice\n",
    "from obspy import UTCDateTime\n",
    "\n",
    "def gen_row_date(df):\n",
    "    for index, row in df.iterrows():\n",
    "        year, month, day = row.origintime[:10].split('-')\n",
    "        yield date(int(year), int(month), day=1), row\n",
    "        \n",
    "        \n",
    "def gen_filter_waves(df, date_paths, pre_padding=PRE_PADDING, post_padding=POST_PADDING):\n",
    "    curr_date = None\n",
    "    stream = None\n",
    "\n",
    "    for dat, row in gen_row_date(df):\n",
    "        if dat != curr_date:\n",
    "            try:\n",
    "                stream_path = date_paths[dat]\n",
    "            except KeyError:\n",
    "                print(f\"{dat} not in the stream_path\")\n",
    "                continue\n",
    "                \n",
    "            stream = stream_path.load()\n",
    "            curr_date = dat\n",
    "            \n",
    "        # Start PRE_PADDING before event_time, end POST_PADDING after event_time\n",
    "        yield filt.filter_waveform(stream, UTCDateTime(row.origintime), pre_padding, post_padding)\n",
    "        \n",
    "def gen_filter_waves_from_times(times, date_paths, pre_padding=PRE_PADDING, post_padding=POST_PADDING):\n",
    "    curr_date = None\n",
    "    stream = None\n",
    "    i = 0\n",
    "    for time in times:\n",
    "        dat = date(int(time.year), int(time.month), day=1)\n",
    "        if dat != curr_date:\n",
    "            try:\n",
    "                stream_path = date_paths[dat]\n",
    "            except KeyError:\n",
    "                print(f\"{dat} not in the stream_path ({i})\", end='\\r')\n",
    "                i += 1\n",
    "                continue\n",
    "                \n",
    "            stream = stream_path.load()\n",
    "            curr_date = dat\n",
    "            \n",
    "        # Start PRE_PADDING before event_time, end POST_PADDING after event_time\n",
    "        yield filt.filter_waveform(stream, time, pre_padding, post_padding)\n"
   ]
  },
  {
   "cell_type": "code",
   "execution_count": 9,
   "metadata": {},
   "outputs": [],
   "source": [
    "date_paths = s1_date_paths\n",
    "amount_quakes = None   # Write all events if None\n",
    "amount_noise = 10000   # Per month"
   ]
  },
  {
   "cell_type": "code",
   "execution_count": 10,
   "metadata": {},
   "outputs": [],
   "source": [
    "import warnings"
   ]
  },
  {
   "cell_type": "markdown",
   "metadata": {},
   "source": [
    "### Create Paths for Each Month"
   ]
  },
  {
   "cell_type": "code",
   "execution_count": 11,
   "metadata": {},
   "outputs": [],
   "source": [
    "quake_csv['Date'] = pd.to_datetime(quake_csv['Date'])"
   ]
  },
  {
   "cell_type": "code",
   "execution_count": 12,
   "metadata": {},
   "outputs": [],
   "source": [
    "unique_months = quake_csv['Date'].dt.strftime(\"%m/%y\").unique().tolist()"
   ]
  },
  {
   "cell_type": "code",
   "execution_count": 13,
   "metadata": {},
   "outputs": [],
   "source": [
    "date_selector = lambda month_year: quake_csv['Date'].dt.strftime(\"%m/%y\") == month_year"
   ]
  },
  {
   "cell_type": "code",
   "execution_count": 14,
   "metadata": {},
   "outputs": [],
   "source": [
    "# The first month is not complete, so discard\n",
    "# Delete months you don't want\n",
    "del unique_months[0]"
   ]
  },
  {
   "cell_type": "code",
   "execution_count": 16,
   "metadata": {},
   "outputs": [],
   "source": [
    "del unique_months[:3]"
   ]
  },
  {
   "cell_type": "code",
   "execution_count": 17,
   "metadata": {},
   "outputs": [
    {
     "data": {
      "text/plain": [
       "['06/14', '07/14', '08/14']"
      ]
     },
     "execution_count": 17,
     "metadata": {},
     "output_type": "execute_result"
    }
   ],
   "source": [
    "unique_months"
   ]
  },
  {
   "cell_type": "markdown",
   "metadata": {},
   "source": [
    "### Write Quakes"
   ]
  },
  {
   "cell_type": "code",
   "execution_count": 18,
   "metadata": {},
   "outputs": [
    {
     "name": "stdout",
     "output_type": "stream",
     "text": [
      "Writing Files...\n"
     ]
    },
    {
     "ename": "KeyboardInterrupt",
     "evalue": "",
     "output_type": "error",
     "traceback": [
      "\u001b[0;31m---------------------------------------------------------------------------\u001b[0m",
      "\u001b[0;31mKeyboardInterrupt\u001b[0m                         Traceback (most recent call last)",
      "\u001b[0;32m<ipython-input-18-4d4e221ab8fb>\u001b[0m in \u001b[0;36m<module>\u001b[0;34m\u001b[0m\n\u001b[1;32m      6\u001b[0m         \u001b[0mcsv\u001b[0m \u001b[0;34m=\u001b[0m \u001b[0mquake_csv\u001b[0m\u001b[0;34m[\u001b[0m\u001b[0mdate_selector\u001b[0m\u001b[0;34m(\u001b[0m\u001b[0mmonth_year\u001b[0m\u001b[0;34m)\u001b[0m\u001b[0;34m]\u001b[0m\u001b[0;34m\u001b[0m\u001b[0;34m\u001b[0m\u001b[0m\n\u001b[1;32m      7\u001b[0m         \u001b[0mquake_waves\u001b[0m \u001b[0;34m=\u001b[0m \u001b[0mgen_filter_waves\u001b[0m\u001b[0;34m(\u001b[0m\u001b[0mcsv\u001b[0m\u001b[0;34m,\u001b[0m \u001b[0mdate_paths\u001b[0m\u001b[0;34m)\u001b[0m\u001b[0;34m\u001b[0m\u001b[0;34m\u001b[0m\u001b[0m\n\u001b[0;32m----> 8\u001b[0;31m         \u001b[0mspectro\u001b[0m\u001b[0;34m.\u001b[0m\u001b[0masync_write_spectrograms\u001b[0m\u001b[0;34m(\u001b[0m\u001b[0mislice\u001b[0m\u001b[0;34m(\u001b[0m\u001b[0mquake_waves\u001b[0m\u001b[0;34m,\u001b[0m \u001b[0mamount_quakes\u001b[0m\u001b[0;34m)\u001b[0m\u001b[0;34m,\u001b[0m \u001b[0mpath\u001b[0m\u001b[0;34m,\u001b[0m \u001b[0mignoreexceptions\u001b[0m\u001b[0;34m=\u001b[0m\u001b[0;32mTrue\u001b[0m\u001b[0;34m,\u001b[0m \u001b[0mwrite_streams\u001b[0m\u001b[0;34m=\u001b[0m\u001b[0;32mTrue\u001b[0m\u001b[0;34m)\u001b[0m\u001b[0;34m\u001b[0m\u001b[0;34m\u001b[0m\u001b[0m\n\u001b[0m",
      "\u001b[0;32m/data/seismic_toolbox/seismic_code/spectrograms.py\u001b[0m in \u001b[0;36masync_write_spectrograms\u001b[0;34m(waveforms, path, startat, ignoreexceptions, write_streams)\u001b[0m\n\u001b[1;32m    118\u001b[0m \u001b[0;34m\u001b[0m\u001b[0m\n\u001b[1;32m    119\u001b[0m     \u001b[0;31m# Prep the file paths\u001b[0m\u001b[0;34m\u001b[0m\u001b[0;34m\u001b[0m\u001b[0;34m\u001b[0m\u001b[0m\n\u001b[0;32m--> 120\u001b[0;31m     \u001b[0;32mfor\u001b[0m \u001b[0mi\u001b[0m\u001b[0;34m,\u001b[0m \u001b[0mstream\u001b[0m \u001b[0;32min\u001b[0m \u001b[0menumerate\u001b[0m\u001b[0;34m(\u001b[0m\u001b[0mwaveforms\u001b[0m\u001b[0;34m,\u001b[0m \u001b[0mstartat\u001b[0m\u001b[0;34m)\u001b[0m\u001b[0;34m:\u001b[0m\u001b[0;34m\u001b[0m\u001b[0;34m\u001b[0m\u001b[0m\n\u001b[0m\u001b[1;32m    121\u001b[0m         \u001b[0mdir_path\u001b[0m \u001b[0;34m=\u001b[0m \u001b[0mos\u001b[0m\u001b[0;34m.\u001b[0m\u001b[0mpath\u001b[0m\u001b[0;34m.\u001b[0m\u001b[0mjoin\u001b[0m\u001b[0;34m(\u001b[0m\u001b[0mpath\u001b[0m\u001b[0;34m,\u001b[0m \u001b[0mstr\u001b[0m\u001b[0;34m(\u001b[0m\u001b[0mi\u001b[0m\u001b[0;34m)\u001b[0m\u001b[0;34m)\u001b[0m\u001b[0;34m\u001b[0m\u001b[0;34m\u001b[0m\u001b[0m\n\u001b[1;32m    122\u001b[0m         \u001b[0mcreate_directory\u001b[0m\u001b[0;34m(\u001b[0m\u001b[0mdir_path\u001b[0m\u001b[0;34m)\u001b[0m\u001b[0;34m\u001b[0m\u001b[0;34m\u001b[0m\u001b[0m\n",
      "\u001b[0;32m<ipython-input-8-4e6813133898>\u001b[0m in \u001b[0;36mgen_filter_waves\u001b[0;34m(df, date_paths, pre_padding, post_padding)\u001b[0m\n\u001b[1;32m     20\u001b[0m                 \u001b[0;32mcontinue\u001b[0m\u001b[0;34m\u001b[0m\u001b[0;34m\u001b[0m\u001b[0m\n\u001b[1;32m     21\u001b[0m \u001b[0;34m\u001b[0m\u001b[0m\n\u001b[0;32m---> 22\u001b[0;31m             \u001b[0mstream\u001b[0m \u001b[0;34m=\u001b[0m \u001b[0mstream_path\u001b[0m\u001b[0;34m.\u001b[0m\u001b[0mload\u001b[0m\u001b[0;34m(\u001b[0m\u001b[0;34m)\u001b[0m\u001b[0;34m\u001b[0m\u001b[0;34m\u001b[0m\u001b[0m\n\u001b[0m\u001b[1;32m     23\u001b[0m             \u001b[0mcurr_date\u001b[0m \u001b[0;34m=\u001b[0m \u001b[0mdat\u001b[0m\u001b[0;34m\u001b[0m\u001b[0;34m\u001b[0m\u001b[0m\n\u001b[1;32m     24\u001b[0m \u001b[0;34m\u001b[0m\u001b[0m\n",
      "\u001b[0;32m<ipython-input-4-8603ee5b7933>\u001b[0m in \u001b[0;36mload\u001b[0;34m(self)\u001b[0m\n\u001b[1;32m     15\u001b[0m     \u001b[0;32mdef\u001b[0m \u001b[0mload\u001b[0m\u001b[0;34m(\u001b[0m\u001b[0mself\u001b[0m\u001b[0;34m)\u001b[0m\u001b[0;34m:\u001b[0m\u001b[0;34m\u001b[0m\u001b[0;34m\u001b[0m\u001b[0m\n\u001b[1;32m     16\u001b[0m         \u001b[0;34m\"\"\" Loads a stream from the path \"\"\"\u001b[0m\u001b[0;34m\u001b[0m\u001b[0;34m\u001b[0m\u001b[0m\n\u001b[0;32m---> 17\u001b[0;31m         \u001b[0;32mreturn\u001b[0m \u001b[0mread\u001b[0m\u001b[0;34m(\u001b[0m\u001b[0mself\u001b[0m\u001b[0;34m.\u001b[0m\u001b[0mraw_path\u001b[0m\u001b[0;34m)\u001b[0m\u001b[0;34m\u001b[0m\u001b[0;34m\u001b[0m\u001b[0m\n\u001b[0m\u001b[1;32m     18\u001b[0m \u001b[0;34m\u001b[0m\u001b[0m\n\u001b[1;32m     19\u001b[0m     \u001b[0;32mdef\u001b[0m \u001b[0m__str__\u001b[0m\u001b[0;34m(\u001b[0m\u001b[0mself\u001b[0m\u001b[0;34m)\u001b[0m\u001b[0;34m:\u001b[0m\u001b[0;34m\u001b[0m\u001b[0;34m\u001b[0m\u001b[0m\n",
      "\u001b[0;32m<decorator-gen-155>\u001b[0m in \u001b[0;36mread\u001b[0;34m(pathname_or_url, format, headonly, starttime, endtime, nearest_sample, dtype, apply_calib, check_compression, **kwargs)\u001b[0m\n",
      "\u001b[0;32m/opt/conda/lib/python3.7/site-packages/obspy/core/util/decorator.py\u001b[0m in \u001b[0;36m_map_example_filename\u001b[0;34m(func, *args, **kwargs)\u001b[0m\n\u001b[1;32m    299\u001b[0m                         \u001b[0;32mexcept\u001b[0m \u001b[0mIOError\u001b[0m\u001b[0;34m:\u001b[0m\u001b[0;34m\u001b[0m\u001b[0;34m\u001b[0m\u001b[0m\n\u001b[1;32m    300\u001b[0m                             \u001b[0;32mpass\u001b[0m\u001b[0;34m\u001b[0m\u001b[0;34m\u001b[0m\u001b[0m\n\u001b[0;32m--> 301\u001b[0;31m         \u001b[0;32mreturn\u001b[0m \u001b[0mfunc\u001b[0m\u001b[0;34m(\u001b[0m\u001b[0;34m*\u001b[0m\u001b[0margs\u001b[0m\u001b[0;34m,\u001b[0m \u001b[0;34m**\u001b[0m\u001b[0mkwargs\u001b[0m\u001b[0;34m)\u001b[0m\u001b[0;34m\u001b[0m\u001b[0;34m\u001b[0m\u001b[0m\n\u001b[0m\u001b[1;32m    302\u001b[0m     \u001b[0;32mreturn\u001b[0m \u001b[0m_map_example_filename\u001b[0m\u001b[0;34m\u001b[0m\u001b[0;34m\u001b[0m\u001b[0m\n\u001b[1;32m    303\u001b[0m \u001b[0;34m\u001b[0m\u001b[0m\n",
      "\u001b[0;32m/opt/conda/lib/python3.7/site-packages/obspy/core/stream.py\u001b[0m in \u001b[0;36mread\u001b[0;34m(pathname_or_url, format, headonly, starttime, endtime, nearest_sample, dtype, apply_calib, check_compression, **kwargs)\u001b[0m\n\u001b[1;32m    233\u001b[0m         \u001b[0mpathname\u001b[0m \u001b[0;34m=\u001b[0m \u001b[0mpathname_or_url\u001b[0m\u001b[0;34m\u001b[0m\u001b[0;34m\u001b[0m\u001b[0m\n\u001b[1;32m    234\u001b[0m         \u001b[0;32mfor\u001b[0m \u001b[0mfile\u001b[0m \u001b[0;32min\u001b[0m \u001b[0msorted\u001b[0m\u001b[0;34m(\u001b[0m\u001b[0mglob\u001b[0m\u001b[0;34m(\u001b[0m\u001b[0mpathname\u001b[0m\u001b[0;34m)\u001b[0m\u001b[0;34m)\u001b[0m\u001b[0;34m:\u001b[0m\u001b[0;34m\u001b[0m\u001b[0;34m\u001b[0m\u001b[0m\n\u001b[0;32m--> 235\u001b[0;31m             \u001b[0mst\u001b[0m\u001b[0;34m.\u001b[0m\u001b[0mextend\u001b[0m\u001b[0;34m(\u001b[0m\u001b[0m_read\u001b[0m\u001b[0;34m(\u001b[0m\u001b[0mfile\u001b[0m\u001b[0;34m,\u001b[0m \u001b[0mformat\u001b[0m\u001b[0;34m,\u001b[0m \u001b[0mheadonly\u001b[0m\u001b[0;34m,\u001b[0m \u001b[0;34m**\u001b[0m\u001b[0mkwargs\u001b[0m\u001b[0;34m)\u001b[0m\u001b[0;34m.\u001b[0m\u001b[0mtraces\u001b[0m\u001b[0;34m)\u001b[0m\u001b[0;34m\u001b[0m\u001b[0;34m\u001b[0m\u001b[0m\n\u001b[0m\u001b[1;32m    236\u001b[0m         \u001b[0;32mif\u001b[0m \u001b[0mlen\u001b[0m\u001b[0;34m(\u001b[0m\u001b[0mst\u001b[0m\u001b[0;34m)\u001b[0m \u001b[0;34m==\u001b[0m \u001b[0;36m0\u001b[0m\u001b[0;34m:\u001b[0m\u001b[0;34m\u001b[0m\u001b[0;34m\u001b[0m\u001b[0m\n\u001b[1;32m    237\u001b[0m             \u001b[0;31m# try to give more specific information why the stream is empty\u001b[0m\u001b[0;34m\u001b[0m\u001b[0;34m\u001b[0m\u001b[0;34m\u001b[0m\u001b[0m\n",
      "\u001b[0;32m<decorator-gen-156>\u001b[0m in \u001b[0;36m_read\u001b[0;34m(filename, format, headonly, **kwargs)\u001b[0m\n",
      "\u001b[0;32m/opt/conda/lib/python3.7/site-packages/obspy/core/util/decorator.py\u001b[0m in \u001b[0;36muncompress_file\u001b[0;34m(func, filename, *args, **kwargs)\u001b[0m\n\u001b[1;32m    209\u001b[0m     \u001b[0;32melse\u001b[0m\u001b[0;34m:\u001b[0m\u001b[0;34m\u001b[0m\u001b[0;34m\u001b[0m\u001b[0m\n\u001b[1;32m    210\u001b[0m         \u001b[0;31m# no compressions\u001b[0m\u001b[0;34m\u001b[0m\u001b[0;34m\u001b[0m\u001b[0;34m\u001b[0m\u001b[0m\n\u001b[0;32m--> 211\u001b[0;31m         \u001b[0mresult\u001b[0m \u001b[0;34m=\u001b[0m \u001b[0mfunc\u001b[0m\u001b[0;34m(\u001b[0m\u001b[0mfilename\u001b[0m\u001b[0;34m,\u001b[0m \u001b[0;34m*\u001b[0m\u001b[0margs\u001b[0m\u001b[0;34m,\u001b[0m \u001b[0;34m**\u001b[0m\u001b[0mkwargs\u001b[0m\u001b[0;34m)\u001b[0m\u001b[0;34m\u001b[0m\u001b[0;34m\u001b[0m\u001b[0m\n\u001b[0m\u001b[1;32m    212\u001b[0m     \u001b[0;32mreturn\u001b[0m \u001b[0mresult\u001b[0m\u001b[0;34m\u001b[0m\u001b[0;34m\u001b[0m\u001b[0m\n\u001b[1;32m    213\u001b[0m \u001b[0;34m\u001b[0m\u001b[0m\n",
      "\u001b[0;32m/opt/conda/lib/python3.7/site-packages/obspy/core/stream.py\u001b[0m in \u001b[0;36m_read\u001b[0;34m(filename, format, headonly, **kwargs)\u001b[0m\n\u001b[1;32m    275\u001b[0m     \"\"\"\n\u001b[1;32m    276\u001b[0m     stream, format = _read_from_plugin('waveform', filename, format=format,\n\u001b[0;32m--> 277\u001b[0;31m                                        headonly=headonly, **kwargs)\n\u001b[0m\u001b[1;32m    278\u001b[0m     \u001b[0;31m# set _format identifier for each element\u001b[0m\u001b[0;34m\u001b[0m\u001b[0;34m\u001b[0m\u001b[0;34m\u001b[0m\u001b[0m\n\u001b[1;32m    279\u001b[0m     \u001b[0;32mfor\u001b[0m \u001b[0mtrace\u001b[0m \u001b[0;32min\u001b[0m \u001b[0mstream\u001b[0m\u001b[0;34m:\u001b[0m\u001b[0;34m\u001b[0m\u001b[0;34m\u001b[0m\u001b[0m\n",
      "\u001b[0;32m/opt/conda/lib/python3.7/site-packages/obspy/core/util/base.py\u001b[0m in \u001b[0;36m_read_from_plugin\u001b[0;34m(plugin_type, filename, format, **kwargs)\u001b[0m\n\u001b[1;32m    457\u001b[0m         \u001b[0;32mraise\u001b[0m \u001b[0mTypeError\u001b[0m\u001b[0;34m(\u001b[0m\u001b[0mmsg\u001b[0m \u001b[0;34m%\u001b[0m \u001b[0;34m(\u001b[0m\u001b[0mformat_ep\u001b[0m\u001b[0;34m.\u001b[0m\u001b[0mname\u001b[0m\u001b[0;34m,\u001b[0m \u001b[0;34m', '\u001b[0m\u001b[0;34m.\u001b[0m\u001b[0mjoin\u001b[0m\u001b[0;34m(\u001b[0m\u001b[0meps\u001b[0m\u001b[0;34m)\u001b[0m\u001b[0;34m)\u001b[0m\u001b[0;34m)\u001b[0m\u001b[0;34m\u001b[0m\u001b[0;34m\u001b[0m\u001b[0m\n\u001b[1;32m    458\u001b[0m     \u001b[0;31m# read\u001b[0m\u001b[0;34m\u001b[0m\u001b[0;34m\u001b[0m\u001b[0;34m\u001b[0m\u001b[0m\n\u001b[0;32m--> 459\u001b[0;31m     \u001b[0mlist_obj\u001b[0m \u001b[0;34m=\u001b[0m \u001b[0mread_format\u001b[0m\u001b[0;34m(\u001b[0m\u001b[0mfilename\u001b[0m\u001b[0;34m,\u001b[0m \u001b[0;34m**\u001b[0m\u001b[0mkwargs\u001b[0m\u001b[0;34m)\u001b[0m\u001b[0;34m\u001b[0m\u001b[0;34m\u001b[0m\u001b[0m\n\u001b[0m\u001b[1;32m    460\u001b[0m     \u001b[0;32mreturn\u001b[0m \u001b[0mlist_obj\u001b[0m\u001b[0;34m,\u001b[0m \u001b[0mformat_ep\u001b[0m\u001b[0;34m.\u001b[0m\u001b[0mname\u001b[0m\u001b[0;34m\u001b[0m\u001b[0;34m\u001b[0m\u001b[0m\n\u001b[1;32m    461\u001b[0m \u001b[0;34m\u001b[0m\u001b[0m\n",
      "\u001b[0;32m/opt/conda/lib/python3.7/site-packages/obspy/io/mseed/core.py\u001b[0m in \u001b[0;36m_read_mseed\u001b[0;34m(mseed_object, starttime, endtime, headonly, sourcename, reclen, details, header_byteorder, verbose, **kwargs)\u001b[0m\n\u001b[1;32m    309\u001b[0m     \u001b[0;32mif\u001b[0m \u001b[0misinstance\u001b[0m\u001b[0;34m(\u001b[0m\u001b[0mmseed_object\u001b[0m\u001b[0;34m,\u001b[0m \u001b[0;34m(\u001b[0m\u001b[0mstr\u001b[0m\u001b[0;34m,\u001b[0m \u001b[0mnative_str\u001b[0m\u001b[0;34m)\u001b[0m\u001b[0;34m)\u001b[0m\u001b[0;34m:\u001b[0m\u001b[0;34m\u001b[0m\u001b[0;34m\u001b[0m\u001b[0m\n\u001b[1;32m    310\u001b[0m         \u001b[0;31m# Read to NumPy array which is used as a buffer.\u001b[0m\u001b[0;34m\u001b[0m\u001b[0;34m\u001b[0m\u001b[0;34m\u001b[0m\u001b[0m\n\u001b[0;32m--> 311\u001b[0;31m         \u001b[0mbfr_np\u001b[0m \u001b[0;34m=\u001b[0m \u001b[0mnp\u001b[0m\u001b[0;34m.\u001b[0m\u001b[0mfromfile\u001b[0m\u001b[0;34m(\u001b[0m\u001b[0mmseed_object\u001b[0m\u001b[0;34m,\u001b[0m \u001b[0mdtype\u001b[0m\u001b[0;34m=\u001b[0m\u001b[0mnp\u001b[0m\u001b[0;34m.\u001b[0m\u001b[0mint8\u001b[0m\u001b[0;34m)\u001b[0m\u001b[0;34m\u001b[0m\u001b[0;34m\u001b[0m\u001b[0m\n\u001b[0m\u001b[1;32m    312\u001b[0m     \u001b[0;32melif\u001b[0m \u001b[0mhasattr\u001b[0m\u001b[0;34m(\u001b[0m\u001b[0mmseed_object\u001b[0m\u001b[0;34m,\u001b[0m \u001b[0;34m'read'\u001b[0m\u001b[0;34m)\u001b[0m\u001b[0;34m:\u001b[0m\u001b[0;34m\u001b[0m\u001b[0;34m\u001b[0m\u001b[0m\n\u001b[1;32m    313\u001b[0m         \u001b[0mbfr_np\u001b[0m \u001b[0;34m=\u001b[0m \u001b[0mfrom_buffer\u001b[0m\u001b[0;34m(\u001b[0m\u001b[0mmseed_object\u001b[0m\u001b[0;34m.\u001b[0m\u001b[0mread\u001b[0m\u001b[0;34m(\u001b[0m\u001b[0;34m)\u001b[0m\u001b[0;34m,\u001b[0m \u001b[0mdtype\u001b[0m\u001b[0;34m=\u001b[0m\u001b[0mnp\u001b[0m\u001b[0;34m.\u001b[0m\u001b[0mint8\u001b[0m\u001b[0;34m)\u001b[0m\u001b[0;34m\u001b[0m\u001b[0;34m\u001b[0m\u001b[0m\n",
      "\u001b[0;31mKeyboardInterrupt\u001b[0m: "
     ]
    }
   ],
   "source": [
    "with warnings.catch_warnings():   \n",
    "    warnings.simplefilter(\"ignore\")\n",
    "    \n",
    "    for month_year in unique_months:\n",
    "        path = os.path.join(os.path.join(SPECTROGRAM_PATH, month_year.replace('/', '-')), 'local')\n",
    "        csv = quake_csv[date_selector(month_year)]\n",
    "        quake_waves = gen_filter_waves(csv, date_paths)\n",
    "        spectro.async_write_spectrograms(islice(quake_waves, amount_quakes), path, ignoreexceptions=True, write_streams=True)"
   ]
  },
  {
   "cell_type": "markdown",
   "metadata": {},
   "source": [
    "### Write Noise"
   ]
  },
  {
   "cell_type": "code",
   "execution_count": 19,
   "metadata": {},
   "outputs": [],
   "source": [
    "def get_csv_times(df):\n",
    "    times = df[['origintime']]\n",
    "    for row in times.iterrows():\n",
    "        time = row[1].origintime\n",
    "        yield UTCDateTime(time)"
   ]
  },
  {
   "cell_type": "code",
   "execution_count": 20,
   "metadata": {},
   "outputs": [],
   "source": [
    "# Noise times centers around the given time by default... so pad X seconds in each direction\n",
    "noise_pad = DURATION / 2"
   ]
  },
  {
   "cell_type": "code",
   "execution_count": 21,
   "metadata": {},
   "outputs": [
    {
     "name": "stdout",
     "output_type": "stream",
     "text": [
      "Writing Files...\n",
      "\n",
      "Wrote Files\n",
      "Writing Files...\n",
      "2014-07-01 not in the stream_path (9999)\n",
      "Wrote Files\n",
      "Writing Files...\n",
      "\n",
      "Wrote Files\n"
     ]
    }
   ],
   "source": [
    "with warnings.catch_warnings():   \n",
    "    warnings.simplefilter(\"ignore\")\n",
    "    \n",
    "    for month_year in unique_months:\n",
    "        path = os.path.join(os.path.join(SPECTROGRAM_PATH, month_year.replace('/', '-')), 'noise')\n",
    "        csv = quake_csv[date_selector(month_year)]\n",
    "        \n",
    "        # Choose noise times only from the month\n",
    "        csv_month = quake_csv[date_selector(month_year)]\n",
    "        times = sorted(get_csv_times(csv_month))\n",
    "        noise_times = helpers.get_noise_times(times_to_exclude=times, \n",
    "                                              startafter=times[0], \n",
    "                                              endbefore=times[-1],\n",
    "                                              amount=amount_noise, \n",
    "                                              duration=DURATION)\n",
    "        noise_times = sorted(noise_times)  # important, to make lazy_loading the streams better for the next function        noise_waves = gen_filter_waves_from_times(noise_times, date_paths, noise_pad, noise_pad)\n",
    "        noise_waves = gen_filter_waves_from_times(noise_times, date_paths, noise_pad, noise_pad)\n",
    "        \n",
    "        # Write\n",
    "        spectro.async_write_spectrograms(noise_waves, path, ignoreexceptions=False, write_streams=True)"
   ]
  },
  {
   "cell_type": "markdown",
   "metadata": {},
   "source": [
    "### Clean Up"
   ]
  },
  {
   "cell_type": "code",
   "execution_count": 6,
   "metadata": {},
   "outputs": [],
   "source": [
    "def clean_up(path):\n",
    "    \"\"\" Removes empty dirs \"\"\"\n",
    "    folders = glob.glob(os.path.join(path, '*/*/*/'))\n",
    "    i = 0\n",
    "    for folder in folders:\n",
    "        if not os.listdir(folder):\n",
    "            os.rmdir(folder)\n",
    "            \n",
    "             \n",
    "\n",
    "clean_up(SPECTROGRAM_PATH)\n"
   ]
  },
  {
   "cell_type": "code",
   "execution_count": null,
   "metadata": {},
   "outputs": [],
   "source": []
  }
 ],
 "metadata": {
  "kernelspec": {
   "display_name": "Python 3",
   "language": "python",
   "name": "python3"
  },
  "language_info": {
   "codemirror_mode": {
    "name": "ipython",
    "version": 3
   },
   "file_extension": ".py",
   "mimetype": "text/x-python",
   "name": "python",
   "nbconvert_exporter": "python",
   "pygments_lexer": "ipython3",
   "version": "3.7.3"
  }
 },
 "nbformat": 4,
 "nbformat_minor": 2
}
