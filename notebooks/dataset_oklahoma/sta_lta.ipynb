{
 "cells": [
  {
   "cell_type": "code",
   "execution_count": 1,
   "metadata": {},
   "outputs": [],
   "source": [
    "stream_path = 'data/train_mseed/GSOK029_8-2014.mseed'"
   ]
  },
  {
   "cell_type": "code",
   "execution_count": 2,
   "metadata": {},
   "outputs": [],
   "source": [
    "from obspy import read\n",
    "stream = read(stream_path)"
   ]
  },
  {
   "cell_type": "code",
   "execution_count": 4,
   "metadata": {},
   "outputs": [],
   "source": [
    "sr =  stream[0].stats.sampling_rate"
   ]
  },
  {
   "cell_type": "code",
   "execution_count": 5,
   "metadata": {},
   "outputs": [],
   "source": [
    "# STA / LTA params\n",
    "freqmin = 1\n",
    "freqmax = 15"
   ]
  },
  {
   "cell_type": "code",
   "execution_count": 6,
   "metadata": {},
   "outputs": [
    {
     "data": {
      "text/plain": [
       "32 Trace(s) in Stream:\n",
       "\n",
       "GS.OK029.00.HH1 | 2014-08-01T00:00:00.005000Z - 2014-08-05T19:59:12.075000Z | 100.0 Hz, 41755208 samples\n",
       "...\n",
       "(30 other traces)\n",
       "...\n",
       "GS.OK029.00.HHZ | 2014-08-27T18:19:15.425000Z - 2014-08-31T23:59:58.995000Z | 100.0 Hz, 36604358 samples\n",
       "\n",
       "[Use \"print(Stream.__str__(extended=True))\" to print all Traces]"
      ]
     },
     "execution_count": 6,
     "metadata": {},
     "output_type": "execute_result"
    }
   ],
   "source": [
    "st = stream.copy()\n",
    "st.filter('bandpass', freqmin=freqmin, freqmax=freqmax, corners=2, zerophase=True)\n",
    "st.detrend(type='simple')\n",
    "st.detrend(type='demean')"
   ]
  },
  {
   "cell_type": "code",
   "execution_count": 39,
   "metadata": {},
   "outputs": [],
   "source": [
    "minnumsta = 1\n",
    "tron = 1.5 \n",
    "troff = 1 \n",
    "sta = 1     * sr     # So it's in seconds\n",
    "lta = 10    * sr     # So it's in seconds"
   ]
  },
  {
   "cell_type": "code",
   "execution_count": 40,
   "metadata": {},
   "outputs": [],
   "source": [
    "from obspy.signal.trigger import coincidence_trigger\n",
    "\n",
    "triglist = coincidence_trigger(\"recstalta\", tron, troff, st, minnumsta, sta=sta, lta=lta)"
   ]
  },
  {
   "cell_type": "code",
   "execution_count": 41,
   "metadata": {},
   "outputs": [
    {
     "name": "stdout",
     "output_type": "stream",
     "text": [
      "821 detections\n"
     ]
    }
   ],
   "source": [
    "times = [trig['time'] for trig in triglist]\n",
    "print(len(times), 'detections')"
   ]
  },
  {
   "cell_type": "markdown",
   "metadata": {},
   "source": [
    "## Analyze Detections"
   ]
  },
  {
   "cell_type": "code",
   "execution_count": 42,
   "metadata": {},
   "outputs": [],
   "source": [
    "import sys\n",
    "sys.path.append('../analyze-benz')\n",
    "import catalog_lookup as cl"
   ]
  },
  {
   "cell_type": "code",
   "execution_count": 43,
   "metadata": {},
   "outputs": [],
   "source": [
    "start = stream[0].stats.starttime\n",
    "end =  stream[-1].stats.endtime\n",
    "\n",
    "start = start.strftime('%m/%d/%Y')\n",
    "end = end.strftime('%m/%d/%Y')"
   ]
  },
  {
   "cell_type": "code",
   "execution_count": 44,
   "metadata": {},
   "outputs": [],
   "source": [
    "catalog_times = cl.catalog_df('data/Benz_catalog.csv', start, end)"
   ]
  },
  {
   "cell_type": "code",
   "execution_count": 45,
   "metadata": {},
   "outputs": [],
   "source": [
    "range_before = 10   # Finding in catalog start x seconds before time\n",
    "range_after = 10    # Finding in catalog can start x seconds after time"
   ]
  },
  {
   "cell_type": "code",
   "execution_count": 46,
   "metadata": {},
   "outputs": [
    {
     "data": {
      "text/html": [
       "<div>\n",
       "<style scoped>\n",
       "    .dataframe tbody tr th:only-of-type {\n",
       "        vertical-align: middle;\n",
       "    }\n",
       "\n",
       "    .dataframe tbody tr th {\n",
       "        vertical-align: top;\n",
       "    }\n",
       "\n",
       "    .dataframe thead th {\n",
       "        text-align: right;\n",
       "    }\n",
       "</style>\n",
       "<table border=\"1\" class=\"dataframe\">\n",
       "  <thead>\n",
       "    <tr style=\"text-align: right;\">\n",
       "      <th></th>\n",
       "      <th>event_start</th>\n",
       "      <th>event_end</th>\n",
       "    </tr>\n",
       "  </thead>\n",
       "  <tbody>\n",
       "    <tr>\n",
       "      <th>0</th>\n",
       "      <td>2014-08-01T00:16:30.005000Z</td>\n",
       "      <td>2014-08-01T00:16:50.005000Z</td>\n",
       "    </tr>\n",
       "    <tr>\n",
       "      <th>1</th>\n",
       "      <td>2014-08-01T02:33:03.735000Z</td>\n",
       "      <td>2014-08-01T02:33:23.735000Z</td>\n",
       "    </tr>\n",
       "    <tr>\n",
       "      <th>2</th>\n",
       "      <td>2014-08-01T05:15:07.345000Z</td>\n",
       "      <td>2014-08-01T05:15:27.345000Z</td>\n",
       "    </tr>\n",
       "    <tr>\n",
       "      <th>3</th>\n",
       "      <td>2014-08-01T10:39:36.585000Z</td>\n",
       "      <td>2014-08-01T10:39:56.585000Z</td>\n",
       "    </tr>\n",
       "    <tr>\n",
       "      <th>4</th>\n",
       "      <td>2014-08-01T14:19:47.245000Z</td>\n",
       "      <td>2014-08-01T14:20:07.245000Z</td>\n",
       "    </tr>\n",
       "  </tbody>\n",
       "</table>\n",
       "</div>"
      ],
      "text/plain": [
       "                   event_start                    event_end\n",
       "0  2014-08-01T00:16:30.005000Z  2014-08-01T00:16:50.005000Z\n",
       "1  2014-08-01T02:33:03.735000Z  2014-08-01T02:33:23.735000Z\n",
       "2  2014-08-01T05:15:07.345000Z  2014-08-01T05:15:27.345000Z\n",
       "3  2014-08-01T10:39:36.585000Z  2014-08-01T10:39:56.585000Z\n",
       "4  2014-08-01T14:19:47.245000Z  2014-08-01T14:20:07.245000Z"
      ]
     },
     "execution_count": 46,
     "metadata": {},
     "output_type": "execute_result"
    }
   ],
   "source": [
    "import pandas as pd\n",
    "\n",
    "predicted_times = pd.DataFrame(times, columns=['event_start']) \n",
    "predicted_times['event_end'] = predicted_times['event_start'] + range_after\n",
    "predicted_times['event_start'] = predicted_times['event_start'] - range_before\n",
    "predicted_times.head()"
   ]
  },
  {
   "cell_type": "code",
   "execution_count": 47,
   "metadata": {},
   "outputs": [],
   "source": [
    "predicted_events = cl.find_events_in_catalog(predicted_times, catalog_times)"
   ]
  },
  {
   "cell_type": "code",
   "execution_count": 48,
   "metadata": {},
   "outputs": [],
   "source": [
    "pe_found = predicted_events[predicted_events['catalog_id'] != -1]"
   ]
  },
  {
   "cell_type": "code",
   "execution_count": 49,
   "metadata": {},
   "outputs": [],
   "source": [
    "from itertools import chain\n",
    "\n",
    "found_indexes = set(chain.from_iterable(pe_found['catalog_id']))   # Flatten list of lists\n",
    "catalog_events = catalog_times.copy()\n",
    "catalog_events['found'] = catalog_events.index.map(lambda i: i in found_indexes)"
   ]
  },
  {
   "cell_type": "code",
   "execution_count": 50,
   "metadata": {},
   "outputs": [],
   "source": [
    "found = catalog_events[catalog_events['found'] == True]\n",
    "missed = catalog_events[catalog_events['found'] == False]\n",
    "_new = predicted_events[predicted_events['catalog_id'] == -1]"
   ]
  },
  {
   "cell_type": "code",
   "execution_count": 51,
   "metadata": {},
   "outputs": [
    {
     "data": {
      "text/plain": [
       "(555, 11566, 344)"
      ]
     },
     "execution_count": 51,
     "metadata": {},
     "output_type": "execute_result"
    }
   ],
   "source": [
    "len(found), len(missed), len(_new)"
   ]
  },
  {
   "cell_type": "raw",
   "metadata": {},
   "source": [
    "sta = 1, lta = 10, tron = 4, troff = 1: (281, 11840, 53)\n"
   ]
  },
  {
   "cell_type": "code",
   "execution_count": null,
   "metadata": {},
   "outputs": [],
   "source": []
  }
 ],
 "metadata": {
  "kernelspec": {
   "display_name": "Python 3",
   "language": "python",
   "name": "python3"
  },
  "language_info": {
   "codemirror_mode": {
    "name": "ipython",
    "version": 3
   },
   "file_extension": ".py",
   "mimetype": "text/x-python",
   "name": "python",
   "nbconvert_exporter": "python",
   "pygments_lexer": "ipython3",
   "version": "3.7.3"
  }
 },
 "nbformat": 4,
 "nbformat_minor": 2
}
