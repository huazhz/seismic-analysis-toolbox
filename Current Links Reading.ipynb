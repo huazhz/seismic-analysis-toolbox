{
 "cells": [
  {
   "cell_type": "code",
   "execution_count": null,
   "metadata": {
    "collapsed": true
   },
   "outputs": [],
   "source": [
    "https://web.stanford.edu/~jurafsky/slp3/6.pdf\n",
    "https://web.stanford.edu/~jurafsky/slp3/7.pdf\n",
    "https://web.stanford.edu/~jurafsky/slp3/8.pdf\n",
    "https://web.stanford.edu/~jurafsky/slp3/9.pdf"
   ]
  },
  {
   "cell_type": "code",
   "execution_count": null,
   "metadata": {
    "collapsed": true
   },
   "outputs": [],
   "source": [
    "ConvNet CNN for earthquake detection:\n",
    "https://robobees.seas.harvard.edu/files/quake/files/convolutional-neural-network.pdf\n",
    "https://github.com/tperol/ConvNetQuake"
   ]
  }
 ],
 "metadata": {
  "kernelspec": {
   "display_name": "Python [default]",
   "language": "python",
   "name": "python3"
  },
  "language_info": {
   "codemirror_mode": {
    "name": "ipython",
    "version": 3
   },
   "file_extension": ".py",
   "mimetype": "text/x-python",
   "name": "python",
   "nbconvert_exporter": "python",
   "pygments_lexer": "ipython3",
   "version": "3.6.3"
  }
 },
 "nbformat": 4,
 "nbformat_minor": 2
}
