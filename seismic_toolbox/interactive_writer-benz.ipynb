{
 "cells": [
  {
   "cell_type": "code",
   "execution_count": 1,
   "metadata": {},
   "outputs": [],
   "source": [
    "import matplotlib\n",
    "import argparse\n",
    "import os\n",
    "import warnings\n",
    "from code.config import WAVEFORMS_PATH, SPECTROGRAM_PATH\n",
    "from code.spectrograms import async_write_spectrograms\n",
    "from code.waveforms import read_waveforms\n",
    "from code.filter import filter_waveforms\n",
    "import copy"
   ]
  },
  {
   "cell_type": "code",
   "execution_count": 2,
   "metadata": {},
   "outputs": [],
   "source": [
    "WAVEFORMS_PATH = '../notebooks/dataset_oklahoma/data/test_mseed'\n",
    "SPECTROGRAM_PATH = '../notebooks/dataset_oklahoma/spectrograms/'"
   ]
  },
  {
   "cell_type": "code",
   "execution_count": 3,
   "metadata": {},
   "outputs": [],
   "source": [
    "local_path = os.path.join(WAVEFORMS_PATH, \"local\")\n",
    "local_waveforms = read_waveforms(local_path)\n",
    "\n",
    "noise_path = os.path.join(WAVEFORMS_PATH, \"noise\")\n",
    "noise_waveforms = read_waveforms(noise_path)"
   ]
  },
  {
   "cell_type": "code",
   "execution_count": 4,
   "metadata": {},
   "outputs": [
    {
     "ename": "IndexError",
     "evalue": "list index out of range",
     "output_type": "error",
     "traceback": [
      "\u001b[0;31m---------------------------------------------------------------------------\u001b[0m",
      "\u001b[0;31mIndexError\u001b[0m                                Traceback (most recent call last)",
      "\u001b[0;32m<ipython-input-4-51980cb31141>\u001b[0m in \u001b[0;36m<module>\u001b[0;34m()\u001b[0m\n\u001b[0;32m----> 1\u001b[0;31m \u001b[0mwf\u001b[0m \u001b[0;34m=\u001b[0m \u001b[0mlocal_waveforms\u001b[0m\u001b[0;34m[\u001b[0m\u001b[0;36m0\u001b[0m\u001b[0;34m]\u001b[0m\u001b[0;34m\u001b[0m\u001b[0m\n\u001b[0m\u001b[1;32m      2\u001b[0m \u001b[0mlocal_waves\u001b[0m \u001b[0;34m=\u001b[0m \u001b[0mfilter_waveforms\u001b[0m\u001b[0;34m(\u001b[0m\u001b[0;34m[\u001b[0m\u001b[0mcopy\u001b[0m\u001b[0;34m.\u001b[0m\u001b[0mdeepcopy\u001b[0m\u001b[0;34m(\u001b[0m\u001b[0mwf\u001b[0m\u001b[0;34m)\u001b[0m\u001b[0;34m]\u001b[0m\u001b[0;34m,\u001b[0m \u001b[0mpre_padding\u001b[0m\u001b[0;34m=\u001b[0m\u001b[0;36m9\u001b[0m\u001b[0;34m,\u001b[0m \u001b[0mpost_padding\u001b[0m\u001b[0;34m=\u001b[0m\u001b[0;36m11\u001b[0m\u001b[0;34m,\u001b[0m \u001b[0mpadding\u001b[0m\u001b[0;34m=\u001b[0m\u001b[0;36m20\u001b[0m\u001b[0;34m)\u001b[0m\u001b[0;34m\u001b[0m\u001b[0m\n",
      "\u001b[0;31mIndexError\u001b[0m: list index out of range"
     ]
    }
   ],
   "source": [
    "wf = local_waveforms[0]\n",
    "local_waves = filter_waveforms([copy.deepcopy(wf)], pre_padding=9, post_padding=11, padding=20)"
   ]
  },
  {
   "cell_type": "code",
   "execution_count": 5,
   "metadata": {},
   "outputs": [
    {
     "ename": "NameError",
     "evalue": "name 'local_waves' is not defined",
     "output_type": "error",
     "traceback": [
      "\u001b[0;31m---------------------------------------------------------------------------\u001b[0m",
      "\u001b[0;31mNameError\u001b[0m                                 Traceback (most recent call last)",
      "\u001b[0;32m<ipython-input-5-b94551c97422>\u001b[0m in \u001b[0;36m<module>\u001b[0;34m()\u001b[0m\n\u001b[0;32m----> 1\u001b[0;31m \u001b[0mwave\u001b[0m \u001b[0;34m=\u001b[0m \u001b[0mlocal_waves\u001b[0m\u001b[0;34m[\u001b[0m\u001b[0;36m0\u001b[0m\u001b[0;34m]\u001b[0m\u001b[0;34m\u001b[0m\u001b[0m\n\u001b[0m\u001b[1;32m      2\u001b[0m \u001b[0mwave\u001b[0m\u001b[0;34m.\u001b[0m\u001b[0mplot\u001b[0m\u001b[0;34m(\u001b[0m\u001b[0;34m)\u001b[0m\u001b[0;34m\u001b[0m\u001b[0m\n\u001b[1;32m      3\u001b[0m \u001b[0mwave\u001b[0m\u001b[0;34m.\u001b[0m\u001b[0mspectrogram\u001b[0m\u001b[0;34m(\u001b[0m\u001b[0;34m)\u001b[0m\u001b[0;34m\u001b[0m\u001b[0m\n",
      "\u001b[0;31mNameError\u001b[0m: name 'local_waves' is not defined"
     ]
    }
   ],
   "source": [
    "wave = local_waves[0]\n",
    "wave.plot()\n",
    "wave.spectrogram()"
   ]
  },
  {
   "cell_type": "code",
   "execution_count": 9,
   "metadata": {},
   "outputs": [],
   "source": [
    "def write_local():\n",
    "        print(\"Writing local\")\n",
    "        local_waveforms = read_waveforms(local_path)\n",
    "        local_waves = filter_waveforms(local_waveforms,\n",
    "                                       pre_padding=10,\n",
    "                                       post_padding=10,\n",
    "                                       padding=20)\n",
    "        async_write_spectrograms(local_waves, os.path.join(SPECTROGRAM_PATH, \"local\"))\n",
    "\n",
    "def write_noise():\n",
    "    print(\"Writing noise\")\n",
    "    noise_waveforms = read_waveforms(noise_path)\n",
    "    noise_waves = filter_waveforms(noise_waveforms,\n",
    "                                   pre_padding=10,\n",
    "                                   post_padding=10,\n",
    "                                   padding=20)\n",
    "    async_write_spectrograms(noise_waves, os.path.join(SPECTROGRAM_PATH, \"noise\"))"
   ]
  },
  {
   "cell_type": "code",
   "execution_count": 10,
   "metadata": {},
   "outputs": [
    {
     "name": "stdout",
     "output_type": "stream",
     "text": [
      "Writing local\n",
      "Writing Files...\n",
      "\n",
      "Wrote Files\n"
     ]
    }
   ],
   "source": [
    "with warnings.catch_warnings():\n",
    "    warnings.simplefilter(\"ignore\")\n",
    "    write_local()"
   ]
  },
  {
   "cell_type": "code",
   "execution_count": 11,
   "metadata": {},
   "outputs": [
    {
     "name": "stdout",
     "output_type": "stream",
     "text": [
      "Writing noise\n",
      "Writing Files...\n",
      "\n",
      "Wrote Files\n"
     ]
    }
   ],
   "source": [
    "with warnings.catch_warnings():\n",
    "    warnings.simplefilter(\"ignore\")\n",
    "    write_noise()"
   ]
  },
  {
   "cell_type": "code",
   "execution_count": null,
   "metadata": {},
   "outputs": [],
   "source": []
  }
 ],
 "metadata": {
  "kernelspec": {
   "display_name": "Python [default]",
   "language": "python",
   "name": "python3"
  },
  "language_info": {
   "codemirror_mode": {
    "name": "ipython",
    "version": 3
   },
   "file_extension": ".py",
   "mimetype": "text/x-python",
   "name": "python",
   "nbconvert_exporter": "python",
   "pygments_lexer": "ipython3",
   "version": "3.6.3"
  }
 },
 "nbformat": 4,
 "nbformat_minor": 2
}
