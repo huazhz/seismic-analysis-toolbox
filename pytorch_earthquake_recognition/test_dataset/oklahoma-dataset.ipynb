{
 "cells": [
  {
   "cell_type": "code",
   "execution_count": 10,
   "metadata": {},
   "outputs": [],
   "source": [
    "import obspy, os, glob"
   ]
  },
  {
   "cell_type": "code",
   "execution_count": 11,
   "metadata": {},
   "outputs": [],
   "source": [
    "DATA_PATH = os.path.join(os.getcwd(), 'data')"
   ]
  },
  {
   "cell_type": "code",
   "execution_count": 14,
   "metadata": {},
   "outputs": [],
   "source": [
    "stream_paths = glob.glob(os.path.join(DATA_PATH, '*/*.mseed'))"
   ]
  },
  {
   "cell_type": "code",
   "execution_count": 4,
   "metadata": {},
   "outputs": [],
   "source": [
    "from obspy import Stream\n",
    "from operator import add\n",
    "from functools import reduce\n",
    "from obspy import read\n",
    "\n",
    "# Combine all streams into one\n",
    "stream = reduce(add, [read(path) for path in stream_paths])"
   ]
  },
  {
   "cell_type": "code",
   "execution_count": null,
   "metadata": {},
   "outputs": [],
   "source": [
    "print(stream)"
   ]
  },
  {
   "cell_type": "code",
   "execution_count": 5,
   "metadata": {},
   "outputs": [],
   "source": [
    "import pandas as pd\n",
    "\n",
    "noise_csv = pd.read_csv(os.path.join(DATA_PATH, 'Benz_catalog.csv'))\n",
    "quake_csv = pd.read_csv(os.path.join(DATA_PATH, 'OK_2014-2015-2016.csv'))"
   ]
  },
  {
   "cell_type": "code",
   "execution_count": 6,
   "metadata": {},
   "outputs": [
    {
     "data": {
      "text/html": [
       "<div>\n",
       "<style>\n",
       "    .dataframe thead tr:only-child th {\n",
       "        text-align: right;\n",
       "    }\n",
       "\n",
       "    .dataframe thead th {\n",
       "        text-align: left;\n",
       "    }\n",
       "\n",
       "    .dataframe tbody tr th {\n",
       "        vertical-align: top;\n",
       "    }\n",
       "</style>\n",
       "<table border=\"1\" class=\"dataframe\">\n",
       "  <thead>\n",
       "    <tr style=\"text-align: right;\">\n",
       "      <th></th>\n",
       "      <th>EventNum</th>\n",
       "      <th>Date</th>\n",
       "      <th>Time</th>\n",
       "      <th>Magnitude</th>\n",
       "      <th>Variance</th>\n",
       "      <th>origintime</th>\n",
       "      <th>utc_timestamp</th>\n",
       "    </tr>\n",
       "  </thead>\n",
       "  <tbody>\n",
       "    <tr>\n",
       "      <th>0</th>\n",
       "      <td>0</td>\n",
       "      <td>02/15/2014</td>\n",
       "      <td>00:02:41</td>\n",
       "      <td>0.37</td>\n",
       "      <td>0.95</td>\n",
       "      <td>2014-02-15T00:02:41.000000Z</td>\n",
       "      <td>1.392423e+09</td>\n",
       "    </tr>\n",
       "    <tr>\n",
       "      <th>1</th>\n",
       "      <td>1</td>\n",
       "      <td>02/15/2014</td>\n",
       "      <td>00:03:45</td>\n",
       "      <td>-0.44</td>\n",
       "      <td>0.86</td>\n",
       "      <td>2014-02-15T00:03:45.000000Z</td>\n",
       "      <td>1.392423e+09</td>\n",
       "    </tr>\n",
       "    <tr>\n",
       "      <th>2</th>\n",
       "      <td>2</td>\n",
       "      <td>02/15/2014</td>\n",
       "      <td>00:08:07</td>\n",
       "      <td>-0.18</td>\n",
       "      <td>0.93</td>\n",
       "      <td>2014-02-15T00:08:07.000000Z</td>\n",
       "      <td>1.392423e+09</td>\n",
       "    </tr>\n",
       "    <tr>\n",
       "      <th>3</th>\n",
       "      <td>3</td>\n",
       "      <td>02/15/2014</td>\n",
       "      <td>00:12:52</td>\n",
       "      <td>0.10</td>\n",
       "      <td>0.93</td>\n",
       "      <td>2014-02-15T00:12:52.000000Z</td>\n",
       "      <td>1.392423e+09</td>\n",
       "    </tr>\n",
       "    <tr>\n",
       "      <th>4</th>\n",
       "      <td>4</td>\n",
       "      <td>02/15/2014</td>\n",
       "      <td>00:14:09</td>\n",
       "      <td>-0.47</td>\n",
       "      <td>0.89</td>\n",
       "      <td>2014-02-15T00:14:09.000000Z</td>\n",
       "      <td>1.392423e+09</td>\n",
       "    </tr>\n",
       "    <tr>\n",
       "      <th>5</th>\n",
       "      <td>5</td>\n",
       "      <td>02/15/2014</td>\n",
       "      <td>00:16:37</td>\n",
       "      <td>-0.76</td>\n",
       "      <td>0.62</td>\n",
       "      <td>2014-02-15T00:16:37.000000Z</td>\n",
       "      <td>1.392423e+09</td>\n",
       "    </tr>\n",
       "    <tr>\n",
       "      <th>6</th>\n",
       "      <td>6</td>\n",
       "      <td>02/15/2014</td>\n",
       "      <td>00:16:52</td>\n",
       "      <td>0.67</td>\n",
       "      <td>0.78</td>\n",
       "      <td>2014-02-15T00:16:52.000000Z</td>\n",
       "      <td>1.392423e+09</td>\n",
       "    </tr>\n",
       "    <tr>\n",
       "      <th>7</th>\n",
       "      <td>7</td>\n",
       "      <td>02/15/2014</td>\n",
       "      <td>00:19:12</td>\n",
       "      <td>3.51</td>\n",
       "      <td>0.98</td>\n",
       "      <td>2014-02-15T00:19:12.000000Z</td>\n",
       "      <td>1.392424e+09</td>\n",
       "    </tr>\n",
       "    <tr>\n",
       "      <th>8</th>\n",
       "      <td>8</td>\n",
       "      <td>02/15/2014</td>\n",
       "      <td>00:20:51</td>\n",
       "      <td>0.22</td>\n",
       "      <td>0.63</td>\n",
       "      <td>2014-02-15T00:20:51.000000Z</td>\n",
       "      <td>1.392424e+09</td>\n",
       "    </tr>\n",
       "    <tr>\n",
       "      <th>9</th>\n",
       "      <td>9</td>\n",
       "      <td>02/15/2014</td>\n",
       "      <td>00:21:06</td>\n",
       "      <td>-0.13</td>\n",
       "      <td>0.42</td>\n",
       "      <td>2014-02-15T00:21:06.000000Z</td>\n",
       "      <td>1.392424e+09</td>\n",
       "    </tr>\n",
       "  </tbody>\n",
       "</table>\n",
       "</div>"
      ],
      "text/plain": [
       "   EventNum        Date      Time  Magnitude  Variance  \\\n",
       "0         0  02/15/2014  00:02:41       0.37      0.95   \n",
       "1         1  02/15/2014  00:03:45      -0.44      0.86   \n",
       "2         2  02/15/2014  00:08:07      -0.18      0.93   \n",
       "3         3  02/15/2014  00:12:52       0.10      0.93   \n",
       "4         4  02/15/2014  00:14:09      -0.47      0.89   \n",
       "5         5  02/15/2014  00:16:37      -0.76      0.62   \n",
       "6         6  02/15/2014  00:16:52       0.67      0.78   \n",
       "7         7  02/15/2014  00:19:12       3.51      0.98   \n",
       "8         8  02/15/2014  00:20:51       0.22      0.63   \n",
       "9         9  02/15/2014  00:21:06      -0.13      0.42   \n",
       "\n",
       "                    origintime  utc_timestamp  \n",
       "0  2014-02-15T00:02:41.000000Z   1.392423e+09  \n",
       "1  2014-02-15T00:03:45.000000Z   1.392423e+09  \n",
       "2  2014-02-15T00:08:07.000000Z   1.392423e+09  \n",
       "3  2014-02-15T00:12:52.000000Z   1.392423e+09  \n",
       "4  2014-02-15T00:14:09.000000Z   1.392423e+09  \n",
       "5  2014-02-15T00:16:37.000000Z   1.392423e+09  \n",
       "6  2014-02-15T00:16:52.000000Z   1.392423e+09  \n",
       "7  2014-02-15T00:19:12.000000Z   1.392424e+09  \n",
       "8  2014-02-15T00:20:51.000000Z   1.392424e+09  \n",
       "9  2014-02-15T00:21:06.000000Z   1.392424e+09  "
      ]
     },
     "execution_count": 6,
     "metadata": {},
     "output_type": "execute_result"
    }
   ],
   "source": [
    "def change_column_name(df, column_index, new_name):\n",
    "    columns = df.columns.values\n",
    "    columns[column_index] = new_name\n",
    "    df.columns = columns\n",
    "    \n",
    "change_column_name(noise_csv, 0, 'EventNum')\n",
    "noise_csv[:10]"
   ]
  },
  {
   "cell_type": "code",
   "execution_count": 7,
   "metadata": {},
   "outputs": [],
   "source": [
    "from obspy import UTCDateTime\n",
    "\n",
    "def get_times(df):\n",
    "    times = []\n",
    "    for index, row in df.iterrows():\n",
    "        month, day, year = row.Date.split('/')\n",
    "        hour, minute, second = row.Time.split(':')\n",
    "        args = map(int, [year, month, day, hour, minute, second])\n",
    "        times.append(UTCDateTime(*args))      \n",
    "    return times"
   ]
  },
  {
   "cell_type": "code",
   "execution_count": 17,
   "metadata": {},
   "outputs": [
    {
     "name": "stderr",
     "output_type": "stream",
     "text": [
      "ERROR:root:Internal Python error in the inspect module.\n",
      "Below is the traceback from this internal error.\n",
      "\n"
     ]
    },
    {
     "name": "stdout",
     "output_type": "stream",
     "text": [
      "Traceback (most recent call last):\n",
      "  File \"/opt/conda/lib/python3.6/site-packages/IPython/core/interactiveshell.py\", line 2862, in run_code\n",
      "    exec(code_obj, self.user_global_ns, self.user_ns)\n",
      "  File \"<ipython-input-17-83f837f77970>\", line 1, in <module>\n",
      "    times = get_times(noise_csv)\n",
      "  File \"<ipython-input-7-0965a25d6ca9>\", line 5, in get_times\n",
      "    for index, row in df.iterrows():\n",
      "  File \"/opt/conda/lib/python3.6/site-packages/pandas/core/frame.py\", line 698, in iterrows\n",
      "    s = klass(v, index=columns, name=k)\n",
      "  File \"/opt/conda/lib/python3.6/site-packages/pandas/core/series.py\", line 248, in __init__\n",
      "    raise_cast_failure=True)\n",
      "  File \"/opt/conda/lib/python3.6/site-packages/pandas/core/series.py\", line 2952, in _sanitize_array\n",
      "    subarr = _try_cast(data, True)\n",
      "  File \"/opt/conda/lib/python3.6/site-packages/pandas/core/series.py\", line 2919, in _try_cast\n",
      "    subarr = maybe_cast_to_datetime(arr, dtype)\n",
      "  File \"/opt/conda/lib/python3.6/site-packages/pandas/core/dtypes/cast.py\", line 976, in maybe_cast_to_datetime\n",
      "    value = maybe_infer_to_datetimelike(value)\n",
      "  File \"/opt/conda/lib/python3.6/site-packages/pandas/core/dtypes/cast.py\", line 789, in maybe_infer_to_datetimelike\n",
      "    if isinstance(value, (ABCDatetimeIndex, ABCPeriodIndex)):\n",
      "  File \"/opt/conda/lib/python3.6/site-packages/pandas/core/dtypes/generic.py\", line 7, in _check\n",
      "    @classmethod\n",
      "KeyboardInterrupt\n",
      "\n",
      "During handling of the above exception, another exception occurred:\n",
      "\n",
      "Traceback (most recent call last):\n",
      "  File \"/opt/conda/lib/python3.6/site-packages/IPython/core/interactiveshell.py\", line 1806, in showtraceback\n",
      "    stb = value._render_traceback_()\n",
      "AttributeError: 'KeyboardInterrupt' object has no attribute '_render_traceback_'\n",
      "\n",
      "During handling of the above exception, another exception occurred:\n",
      "\n",
      "Traceback (most recent call last):\n",
      "  File \"/opt/conda/lib/python3.6/site-packages/IPython/core/ultratb.py\", line 1090, in get_records\n",
      "    return _fixed_getinnerframes(etb, number_of_lines_of_context, tb_offset)\n",
      "  File \"/opt/conda/lib/python3.6/site-packages/IPython/core/ultratb.py\", line 311, in wrapped\n",
      "    return f(*args, **kwargs)\n",
      "  File \"/opt/conda/lib/python3.6/site-packages/IPython/core/ultratb.py\", line 345, in _fixed_getinnerframes\n",
      "    records = fix_frame_records_filenames(inspect.getinnerframes(etb, context))\n",
      "  File \"/opt/conda/lib/python3.6/inspect.py\", line 1480, in getinnerframes\n",
      "    frameinfo = (tb.tb_frame,) + getframeinfo(tb, context)\n",
      "  File \"/opt/conda/lib/python3.6/inspect.py\", line 1438, in getframeinfo\n",
      "    filename = getsourcefile(frame) or getfile(frame)\n",
      "  File \"/opt/conda/lib/python3.6/inspect.py\", line 693, in getsourcefile\n",
      "    if getattr(getmodule(object, filename), '__loader__', None) is not None:\n",
      "  File \"/opt/conda/lib/python3.6/inspect.py\", line 739, in getmodule\n",
      "    os.path.realpath(f)] = module.__name__\n",
      "  File \"/opt/conda/lib/python3.6/posixpath.py\", line 386, in realpath\n",
      "    path, ok = _joinrealpath(filename[:0], filename, {})\n",
      "  File \"/opt/conda/lib/python3.6/posixpath.py\", line 420, in _joinrealpath\n",
      "    if not islink(newpath):\n",
      "  File \"/opt/conda/lib/python3.6/posixpath.py\", line 169, in islink\n",
      "    st = os.lstat(path)\n",
      "KeyboardInterrupt\n"
     ]
    },
    {
     "ename": "KeyboardInterrupt",
     "evalue": "",
     "output_type": "error",
     "traceback": [
      "\u001b[0;31m---------------------------------------------------------------------------\u001b[0m"
     ]
    }
   ],
   "source": [
    "times = get_times(noise_csv)"
   ]
  },
  {
   "cell_type": "code",
   "execution_count": 9,
   "metadata": {},
   "outputs": [
    {
     "data": {
      "text/plain": [
       "(2014-07-01T00:00:00.000000Z, 2014-07-29T20:14:53.205000Z)"
      ]
     },
     "execution_count": 9,
     "metadata": {},
     "output_type": "execute_result"
    }
   ],
   "source": [
    "import datetime\n",
    "from obspy import UTCDateTime\n",
    "\n",
    "def get_time_range(stream):\n",
    "    Min = UTCDateTime(year=datetime.MAXYEAR, month=1, day=1) \n",
    "    Max = UTCDateTime(year=datetime.MINYEAR, month=1, day=1)\n",
    "    for trace in stream:\n",
    "        Min = min(trace.stats.starttime,  Min)\n",
    "        Max = max(trace.stats.starttime,  Max)\n",
    "        \n",
    "    return Min, Max\n",
    "\n",
    "get_time_range(stream)"
   ]
  },
  {
   "cell_type": "code",
   "execution_count": null,
   "metadata": {},
   "outputs": [],
   "source": []
  }
 ],
 "metadata": {
  "kernelspec": {
   "display_name": "Python [default]",
   "language": "python",
   "name": "python3"
  },
  "language_info": {
   "codemirror_mode": {
    "name": "ipython",
    "version": 3
   },
   "file_extension": ".py",
   "mimetype": "text/x-python",
   "name": "python",
   "nbconvert_exporter": "python",
   "pygments_lexer": "ipython3",
   "version": "3.6.3"
  }
 },
 "nbformat": 4,
 "nbformat_minor": 2
}
