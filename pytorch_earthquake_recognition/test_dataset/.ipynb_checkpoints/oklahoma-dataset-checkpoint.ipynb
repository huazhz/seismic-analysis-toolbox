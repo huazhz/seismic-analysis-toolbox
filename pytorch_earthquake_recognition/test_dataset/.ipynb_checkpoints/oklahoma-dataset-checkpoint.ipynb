{
 "cells": [
  {
   "cell_type": "code",
   "execution_count": 5,
   "metadata": {},
   "outputs": [],
   "source": [
    "import obspy, os, glob"
   ]
  },
  {
   "cell_type": "code",
   "execution_count": 6,
   "metadata": {},
   "outputs": [],
   "source": [
    "DATA_PATH = os.path.join(os.getcwd(), 'data')"
   ]
  },
  {
   "cell_type": "code",
   "execution_count": null,
   "metadata": {},
   "outputs": [],
   "source": [
    "stream_paths = glob.glob(os.path.join(DATA_PATH, '*.mseed'))"
   ]
  },
  {
   "cell_type": "code",
   "execution_count": null,
   "metadata": {},
   "outputs": [],
   "source": [
    "from obspy import Stream\n",
    "from operator import add\n",
    "from functools import reduce\n",
    "from obspy import read\n",
    "\n",
    "stream = reduce(add, [read(path) for path in stream_paths])"
   ]
  },
  {
   "cell_type": "code",
   "execution_count": null,
   "metadata": {},
   "outputs": [],
   "source": [
    "import pandas as pd\n",
    "\n",
    "noise_csv = pd.read_csv(os.path.join(DATA_PATH, 'Benz_catalog.csv'))\n",
    "quake_csv = pd.read_csv(os.path.join(DATA_PATH, 'OK_2014-2015-2016.csv'))"
   ]
  },
  {
   "cell_type": "code",
   "execution_count": 60,
   "metadata": {},
   "outputs": [
    {
     "data": {
      "text/html": [
       "<div>\n",
       "<style>\n",
       "    .dataframe thead tr:only-child th {\n",
       "        text-align: right;\n",
       "    }\n",
       "\n",
       "    .dataframe thead th {\n",
       "        text-align: left;\n",
       "    }\n",
       "\n",
       "    .dataframe tbody tr th {\n",
       "        vertical-align: top;\n",
       "    }\n",
       "</style>\n",
       "<table border=\"1\" class=\"dataframe\">\n",
       "  <thead>\n",
       "    <tr style=\"text-align: right;\">\n",
       "      <th></th>\n",
       "      <th>EventNum</th>\n",
       "      <th>Date</th>\n",
       "      <th>Time</th>\n",
       "      <th>Magnitude</th>\n",
       "      <th>Variance</th>\n",
       "      <th>origintime</th>\n",
       "      <th>utc_timestamp</th>\n",
       "    </tr>\n",
       "  </thead>\n",
       "  <tbody>\n",
       "    <tr>\n",
       "      <th>0</th>\n",
       "      <td>0</td>\n",
       "      <td>02/15/2014</td>\n",
       "      <td>00:02:41</td>\n",
       "      <td>0.37</td>\n",
       "      <td>0.95</td>\n",
       "      <td>2014-02-15T00:02:41.000000Z</td>\n",
       "      <td>1.392423e+09</td>\n",
       "    </tr>\n",
       "    <tr>\n",
       "      <th>1</th>\n",
       "      <td>1</td>\n",
       "      <td>02/15/2014</td>\n",
       "      <td>00:03:45</td>\n",
       "      <td>-0.44</td>\n",
       "      <td>0.86</td>\n",
       "      <td>2014-02-15T00:03:45.000000Z</td>\n",
       "      <td>1.392423e+09</td>\n",
       "    </tr>\n",
       "    <tr>\n",
       "      <th>2</th>\n",
       "      <td>2</td>\n",
       "      <td>02/15/2014</td>\n",
       "      <td>00:08:07</td>\n",
       "      <td>-0.18</td>\n",
       "      <td>0.93</td>\n",
       "      <td>2014-02-15T00:08:07.000000Z</td>\n",
       "      <td>1.392423e+09</td>\n",
       "    </tr>\n",
       "    <tr>\n",
       "      <th>3</th>\n",
       "      <td>3</td>\n",
       "      <td>02/15/2014</td>\n",
       "      <td>00:12:52</td>\n",
       "      <td>0.10</td>\n",
       "      <td>0.93</td>\n",
       "      <td>2014-02-15T00:12:52.000000Z</td>\n",
       "      <td>1.392423e+09</td>\n",
       "    </tr>\n",
       "    <tr>\n",
       "      <th>4</th>\n",
       "      <td>4</td>\n",
       "      <td>02/15/2014</td>\n",
       "      <td>00:14:09</td>\n",
       "      <td>-0.47</td>\n",
       "      <td>0.89</td>\n",
       "      <td>2014-02-15T00:14:09.000000Z</td>\n",
       "      <td>1.392423e+09</td>\n",
       "    </tr>\n",
       "    <tr>\n",
       "      <th>5</th>\n",
       "      <td>5</td>\n",
       "      <td>02/15/2014</td>\n",
       "      <td>00:16:37</td>\n",
       "      <td>-0.76</td>\n",
       "      <td>0.62</td>\n",
       "      <td>2014-02-15T00:16:37.000000Z</td>\n",
       "      <td>1.392423e+09</td>\n",
       "    </tr>\n",
       "    <tr>\n",
       "      <th>6</th>\n",
       "      <td>6</td>\n",
       "      <td>02/15/2014</td>\n",
       "      <td>00:16:52</td>\n",
       "      <td>0.67</td>\n",
       "      <td>0.78</td>\n",
       "      <td>2014-02-15T00:16:52.000000Z</td>\n",
       "      <td>1.392423e+09</td>\n",
       "    </tr>\n",
       "    <tr>\n",
       "      <th>7</th>\n",
       "      <td>7</td>\n",
       "      <td>02/15/2014</td>\n",
       "      <td>00:19:12</td>\n",
       "      <td>3.51</td>\n",
       "      <td>0.98</td>\n",
       "      <td>2014-02-15T00:19:12.000000Z</td>\n",
       "      <td>1.392424e+09</td>\n",
       "    </tr>\n",
       "    <tr>\n",
       "      <th>8</th>\n",
       "      <td>8</td>\n",
       "      <td>02/15/2014</td>\n",
       "      <td>00:20:51</td>\n",
       "      <td>0.22</td>\n",
       "      <td>0.63</td>\n",
       "      <td>2014-02-15T00:20:51.000000Z</td>\n",
       "      <td>1.392424e+09</td>\n",
       "    </tr>\n",
       "    <tr>\n",
       "      <th>9</th>\n",
       "      <td>9</td>\n",
       "      <td>02/15/2014</td>\n",
       "      <td>00:21:06</td>\n",
       "      <td>-0.13</td>\n",
       "      <td>0.42</td>\n",
       "      <td>2014-02-15T00:21:06.000000Z</td>\n",
       "      <td>1.392424e+09</td>\n",
       "    </tr>\n",
       "  </tbody>\n",
       "</table>\n",
       "</div>"
      ],
      "text/plain": [
       "   EventNum        Date      Time  Magnitude  Variance  \\\n",
       "0         0  02/15/2014  00:02:41       0.37      0.95   \n",
       "1         1  02/15/2014  00:03:45      -0.44      0.86   \n",
       "2         2  02/15/2014  00:08:07      -0.18      0.93   \n",
       "3         3  02/15/2014  00:12:52       0.10      0.93   \n",
       "4         4  02/15/2014  00:14:09      -0.47      0.89   \n",
       "5         5  02/15/2014  00:16:37      -0.76      0.62   \n",
       "6         6  02/15/2014  00:16:52       0.67      0.78   \n",
       "7         7  02/15/2014  00:19:12       3.51      0.98   \n",
       "8         8  02/15/2014  00:20:51       0.22      0.63   \n",
       "9         9  02/15/2014  00:21:06      -0.13      0.42   \n",
       "\n",
       "                    origintime  utc_timestamp  \n",
       "0  2014-02-15T00:02:41.000000Z   1.392423e+09  \n",
       "1  2014-02-15T00:03:45.000000Z   1.392423e+09  \n",
       "2  2014-02-15T00:08:07.000000Z   1.392423e+09  \n",
       "3  2014-02-15T00:12:52.000000Z   1.392423e+09  \n",
       "4  2014-02-15T00:14:09.000000Z   1.392423e+09  \n",
       "5  2014-02-15T00:16:37.000000Z   1.392423e+09  \n",
       "6  2014-02-15T00:16:52.000000Z   1.392423e+09  \n",
       "7  2014-02-15T00:19:12.000000Z   1.392424e+09  \n",
       "8  2014-02-15T00:20:51.000000Z   1.392424e+09  \n",
       "9  2014-02-15T00:21:06.000000Z   1.392424e+09  "
      ]
     },
     "execution_count": 60,
     "metadata": {},
     "output_type": "execute_result"
    }
   ],
   "source": [
    "df = noise_csv\n",
    "\n",
    "def change_column_name(df, column_index, new_name):\n",
    "    columns = df.columns.values\n",
    "    columns[column_index] = new_name\n",
    "    df.columns = columns\n",
    "    \n",
    "change_column_name(df, 0, 'EventNum')\n",
    "df[:10]"
   ]
  },
  {
   "cell_type": "code",
   "execution_count": 61,
   "metadata": {},
   "outputs": [],
   "source": [
    "from obspy import UTCDateTime\n",
    "\n",
    "def get_times(df):\n",
    "    times = []\n",
    "    for index, row in df.iterrows():\n",
    "        month, day, year = row.Date.split('/')\n",
    "        hour, minute, second = row.Time.split(':')\n",
    "        args = map(int, [year, month, day, hour, minute, second])\n",
    "        times.append(UTCDateTime(*args))      \n",
    "    return times"
   ]
  },
  {
   "cell_type": "code",
   "execution_count": 63,
   "metadata": {},
   "outputs": [],
   "source": [
    "times = get_times(df)"
   ]
  },
  {
   "cell_type": "code",
   "execution_count": 77,
   "metadata": {},
   "outputs": [
    {
     "ename": "ModuleNotFoundError",
     "evalue": "No module named 'datettime'",
     "output_type": "error",
     "traceback": [
      "\u001b[0;31m---------------------------------------------------------------------------\u001b[0m",
      "\u001b[0;31mModuleNotFoundError\u001b[0m                       Traceback (most recent call last)",
      "\u001b[0;32m<ipython-input-77-e780ae4f7489>\u001b[0m in \u001b[0;36m<module>\u001b[0;34m()\u001b[0m\n\u001b[0;32m----> 1\u001b[0;31m \u001b[0;32mimport\u001b[0m \u001b[0mdatettime\u001b[0m\u001b[0;34m\u001b[0m\u001b[0m\n\u001b[0m\u001b[1;32m      2\u001b[0m \u001b[0;34m\u001b[0m\u001b[0m\n\u001b[1;32m      3\u001b[0m \u001b[0;32mdef\u001b[0m \u001b[0mget_time_range\u001b[0m\u001b[0;34m(\u001b[0m\u001b[0mstream\u001b[0m\u001b[0;34m)\u001b[0m\u001b[0;34m:\u001b[0m\u001b[0;34m\u001b[0m\u001b[0m\n\u001b[1;32m      4\u001b[0m     \u001b[0mMin\u001b[0m \u001b[0;34m=\u001b[0m \u001b[0mdatetime\u001b[0m\u001b[0;34m.\u001b[0m\u001b[0mMAXYEAR\u001b[0m\u001b[0;34m\u001b[0m\u001b[0m\n\u001b[1;32m      5\u001b[0m     \u001b[0mMax\u001b[0m \u001b[0;34m=\u001b[0m \u001b[0mdatetime\u001b[0m\u001b[0;34m.\u001b[0m\u001b[0mMINYEAR\u001b[0m\u001b[0;34m\u001b[0m\u001b[0m\n",
      "\u001b[0;31mModuleNotFoundError\u001b[0m: No module named 'datettime'"
     ]
    }
   ],
   "source": [
    "import datettime\n",
    "\n",
    "def get_time_range(stream):\n",
    "    Min = datetime.MAXYEAR \n",
    "    Max = datetime.MINYEAR\n",
    "    for trace in stream:\n",
    "        Min = min(trace.stats.starttime,  Min)\n",
    "        Max = max(trace.stats.starttime,  Max)\n",
    "        \n",
    "    return Min, Max\n",
    "\n",
    "get_time_range(stream[0].stats.starttime)"
   ]
  },
  {
   "cell_type": "code",
   "execution_count": null,
   "metadata": {},
   "outputs": [],
   "source": []
  }
 ],
 "metadata": {
  "kernelspec": {
   "display_name": "Python [default]",
   "language": "python",
   "name": "python3"
  },
  "language_info": {
   "codemirror_mode": {
    "name": "ipython",
    "version": 3
   },
   "file_extension": ".py",
   "mimetype": "text/x-python",
   "name": "python",
   "nbconvert_exporter": "python",
   "pygments_lexer": "ipython3",
   "version": "3.6.3"
  }
 },
 "nbformat": 4,
 "nbformat_minor": 2
}
