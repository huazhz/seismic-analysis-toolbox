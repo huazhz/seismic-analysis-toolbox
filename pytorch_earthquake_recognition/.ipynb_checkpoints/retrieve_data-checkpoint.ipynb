{
 "cells": [
  {
   "cell_type": "markdown",
   "metadata": {},
   "source": [
    "## 1. Locate a Station Near The Event"
   ]
  },
  {
   "cell_type": "markdown",
   "metadata": {},
   "source": [
    "### Global Variable Constants "
   ]
  },
  {
   "cell_type": "markdown",
   "metadata": {},
   "source": [
    "#### This file is kept for visual purposes.. please look at download_waveforms/main_download.py instead"
   ]
  },
  {
   "cell_type": "code",
<<<<<<< HEAD
   "execution_count": 195,
=======
   "execution_count": 2,
>>>>>>> be2777d95da24d79fbaa819521b4ed84ce3b1723
   "metadata": {
    "ExecuteTime": {
     "end_time": "2018-02-21T10:51:58.090661Z",
     "start_time": "2018-02-21T10:51:58.087924Z"
    },
    "collapsed": true
   },
   "outputs": [],
   "source": [
    "# CHANGE THIS VARIABLE TO CHANGE EVERYTHING IN THE FILE\n",
    "event_name = 'Utah'"
   ]
  },
  {
   "cell_type": "code",
<<<<<<< HEAD
   "execution_count": 196,
=======
   "execution_count": 3,
>>>>>>> be2777d95da24d79fbaa819521b4ed84ce3b1723
   "metadata": {
    "ExecuteTime": {
     "end_time": "2018-02-21T10:51:57.237522Z",
     "start_time": "2018-02-21T10:51:57.200805Z"
    },
    "code_folding": [],
    "collapsed": true,
    "run_control": {
     "marked": false
    }
   },
   "outputs": [],
   "source": [
    "from obspy.clients.fdsn import Client\n",
    "from obspy.core.utcdatetime import UTCDateTime\n",
    "from types import MappingProxyType\n",
    "\n",
    "class Names:\n",
    "    Amatrice = 'Amatrice'\n",
    "    Oklahoma = 'Oklahoma'\n",
    "    SouthAmerica = 'SouthAmerica'\n",
    "    California = 'California'\n",
    "    Alaska = 'Alaska'\n",
    "    Costa = 'Costa'\n",
    "    Puerto = 'Puerto'\n",
    "    Utah = 'Utah'\n",
    "\n",
    "def Day(num):\n",
    "    return 60*60*24*num\n",
    "\n",
    "def get_event_info(name):\n",
    "    \"\"\"\n",
    "    Provids a dictionary (MappingProxyType) of information to populate the global variables needed in the file.\n",
    "    The chosen event is in a seismologically active area. A station is chosen near the event to get data.\n",
    "    @param name: Can be one of - \"Amatrice\", \"Patitirion\"\n",
    "    @return: ProxyMapType, containing the information about the event.\n",
    "    \"\"\"\n",
    "    info: MappingProxyType = None\n",
    "    if name == Names.Amatrice:\n",
    "        info = dict(\n",
    "            Latitude='42.790',\n",
    "            Longitude='13.150',\n",
    "            Time=\"2016-08-24 03:36:32\",\n",
    "            StartTime=\"2012-08-24\",\n",
    "            EndTime=\"2018-08-24\",\n",
    "            Client=\"INGV\",\n",
    "            Name=\"Amatrice\",\n",
    "            PrePadding=4,\n",
    "            PostPadding=16,\n",
    "            StationRadius=.2,\n",
    "            LocalEventRadius=.2\n",
    "        )\n",
    "\n",
    "    elif name == Names.Oklahoma:\n",
    "        info = dict(\n",
    "            Latitude='37.081',\n",
    "            Longitude='-97.309',\n",
    "            Time=\"2018-5-15 20:14:49\",\n",
    "            StartTime=\"2015-10-15\",\n",
    "            EndTime=\"2017-10-15\",\n",
    "            Client=\"IRIS\",\n",
    "            Name=\"Oklahoma\",\n",
    "            PrePadding=6,\n",
    "            PostPadding=14,\n",
    "            Network=\"GS\",\n",
    "            Station='KAN01',\n",
    "            StationRadius=1,\n",
    "            LocalEventRadius=1\n",
    "        )\n",
    "    \n",
    "    elif name == Names.SouthAmerica:\n",
    "        info = dict(\n",
    "            Latitude='-25.3',\n",
    "            Longitude='-71',\n",
    "            Time=\"2018-02-20 23:18:32\",\n",
    "            StartTime=\"2013-10-15\",\n",
    "            EndTime=\"2018-01-15\",\n",
    "            Client=\"IRIS\",\n",
    "            Name=\"SouthAmerica\",\n",
    "            PrePadding=3,\n",
    "            PostPadding=17,\n",
    "            AddTime=10,\n",
    "            Network='C',\n",
    "            Station='GO02',\n",
    "            StationRadius=3,\n",
    "            LocalEventRadius=1\n",
    "        )\n",
    "    \n",
    "    elif name == Names.California:\n",
    "        info = dict(\n",
    "            Latitude='33.557',\n",
    "            Longitude='-115.888',\n",
    "            Time=\"2018-02-20 23:18:32\",\n",
    "            StartTime=\"2016-10-15\",\n",
    "            EndTime=\"2018-01-15\",\n",
    "            Client=\"IRIS\",\n",
    "            Name=\"California\",\n",
    "            PrePadding=8,\n",
    "            PostPadding=12,\n",
    "            StationRadius=1,\n",
    "            LocalEventRadius=1\n",
    "        )\n",
    "    \n",
    "    elif name == Names.Alaska:\n",
    "        info = dict(\n",
    "            Latitude='61',\n",
    "            Longitude='-150',\n",
    "            Time=\"2018-02-20 23:18:32\",\n",
    "            StartTime=\"2015-01-01\",\n",
    "            EndTime=\"2017-02-26\",\n",
    "            Client=\"IRIS\",\n",
    "            Network=\"AK\",\n",
    "            Station=\"FIRE\",\n",
    "            Name=\"Alaska\",\n",
    "            PrePadding=5,\n",
    "            PostPadding=15,\n",
    "            StationRadius=2,\n",
    "            LocalEventRadius=1.5\n",
    "        )\n",
    "        \n",
    "    elif name == Names.Costa:\n",
    "        info = dict(\n",
    "            Latitude='12.433',\n",
    "            Longitude='-86',\n",
    "            Time=\"2011-02-20\",\n",
    "            StartTime=\"2014-05-05\",\n",
    "            EndTime=\"2018-02-26\",\n",
    "            Client=\"IRIS\",\n",
    "            Network=\"NU\",\n",
    "            Station=\"BC8A\",\n",
    "            Name=\"Costa\",\n",
<<<<<<< HEAD
    "            PrePadding=2,\n",
    "            PostPadding=18,\n",
    "            StationRadius=4,\n",
    "            LocalEventRadius=1.5\n",
=======
    "            PrePadding=5,\n",
    "            PostPadding=15,\n",
    "            StationRadius=1,\n",
    "            LocalEventRadius=1\n",
>>>>>>> be2777d95da24d79fbaa819521b4ed84ce3b1723
    "        )\n",
    "        \n",
    "    elif name == Names.Puerto:\n",
    "        info = dict(\n",
    "            Latitude='18',\n",
    "            Longitude='-67',\n",
    "            Time=\"2005-02-20\",\n",
    "            StartTime=\"2014-05-05\",\n",
    "            EndTime=\"2018-02-26\",\n",
    "            Client=\"IRIS\",\n",
    "            Network=\"PR\",\n",
    "            Station=\"AGPR\",\n",
    "            Name=\"Puerto\",\n",
    "            PrePadding=7,\n",
    "            PostPadding=13,\n",
    "            StationRadius=3,\n",
    "            LocalEventRadius=1\n",
    "        )\n",
    "        \n",
    "    elif name == Names.Utah:\n",
    "        info = dict(\n",
    "            Latitude='38',\n",
    "            Longitude='-112',\n",
<<<<<<< HEAD
    "            Time=\"2005-02-20\",\n",
    "            StartTime=\"2006-01-05\",\n",
    "            EndTime=\"2018-02-26\",\n",
    "            Client=\"IRIS\",\n",
    "            Network=\"NP\",\n",
    "            Station=\"7229\",\n",
    "            Name=\"Utah\",\n",
    "            PrePadding=5,\n",
    "            PostPadding=15,\n",
    "            StationRadius=3,\n",
=======
    "            Time=\"2006-04-20\",\n",
    "            StartTime=\"2015-10-05\",\n",
    "            EndTime=\"2018-02-26\",\n",
    "            Client=\"IRIS\",\n",
    "            Network=\"NN\",\n",
    "            Station=\"DSP\",\n",
    "            Name=\"Utah\",\n",
    "            PrePadding=5,\n",
    "            PostPadding=15,\n",
    "            StationRadius=5,\n",
>>>>>>> be2777d95da24d79fbaa819521b4ed84ce3b1723
    "            LocalEventRadius=1.5\n",
    "        )\n",
    "    \n",
    "    if info: \n",
    "        return MappingProxyType(info)\n",
    "    raise ValueError(f\"Name '{name}' not found\")"
   ]
  },
  {
   "cell_type": "code",
<<<<<<< HEAD
   "execution_count": 197,
=======
   "execution_count": 4,
>>>>>>> be2777d95da24d79fbaa819521b4ed84ce3b1723
   "metadata": {
    "ExecuteTime": {
     "end_time": "2018-02-21T10:52:07.354710Z",
     "start_time": "2018-02-21T10:52:07.339370Z"
    },
    "collapsed": true,
    "slideshow": {
     "slide_type": "-"
    }
   },
   "outputs": [],
   "source": [
    "# Retrieving the quake information            \n",
    "event = get_event_info(event_name)   # dict containing the information to populate the variables\n",
    "\n",
    "# Constants\n",
    "LATITUDE = event['Latitude']                # Latitude of Event\n",
    "LONGITUDE = event['Longitude']              # Longitude of Event\n",
    "STARTTIME = UTCDateTime(event['StartTime']) # Starttime of Data Collection\n",
    "ENDTIME = UTCDateTime(event['EndTime'])     # Endtime of Data Collection\n",
    "CLIENT_NAME = event['Client']               # Client to retrieve event from\n",
    "NAME = event['Name'] + 'Quakes'             # Folder name to write spectrograms to\n",
    "\n",
    "STATION_MAX_RADIUS = event['StationRadius'] # Pick as station within this distance of the event\n",
    "MAX_RADIUS = event['LocalEventRadius']      # How far local events can be from the station\n",
    "NONLOCAL_MIN_RADIUS = 6                     # Min Radius for Nonlocal Events\n",
<<<<<<< HEAD
    "NUM_EVENTS = 2000                            # How many events to retrieve and write                     # Event time window duration\n",
    "NONLOCAL_NUM_EVENTS = 10\n",
    "NUM_NOISE_EVENTS = 4000\n",
=======
    "NUM_EVENTS = 10 # 2000                            # How many events to retrieve and write                     # Event time window duration\n",
    "NONLOCAL_NUM_EVENTS = 10\n",
    "NUM_NOISE_EVENTS = 10 #4000\n",
>>>>>>> be2777d95da24d79fbaa819521b4ed84ce3b1723
    "\n",
    "DURATION = 20                              # Time in seconds, centered around the event          \n",
    "PADDING = 20                               # Get waveforms padding length, and then trim to the duration after filtering\n",
    "ADD_TIME = event.get('AddTime', 0)         # Time to add to all events to correct for arrival times\n",
    "\n",
    "PRE_PADDING = event['PrePadding']\n",
    "POST_PADDING = event['PostPadding']\n",
    "\n",
    "# Time period to collect noise events\n",
    "NOISE_START = STARTTIME\n",
    "NOISE_END = NOISE_START + Day(60)\n",
    "\n",
    "# If specific network and station are specified\n",
    "NETWORK = event.get('Network')\n",
    "STATION = event.get('Station')\n",
    "\n",
    "# Filtering Constants for the Spectrograms\n",
    "MIN_FREQ = 1\n",
    "MAX_FREQ = 30\n",
    "    \n",
    "# Code\n",
    "client = Client(CLIENT_NAME)"
   ]
  },
  {
   "cell_type": "markdown",
   "metadata": {},
   "source": [
    "### Get Valid Station Near the Location "
   ]
  },
  {
   "cell_type": "code",
<<<<<<< HEAD
   "execution_count": 198,
=======
   "execution_count": 5,
>>>>>>> be2777d95da24d79fbaa819521b4ed84ce3b1723
   "metadata": {},
   "outputs": [],
   "source": [
    "# Verify that waveform FDSN works, so you don't waste time getting to the bottom \n",
    "\n",
    "from obspy.core.inventory import Inventory, Station, Network\n",
    "\n",
    "def get_all_stations(max_radius) -> Inventory:\n",
    "    \"\"\" Use this to find a valid station with the correct components \"\"\"\n",
    "    return client.get_stations(latitude=LATITUDE,\n",
    "                               longitude=LONGITUDE,\n",
    "                               maxradius=max_radius)\n",
    "\n",
    "def get_channel_names(stream):\n",
    "    \"\"\" Returns a list of names of each component, in the order they appear in the stream \"\"\"\n",
    "    return [trace.stats.channel for trace in stream]\n",
    "\n",
    "def verify_fsdn(network, station):\n",
    "    \"\"\" \n",
    "    Makes a call to the server. Requires 'HN*' component, and the ability to 'get_waveforms' from the station \n",
    "    Sometimes the stations are missing data, so it's important to actually make a request and get the waveform data.\n",
    "    \"\"\"\n",
    "    client = Client(CLIENT_NAME)\n",
    "    time = STARTTIME + Day(365)\n",
    "    waves = client.get_waveforms(network.code, station.code, \"*\", \"HN*\", time, time + DURATION)\n",
    "    return True\n",
    "\n",
    "def get_valid_stations(inventory):\n",
    "    \"\"\" Attempts to get waveforms from a station, with the veriy_fsdn function. Returns valid stations. \"\"\"\n",
    "    valid = []\n",
    "    for network in inventory:\n",
    "        for station in network:\n",
    "            try:\n",
    "                verify_fsdn(network, station)\n",
    "            except Exception:\n",
    "                print(\"Failed station:\", station.code)\n",
    "            else:\n",
    "                print(\"Succeeded station:\", station.code, network.code)\n",
    "                valid.append(station)\n",
    "    return valid\n"
   ]
  },
  {
   "cell_type": "markdown",
   "metadata": {},
   "source": [
    "#### *Optional: Find a station with the correct components"
   ]
  },
  {
   "cell_type": "code",
<<<<<<< HEAD
   "execution_count": 199,
=======
   "execution_count": 6,
>>>>>>> be2777d95da24d79fbaa819521b4ed84ce3b1723
   "metadata": {},
   "outputs": [],
   "source": [
    "# inv = get_all_stations(STATION_MAX_RADIUS)\n",
    "# get_valid_stations(inv)\n"
   ]
  },
  {
   "cell_type": "code",
<<<<<<< HEAD
   "execution_count": 200,
=======
   "execution_count": 7,
>>>>>>> be2777d95da24d79fbaa819521b4ed84ce3b1723
   "metadata": {},
   "outputs": [
    {
     "name": "stdout",
     "output_type": "stream",
     "text": [
      "Station DSP (Deep Springs, California w84gm)\n",
      "\tStation Code: DSP\n",
      "\tChannel Count: 0/6 (Selected/Total)\n",
      "\t2015-09-11T00:00:00.000000Z - 2599-12-31T23:59:59.000000Z\n",
      "\tAccess: open \n",
      "\tLatitude: 37.37, Longitude: -117.97, Elevation: 1692.0 m\n",
      "\tAvailable Channels:\n",
      "\n"
     ]
    }
   ],
   "source": [
    "# Types\n",
    "inventory: Inventory\n",
    "network: Network\n",
    "station: Station\n",
    "    \n",
<<<<<<< HEAD
    "# NETWORK = 'NP'\n",
    "# STATION = '7202'\n",
    "    \n",
    "inventory = client.get_stations(network=NETWORK,\n",
    "                                station=STATION)\n",
    "\n",
    "# By default, get the first station and network unless specified\n",
    "network = inventory.select(NETWORK)[0]\n",
    "station = network.select(STATION)[0]"
   ]
  },
  {
   "cell_type": "code",
   "execution_count": 201,
   "metadata": {},
   "outputs": [
    {
     "data": {
      "text/plain": [
       "Station 7229 (City Maintenance Shop, Santaquin, UT, USA)\n",
       "\tStation Code: 7229\n",
       "\tChannel Count: 0/6 (Selected/Total)\n",
       "\t2005-07-28T00:00:00.000000Z - 2599-12-31T23:59:59.000000Z\n",
       "\tAccess: open \n",
       "\tLatitude: 39.97, Longitude: -111.79, Elevation: 1517.0 m\n",
       "\tAvailable Channels:\n"
      ]
     },
     "execution_count": 201,
     "metadata": {},
     "output_type": "execute_result"
    }
   ],
   "source": [
    "station"
=======
    "inventory = client.get_stations(network=NETWORK,\n",
    "                                station=STATION\n",
    "                                )\n",
    "\n",
    "# By default, get the first station and network unless specified\n",
    "network = inventory.select(NETWORK)[0]\n",
    "station = network.select(STATION)[0]\n",
    "print(station)"
>>>>>>> be2777d95da24d79fbaa819521b4ed84ce3b1723
   ]
  },
  {
   "cell_type": "code",
<<<<<<< HEAD
   "execution_count": 202,
=======
   "execution_count": 8,
>>>>>>> be2777d95da24d79fbaa819521b4ed84ce3b1723
   "metadata": {},
   "outputs": [],
   "source": [
    "# Verifies that the selected station supports 'get_waveforms' - saves time to not run the rest of the code\n",
    "assert verify_fsdn(network, station)"
   ]
  },
  {
   "cell_type": "code",
<<<<<<< HEAD
   "execution_count": 203,
=======
   "execution_count": 9,
>>>>>>> be2777d95da24d79fbaa819521b4ed84ce3b1723
   "metadata": {
    "ExecuteTime": {
     "end_time": "2018-02-21T10:52:10.442534Z",
     "start_time": "2018-02-21T10:52:10.438631Z"
    },
    "code_folding": [],
    "run_control": {
     "marked": false
    },
    "scrolled": false
   },
   "outputs": [
    {
     "data": {
<<<<<<< HEAD
      "image/png": "iVBORw0KGgoAAAANSUhEUgAAAZEAAAEFCAYAAAAi1toCAAAABHNCSVQICAgIfAhkiAAAAAlwSFlz\nAAALEgAACxIB0t1+/AAAADl0RVh0U29mdHdhcmUAbWF0cGxvdGxpYiB2ZXJzaW9uIDIuMS4wLCBo\ndHRwOi8vbWF0cGxvdGxpYi5vcmcvpW3flQAAIABJREFUeJzsvXlYFVe2/v+pcziHSeZJBlEEBAEV\nFHFEBBFxTNJGTexOTCfp7phB28Rvkk5yOz3kdtImmnQSk9ht7DbpjmZyHkEFVJwVFVFBRWUKIPMo\n06nfH8i5EjUKHNn73h/v8/iUp07Vrpc6VXvtd6+111JUVaUHPehBD3rQg85AI5pAD3rQgx704H8v\neoxID3rQgx70oNPoMSI96EEPetCDTqPHiPSgBz3oQQ86jR4j0oMe9KAHPeg0eoxID3rQgx70oNPo\nMSI96EEPetCDTqPHiPSgBz3oQQ86jR4j0oMe9KAHPeg0zDpysKIoPcvbe9CDHvTgPkJVVUU0h46g\nQ0YEoKCgwOQkCgoKcHR0xMLCwuRtdwTvvvsuc+fOxdPTUyiPmTNnsmLFCpydnX/yuLS0NDIzM1m0\naNF94fHuu+/i6upKWVkZNjY2VFVVUVFRQUVFBQCOjo44Ojri5OSEtbU1+/bt48knn8TR0dFkHJqb\nm9m7dy8xMTEma7MzqKur48iRI4wfP14oj8LCQrZt28aTTz4plMfBgwdZtWoV//jHP4TyOHfuHJcu\nXWLatGlCeRQUFFBZWcnAgQO71I6Hh4eJGHUfOmxE7gfeeOMNXnzxRUJCQoTyCAgIwMbGRigHgCVL\nlmBnZ3fX4wYNGkRSUhK5ubn06dPH5DwqKiqYM2cOhw8fxsnJyWgwHB0dsbKyQlHaD5hsbW1Zu3Yt\nTz75pMkGBE1NTXz11VdSGJHNmzcLNyIajQZzc3OhHACGDh1KUFCQaBqYmZnR2NgomgZZWVmcP3++\ny0bkfyOk8In8+c9/ZsCAAaJpcObMGSkeyN/+9rfU1tbe9TgzMzMiIiLYuXPnfeFha2uLl5cXs2bN\nIiYmhtDQUPr06YO1tfUtBgQgOjqaAQMGsH79egwGg0k46HQ6fv7zn5ukra7AysqK6dOni6YBQH19\nvWgKnDlzhhdeeEE0DYDbPovdjaCgIMaMGSOahhBIYUReeukl8vLyRNMgMDAQKysr0TRYtmwZvXr1\nuqdjw8PDycjIoLS01OQ82qat7hWKovDoo4/S0tLCnj17TMKhsbGRr776yiRtdQX19fVs2rRJNA00\nGo3waV9oVcEffvihaBrodDqamppE0+Dy5cvs2rVLNA0hkMKIvPfee3h7e4umQXp6uhQP5AsvvHDP\nisjCwoLQ0FCTP8CqqmJnZ4dG07FHxMzMjPnz53Pu3DlOnz7dZR46nY65c+d2uZ2uQhYloigKdXV1\nomlw/vx55s+fL5oGiqJIoUT8/PyIjo4WTUMIpDAizz777H0ZSXcUwcHBUozyPvroow7xGDFiBAcP\nHrynKbCOoKNKpA29evXiueeeY+fOnV1WmE1NTaxZs6ZLbZgCsigRQIpndODAgXzyySeiaaDVaqWY\ngs7Pz2f79u2iaQiBFEZk+fLld41E6g6kpaXR0tIimgbPPPNMh3jY2dkREBBASkqKyTgYDIYuRVl5\nenry+OOP880331BVVdXpdmRRIpaWlsyYMUM0DWmUSHZ2Nk8//bRoGtIoEW9vbyZOnCiahhBIYUR+\n+ctfmnwU3RkMGjQIvV4vmgaffvopZmYdC5wbNWoUe/bsMel0XGeVSBtCQ0OJjo7m66+/7jSvxsZG\nKZTI9evX2bhxo2gaKIoihRLx9fVl5cqVomlgZmYmxRR0cXExmzdvFk1DCKQwIitXrpQitPbEiROi\nKWAwGPj1r3/d4dGVm5sb7u7uHDp0yGQ8HBwcutzO5MmTcXd3Z/PmzXSmFLNer+fRRx/tMo+uQiYl\nIsOAKycnh8cff1w0DWmUiIeHB1OmTBFNQwikMCI///nPhU8jqarKkCFDOqwATA1FUVixYkWnzh01\nahQJCQkmCa9VVbVL01BtUBSFefPmUV5ezv79+zt8vkxKRAafiEajwdLSUjQNvL29+eKLL0TTkMYn\nUl5ezrp160TTEALhRkRVVb766ivhnbfBYCAtLU0oB4CGhgaef/75Tp3br18/9Hq9SaKiAOzt7U3S\njl6v57nnnuPYsWNkZmZ26FydTieNEpEhOguQQokUFhYyZ84c0TSkUSJOTk488MADomkIgXAjcv36\ndebNmyeaBgaDgeHDh4umgV6v73TUi6IojBo1ih07dnSZh8FgMIkSaYODgwPz589n06ZNFBUV3fN5\njY2NrF271mQ8OoseJdIe7u7uUvwuOp1OCiVSV1cnxf0QAeFGRK/XSyGLm5ubOXnypGga1NXVsXDh\nwk6fP3DgQCorK7l48WKXuZhKibTBx8eH2bNns3bt2nseTev1eh555BGT8ugMLCwspPGJyBCdVVZW\nxs9+9jPRNFAUpcNrme4HbG1tefjhh0XTEALhd7+iooLf/OY3omkArau/RcPS0pK//e1vnT5fo9Ew\ncuTIDqdCKSgoaOf4NrUSacPIkSMZPnw433333T35wRoaGqQY4TU0NPREZ90EJycnvv/+e9E0pPGJ\nNDY28uWXX4qmIQTCjYitra3wTKDQuqjNVL6ErqCyspLFixd3qY3Q0FCys7MpLCy8p+OPHz/OH//4\nRy5cuNBuvymUyNWrV1m7dm07A/XQQw9hbW19T4uzzM3Ne5TIjyCDEqmurpbifsjiE7G0tJRiPZMI\nCDciRUVFXZq+MRU0Gg1hYWGiaWBra8vSpUu71IZeryc8PJyEhIS7Hpufn89//vMfhg0b1i7flamU\niE6nIykpqV1aFo1Gw9NPP01eXh5Hjhz5yfOvX7/O119/3WUeXUVjYyMbNmwQTUMaJWJjYyOFj0iW\nLL4Aq1atum9tK4qiVRQlTVGULTc+P68oykVFUVRFUZxvOk6jKMoXiqIcUBQl+Ma+8TeOm37TcVsU\nRRlvCm7CjYiLi4sUidwaGho4c+aMaBqUlpbyu9/9rsvtDB8+nBMnTlBZWXnHY2pra1m+fDmTJk0i\nLi6OzMxMysrKjN+bQon07t0bS0tLNmzYQFZWlnG/paUlzz//PPv27SM7O/uO55ubm0sRBaTX63nw\nwQdF00Cj0UgRndXQ0EBcXJxoGtL4RLRaLU8++aTJslffBguBczd9TgVigas/Oi4OOAw8BLx00/48\n4PX7QUz43c/JyeHVV18VTQMzMzNCQ0NF08DR0ZF33nmny+1YW1szaNAgdu/efdvvW1pa+Pvf/86A\nAQMYPHgw5ubmDBo0iOTkZMB0SkSj0eDj40NoaCgrV65stwrexcWFp59+mnXr1rUzXjfj+vXrfPvt\nt13m0VU0NTWxfv160TQApIjOsrCwuCele7+h1Wppamq6n533PWP16tX3ZfW8oihewFTAmCJAVdU0\nVVWv3OZwLWC48e/meb5TQKWiKCbPzdJhI3L16lWSkpLIy8vj4MGDFBYWkpaWRklJCWfPnqW8vJzs\n7Gyqq6spKCigrq6OsrIyGhsbqaurw2AwtJsf9/LyYsmSJSb9ozqD+vp6zp49K5oGRUVF/Nd//ZdJ\n2ho5ciT79+/n+vXrt3y3fv16GhsbiY2NNe4bPnw4qampxhfBVNFZfn5+mJubM2zYMD777DOam5uN\n3wUGBjJt2jTWrFlzW54WFhbMnj3bJDy6Ar1ez0MPPSSaBhqNhpqaGtE0MBgMwgt0tcHMzKxT2RBM\nCVVVmTdvHk1NTdTV1VFXV0dpaSmVlZXk5+dTWlpq9FOePXuWvLw8Tpw4QXZ2NgcOHCArK+unyid8\nALxMq2G4G3YCUcAmYNmPvnsLeKOzf+Od0OEVftXV1eTl5eHg4EBGRgY6nY6DBw8SERHB3r17GTVq\nFElJSURGRrJr1y6io6PZvn07EydOZPPmzUyePJn169czc+ZMtmzZwuDBg1m1ahXvvPMOiYmJxMfH\nk5KSwoQJE9i/fz9RUVEcOXKEMWPGcPz4cUaMGMGpU6cYOnQoGRkZDBkyhPPnzxMUFMTFixcJCAjg\n8uXL+Pv7c/XqVXx8fMjPz6dPnz4UFRXh6elJcXEx7u7ulJWV4ezsbBxxe3p6UldXR319PdbW1jQ1\nNWFhYYHBYDDm1LrfTjwXFxfeeustk7Tl6OiIj48P+/bta5cc7ujRoxw7doxf/epXaLVa435nZ2fc\n3d05evQoQUFBJovO8vX15eTJkzzxxBMUFBTw7bfftltAGB0dTX5+PuvWreORRx5pNz1RX1/PN998\nQ1RUlEm4dBZNTU2sW7eundEVAUVRpKh5o9FojKrVVFBVFYPBYIzaa25uRlEUGhoa0Ol01NXVYW5u\nTk1NDZaWllRVVWFtbU15eTn5+flUV1djZ2dHcXExTk5OFBQU4OLiQl5eHu7u7ly5cgUvLy8uXbpE\nv379yMrKon///pw7dw4/Pz/Onj1LQEAAp06dIjg4mLS0NAYPHszRo0cJDQ3l8OHDhIeHk5qayogR\nI9i3bx8jR45k7969REZGsmTJEn77299y4sQJxo8fz+HDhxkzZgzHjh1j1KhRpKWlMXz4cNLT0xk2\nbJix/7p8+TLW1ta3zVWnKMo0oFhV1eP34sNQVbUZuG0kiqqq+24EIkR26Yf6MceOWHBFUVRT1FhX\nVZWWlhaampqor6+npKQET09PqqursbCwoKKiAhsbG65du4a9vT1FRUU4OTmRn5+Pm5sbV69exdPT\nk0uXLuHj40NmZia+vr6cP38ef39/zpw5Q1BQ0C0Pw7FjxwgLCzM+DAcOHDA+DAMGDODLL79kwYIF\n7N69m/Hjx5OQkEBsbCzbtm0jLi6OrVu3Mn36dHbu3MmUKVNITExk0qRJJCcnExsbS0pKCjExMezd\nu5eoqCgOHDjA2LFjOXToEKNHj+bIkSOMGjWKo0ePEhERwYkTJxg+fDhpaWkMGzaMU6dO4erqyrJl\ny3j//ffJyMhg0KBBnDt3juDgYDIzMwkKCiIrK4vAwEAuXryIv78/V65coX///uTk5ODj40NOTg79\n+vUjPz8fnU7H2rVreeuttygqKkJRFD744AOeeOIJVFXFzc2Na9eu4ebmRklJCVVVVezevZsFCxbw\n73//mxdeeIGysjKcnJwoLy/HycmJiooKHBwcqKqqws7OjurqamxtbampqcHW1pba2lp69epFfX09\nVlZWVFRU8Kc//Ynnn38erVbLypUreeCBBxg6dCh6vZ7Gxka0Wi3Lli3Dw8ODcePGYWZmRnNzMy0t\nLRw8eJDo6GiamprQ6XQ0NzcbvzczM6OlpaXd55v3a7Va49ZgMNzyWaPRGLctLS3ttm3ttE2XJCUl\nERcXR2NjIzqdjoaGBvR6vXF7/fp1LCwsqK+vN24tLS2pq6vD0tKS2tparKysqKmpwdra2ritrq7G\nxsaG6urqdp8rKyuxsbGhvLwce3t7SktLjYEXixcvpri4GGdnZ+O2sLAQNzc3CgoK6N27N/n5+bi7\nu5Obm4uXlxc5OTl4enpy9epVvL29uXz5Mn379iU7OxsfHx8uXLiAr68vmZmZ+Pv7k5mZyYABAzh7\n9iyBgYFkZGQQGBhIeno6QUFB/OIXv2DVqlWcPn2aIUOGcPz4cUJDQzly5Ajh4eHGwWVqaqpRFY8a\nNYq9e/cyduxY9uzZQ1RUVLv3LT4+nt27dxMXF0dSUpLxvYqOjjYOKtveq8OHDzN69Gg++eQTnnnm\nGTIyMhg+fDinT58mLCyMs2fP3jLIHDhwIJcvX8bPz4/c3Fx8fHwoKCjA29ubwsJCPD09KSkpoXfv\n3pSXl+Ps7Ex1dTUODg7U1tZiZ2fH9evXsba2pqWlBXNzc1RVRafTkZqaSlhYWJeMvIeHB6qqGkeq\niqK8DTwGNAMWgC2wTlXVX9z4/goQrqpqyZ3avGF8FquqOk1RlDjgxRvtvaeqanKnyba1L8KI3IxD\nhw6xdu1aPvjgA5O221EUFRVx6tSpn3QWto2U2qZj2jq/+vp69Ho9tbW17UZIlZWV2NraUlZWhr29\nPSUlJTg4OBhf+qKiIlxcXCgoKMDd3Z28vDwcHR05deoU4eHhXL16FS8vL65cuYK3tzfZ2dn069fv\nlpf93LlzBAQEkJGRwcCBA0lPTyc4OJhTp04REhLCP/7xD6ZPn05paSlnz57F0tKSKVOmcPToUcLD\nwzl69CjDhg0zvvwfffQRc+fO5bvvvuPVV18lJSWFcePGkZycTFRUFHv27CE6Oprdu3cTHR3Nrl27\nmDBhAomJicTGxrJz507i4uLYsWMHcXFxbN++naqqKurq6pgxYwabN2+mubkZa2trZs2axbZt25gy\nZQobNmygtraWmpoaZs+eTWJiIqNHj2bZsmW88cYb7Nq1i9jY2Fu2bde93f6JEycatwkJCbd8jouL\nIyEhgUmTJrFz504mTZpEYmIicXFx7Nq1y3h8VFQUf/3rX3nzzTeN7e/Zs4eYmBiSkpKIiYkhOTmZ\n6Oho4zYlJYXx48eTkpJCVFQU+/btIyoqir179zJu3Dj2799PZGTkLdvU1FTGjBnDwYMHGT16tLGz\nPHz4MBERESxfvpyFCxdy/PhxYwBF2yAkLCzMuE1PT2fIkCGcOXOGwYMHk5GRQUhICJmZmQQGBrYb\njAwYMIBLly7h7+9PdnY2vr6+7QYn/fr1Mw5S2pR9W03xtk63tLQUV1dX42CjqqoKBwcHampqsLOz\nMyr8hoYGrKysaG5uxtzcHIPBgE6nAzqn9JcvX84TTzyBtbV1515+E2HRokW8+uqruLm5dbqNHxuR\nm3GzMbhp3xU6YERufD4MeACP/Z8wIjU1NdTV1eHq6mrSdjuKS5cusWPHDp577jmhPDIzM3n33XdN\nmmb7woULJCUl0atXL1xdXe86JXPw4EFycnKwtLQ02ULQNWvWoNPpjHWo09PTSUlJ4bXXXmv38ufn\n57N06VIeffRRvLy8uH79OocPHxY+ndXc3MyePXukiEh65513eOWVV4Svj4iIiCApKUl4571ixQp+\n/vOf33NJ6fuFw4cPExQU1KWM5PdqRBRFWUCrn6Q3UAxsU1X1tgVebmNEZgAbgWhTGBHh0VlHjhwR\nrkKg1YE7cOBA0TTw9vY2mWO9DX5+fhgMBgwGAzExMXc9vm0qoLi42GQcfH19yc/PN34eNGgQfn5+\nfP755+0iazw9PZk3b56xmFV9fT3fffedyXh0Fm0+ERkgQ3QWwPbt26XgoiiKFDVFNmzYcF8rtKqq\nmtxmCFRV/VBVVS9VVc1UVfW4kwH58Xk3Pm9SVVUxhQEBCYxIeHg4L774omgaVFdXc+nSJdE0uHjx\noklCfG+GoijMnTuX2bNn31NMfZtB7UiixLvB19eXnJycdlE0EydOpKamhm3btrU7dsiQIcTExPD1\n119jZmbGrFmzTMajs9DpdFLkioLWNRoyhLQ+8MADXS5cZgrcHBwiEjNnzsTOzk40jW6HcCOyd+/e\nTtfPMCWsrKwYMGCAaBr4+vqaZLHhj2Fra9uhqo1tc+k3h+N2BY6Ojmi1WsrLy437tFotDz/8MCkp\nKbcs9IyPj8fDw4P169fzzTffmIRDV9Dc3CxFriiQR4ls3LjR5Ek6OwNFUUz2nHYF27ZtM+nA638L\nhBuRyMhInnnmGdE0qKio4PLly6JpkJmZ2eW0J6aAi4sLzs7OHD9+3CTtKYpC//79yc3NbbffxsaG\nmTNn8s9//pNr1661O/7xxx+nvr5eimlGmZTI9evXpVAis2fPNumUZ2chuhZRG2bMmIGzs/PdD/w/\nBuFGZOfOnaxevVo0DWxsbPD39xdNg4CAgC4nYDQFWlpacHNz+6kFUB2Gn58feXl5t+zv27cvY8eO\n5bPPPjPmQVJVlZycHGxsbPj222+pr683GY/OoKWlRRolYmVlJXxxHcC3336Li4uLaBpoNBopfCIJ\nCQm3fb7/r0O4EZk4cSJPPPGEaBqUlZVx5coV0TRIT0/vUip4U0FRFHx9famsrDTZffH19b1FibRh\nxIgRODo68s9//pP169fz2muvsXr1alxdXXn55ZeFT+FotVpmzpwplEMbZPGJzJ07F1NHa3YGMuTO\nApg8eTK9e/cWTaPbIfzub9y4UYo5b1tbW3x9fUXTICQkhN/+9reiadDS0kJtbS3h4eF3zL/VUfTp\n04eysrLbpjdRFIVp06bR0NBAVVUVs2bNYv78+YSFhXW4Nsr9gMFgkCJKDOTxiXz11Vd4eHiIpiFN\ndFZycrIUU+LdDeFGZPr06VLUiygtLSUnJ0c0DdLS0li+fLloGiiKgq2trXHRmilSoJiZmdGnT587\nSn69Xs+sWbOIi4vD3d3dmOJDhopxPUrkVvzyl7/8yQzM3QUzMzPha2YAYmNj6dOnj2ga3Q7hRuTr\nr7+Woi6Bvb09Pj4+omkQGhoqfMEjtCqRmpoarKysCAoKYt++fSZpty3dxL2itrZWCl9EjxK5Ff/6\n17+keGcURZGipkhqauothd3+/wDhRmT27Nk88MADomlQXFwshVPs6NGj/P3vfxdNA0VRjCtvIyIi\nSElJuadytnfDjxcd3g1WVlZSKACNRiOFIoJWJSKDY/3Xv/51uxoxoiCLEhk3bhz9+/cXTaPbIdyI\nrF69msTERNE0cHR0pF+/fqJpEB4eLkXNeYPBYCzD6ubmhqOjI2lpaV1u19fXl7y8vHuejqmrq5NC\niaiqKkVdE5BHifzjH/+QYm2VLD6RI0eOSFFOorsh3Ig89thjTJo0STQNioqKpIg0OXDgwH0ts9kR\n3JyLaPjw4SZxsPfq1QtbW9t7Xl/Qo0RuRUNDg0lUYVfx3HPPSVENVBYlMmrUKCmMandDuBFZsWKF\nyebbuwJnZ2cpnGKjRo3iqaeeEk2jnRKB1vUrpaWlHfJn3Ak/Fer7Y9TW1kqRs0omJWJhYSFFp7l8\n+XKCg4NF0zDWHBGNkydPcurUKdE0uh3CjcivfvUr4RlaAQoKCigsLBRNg3379vHll1+KpoFGo2mX\nnVWr1Zos3PdOiw5vB2traymUiKIoUuTwgtYSBDIokUWLFnHixAnRNNBoNFKsFQkPDyckJEQ0jW6H\n8Dv/t7/9jaNHj4qmgaurK15eXqJpMHbsWObNmyeahrFg2M0YOnQoJ0+e7HJ51tulP7kTampqpPCJ\nQGskoQyQRYl88MEHhIWFiaaBRqORIjrrzJkzUvRl3Q3hRuSFF14gIiJCNA0KCgqkyAO0Z88evvrq\nK9E00Gq1t9SJsLa2JjAwsEvTj6qqcubMGQwGwz1FGPXq1UsaJTJnzhwpoqIaGxulSDj48ssvc/jw\nYdE00Gq1UiiRIUOGMHToUNE0uh3C7/ySJUtIT08XTQNXV1fc3d1F0yA6Opqf//znomnQ1NTUzifS\nhuHDh5OcnNyp6RSDwcCaNWvYt28fTzzxxD2Npqurq1m/fn2Hr3U/8M0330hhRCwtLaXoNJcsWcKI\nESNE00Cr1UrhE8nKyuLAgQOiaXQ7hD+JixcvZvDgwaJpkJ+fT0nJHStMdhsSEhKkSAOj1WpvWynO\nw8MDW1vbDjsQGxoa+OSTT8jNzeXJJ5+85xTiNjY2PPTQQx261v3CnDlzpJhGksUn8l//9V9SBMXI\n4hMZOHAgw4cPF02j2yH8zv/5z3/m4sWLomnQu3fvLtVGNhViY2OZM2eOaBp3VCLQqkY6kt23srKS\n9957DzMzM+bOnYuFhcU9n1tVVSWVEpEh3YgsPpG33nqLsWPHiqYhjU/k8uXLUhjV7oZwI/LGG29I\nEVudk5NDWVmZaBps375dipDWOykRgKCgIIqKiu5p5XlBQQHvvPMOvr6+zJgxo8O1H2xtbaWp4zF7\n9mwpOm9Z1on88Y9/NGmpgM5CFiXi7+/PmDFjRNPodgi/87/73e+kSDfi4eGBq6uraBrEx8dL4Uhu\nbm6+oxLRarUMHTr0rh1IW4GtcePGERUV1akOuLKyUhol8u2330qhRCwtLaUwZn/4wx+IiYkRTUMa\nn0heXp7JMl7/b4JwI/KXv/wFb29v0TS4evWqFPWiN23aJEVCSo1Gc0clAjBs2DCOHz9ObW3tbb8/\ndOgQK1as4Gc/+xmhoaGd5mFrayuNT+Rea9Tfb8gSnfWXv/yFHTt2iKaBoihS/C59+/aVYs1bd0P4\nnV+0aJEUDm0vLy8pSlvOmDGDBx98UDSNn1Qi8D+VIFNTU9vtV1WVLVu2sH79eubNm9flhHRVVVVs\n2LChS22YCt9++60U00jm5uZSdJqvvfaaFCmLZFEiRUVFUtS+6W4IfxKXLl0qxTRSdnY2lZWVommw\nbt06tm3bJprGbdeJ/BgREREkJycbp3haWlpYvXo1x48f56mnnjLJ7yqTEpk1a5YUnXdTU5MUSmTp\n0qVs3rxZNA20Wi1arVY0DTw9PYmNjRVNo9sh/I2YP38+1dXVomng7e2No6OjaBo89NBDTJkyRTSN\n265Y/zG8vLywtLQkPT2d+vp6PvzwQ0pLS5k3b54xjXxXIZNP5Pvvv+9RIjdh8eLFTJ8+XTQNNBrN\nbatldjdKS0vZsmWLaBrdDuFP4vLly7G1tRVNg+zs7C6n8zAFvv76aylS42u1WqysrO563PDhw9m2\nbRtLlizBxsaGOXPmYG5ubjIeMimRhx9+WIrOWxYl8uGHH0qRkkaj0XQ46u9+wNXVlfj4eNE0uh3C\n34gnn3xSitGdt7c3dnZ2omkwe/Zs4uLiRNOgqanpnkZ3wcHBVFZWEhwczJQpU0w+rVBZWcnGjRtN\n2mZnIYsSsbCwkMKYLVy4UIrwa41Gc1fV3B2orq6WIjy/uyH0SVRVlc8//xydTieSBgAXL178SUdy\nd+E///kPSUlJomncsxIxMzNjwYIFjBkz5r6EndrZ2UlR+RJg5syZUsy9yxKd9cknn7BmzRrRNNBq\ntVL0Ifb29syYMUM0jW6HUCPS1NQkRe0MaM0sa6p5/K5g7ty5UsTe36sSAe7rmoWKigopQp6hVYnI\n0HlbWFhIYcyeffZZHnnkEdE0pFEi169fl6bmTHdCqBHRarX885//FEnBiPPnz0vhnPvXv/4lReqE\ne1Ui9xv29vbSKJGHH35Yis5GsDMhAAAgAElEQVS7sbFRinKwn3/+OV988YVoGtL4RHr16iXF9F53\nQ6gRqa6u5rnnnhNJwQg/P7+fXFzXXZg3bx7jxo0TTYPm5mYpjGpFRYVUPhEZOm9ZorOefvppHn/8\ncdE00Gq1UkxFNzc3S1HGobsh9Em0trbm008/FUnBiHPnzkmRxG3lypUcPHhQNA00Gg2WlpaiaUin\nRGSYe5clOuuLL75g5cqVommg0WjQ6/WiaWBhYSFNzZnuhFAjcu3aNV566SWRFIwYMGCAFNM3Tz31\nFKNHjxZNg+bmZimMqmw+kR4l8j94/PHHefrpp0XTQKPRSKFEAP79739LkV+tOyH0SXRycuL9998X\nScGIM2fOSNFBfPbZZxw7dkw0DbRarRRKxM7OTpqIl5kzZ0qhRJqbm6VQImvXrmX58uWiaaDRaKT4\nXaB1OrrHiHQj8vLyeO2110RSMCIwMLBDdS7uF37zm99IUdimsbFRGp+ILEpk3bp1UqgzvV4vhRJ5\n5JFHpPBpyuITgdaaMzI8I90JoU+ih4cHb7/9tkgKRrTV/RaNjz/+mJMnT4qmgZmZmRRKRCafiExK\nRAbVvH79eilmEmTxiQA8+uijUhj47oTQv/bixYv8+c9/FknBiMDAQCkexGeffZawsDDRNGhsbJQi\nM2p5ebk00Vnr16+XYpRpbm4uRajxz372MxYtWiSahlRKZP369dJw6S4INSK+vr68+eabIikYkZ6e\nLkVUxd/+9jfOnDkjmkaPErkNHnroISmUiCzrRDZv3sxf//pX0TRQFEWKdSLQmunZlLnj2qAoilZR\nlDRFUbbc+OyjKMphRVEuKIrytaIot4yAFUXppyhKvaIoJ2/8++ym78YrinJMUZQlN+1LVhTl2E2f\nwxVFSb4bN6FGJD09nXfffVckBaA1/UpQUJAUD+KCBQsYNGiQaBo0NTVJo0RkSDcOsGHDBimUiIWF\nhRTP6vTp03n55ZdF08DMzEya0f+WLVvuV3G7hcC5mz7/FXhfVVV/oBy4U+qPS6qqht7498xN++cD\nkYBWUZTAm/a7KooyuSPEhBqR4OBgKR5CVVVJT0+XouToe++9x/nz50XTkCY6y8HBQYp049CqRGSY\n8mxqapLCmO3cuZO33npLNA0URZHidwF48MEHTb5oWVEUL2AqsPLGZwWIAb67cchqoKOV7DSAChiA\nmzu+d4E3OtpQh1BUVERaWhqlpaWcO3eOiooKLl++TE1NDT/88AP19fWUl5cb61GoqnrHaaJjx47x\n0UcfdZSCydHS0tKlEq6mxOLFiwkKChJNQ5qOqqysTJoaDRs2bJBCnen1eil8IvHx8bz++uuiaUjl\nE9mxYwclJSWoqkpLSwtNTU3U1dVRV1dHaWkplZWV5OfnU1payqVLlygsLCQjI4O8vDyOHz9+p2Y/\nAF6mtcMHcAIqVFVti/POAzzvcK7PjWmwFEVRIm/avxI4AGhUVb1Z4RwEGhRFib7Xv7nDmjgvL4/9\n+/czcuRIkpOTiYyMJDExkejoaLZv305cXBwbN25kypQprFu3jgceeIBvv/2WOXPmsGHDBh5++GG2\nbt3KjBkz2Lx5M9HR0fzxj38kPj6elJQUYmJiOHDgAOPGjePIkSOMHDmSkydPMnz4cNLT0wkLC+Ps\n2bMMGjSIixcvEhAQwOXLl/Hz8yMnJ4d+/fpRUFCAt7c3hYWFeHp6cu3aNdzc3CgvL8fZ2Zmqqioc\nHByora3FxsaGqqoq0tPTqaurM85ninpJ3377bX7zm98wePBgIddvg1arvS9zux2Fo6OjNErkwQcf\nlGLEK0t0VlJSErt27WLp0qX39TqqqmIwGGhubkZRFJqamoyFqPR6PeXl5RgMBvLy8rC0tKS8vBxb\nW1tKSkqws7OjuLgYJycnCgoKcHV1JTc3Fw8PDy5fvkyfPn24ePEi/fr1IzMzEz8/PzIyMhgwYABn\nzpxh4MCBnDx5kpCQEI4fP86QIUM4cuQIw4YN48CBA0RERLBv3z5Gjx5NcnIyHh4evPfee8TFxbFn\nzx4mTZpEcnIysbGxpKamEhUVxeHDhxk7dizHjh1j5MiRpKWlERERQXp6+i1/u6Io04BiVVWPK4oy\nvm337W7Tbfb9AHirqlqqKMowYIOiKMGqqlapqroTuFMt37doVSOv3Mvvo3TEmawoilpQUHDPx7eh\nzSo3NjYaM27q9Xo2bNjA+fPnefLJJ7G1teXatWs4ODjwww8/4OLiQm5uLu7u7sYf+8KFC/Tv35+z\nZ88yYMAATp8+TVBQECdPnmTw4MEcO3aMsLAwDh8+THh4OAcOHGDEiBHtfuRx48axe/duxo8fT0JC\nAjExMWzZsgVbW1sqKiqYPHkyGzduZMaMGWzatIkHH3yQbdu2MX36dHbu3MnUqVNJTExk0qRJJCUl\nMXHiRFJSUoiOjiY1NZVx48Zx8OBBRo8ezZEjRxg1ahRHjx5lxIgRHD9+nOHDh5OWlsbQoUNJT09n\nyJAhZGRkMGjQIM6dO4ezszNFRUWEhYWRlZVFQEAAly5dwt/fnytXrtC/f3+uXr1K//79ycnJoW/f\nvuTn59OnTx8KCwvx8PCguLgYd3d3iouL6d27N2VlZTg6OlJeXo6joyMVFRU4ODhQWVmJg4MDVVVV\n2NnZUV1dja2tLTU1NWRkZFBTU0NcXBx1dXVYWVlRX1+PlZUVDQ0NWFhY0NjYiLm5OU1NTcatXq+n\npaUFMzMzDAYDWq0WVVU7bZQvX77M559/LsW0ycKFC/njH/+Ivb29cV/b+9OmuBVFoaWlBY1GY9w2\nNzej1WppamrCzMys3WedTkdDQwN6vd64vX79Oubm5tTX12NhYUFdXR2WlpZUV1djbW3N1q1b6d+/\nP71798bGxoby8nLs7e0pKyvD3t6ekpISHB0duXbtGk5OThQXF+Ps7ExhYSFubm7k5+fj4eFBbm4u\nnp6e5OTk4OXlxdWrV+nTpw+XL1+mb9++ZGdn4+Pjw8WLF+nfvz9ZWVn4+/tz7tw5/P39OXXqFH5+\nfly6dImBAwdy6tQpQkJCSEtLY8iQIRw7doyhQ4e2ex8jIiJITU1l9OjR7N27lzFjxpCUlNTuvUxM\nTCQmJoadO3cSGxvL9u3bmTZtGgkJCUyePLnd+xcbG0tSUhKVlZW4ubkxfvx4Dh48eEsnHR4ebhyE\nZmRkMHjwYLKysggKCuLixYsEBgYaB6O5ubn4+Pjwww8/4OXlxbVr1/Dw8KC0tBRXV1cqKipwcnKi\npqYGBwcH6uvr6dWrF01NTXz88cfEx8cTGhraqelxDw8PVFU1nqgoytvAY0AzYAHYAuuBSUBvVVWb\nFUUZBfxBVdWfLHh/w0m+WFXV265mvvl7RVFSgTXAw6qqjv/JdrvDiNwJFRUVNDU14eLiYrI2O4Pq\n6mqWLVvWLlLMYDBgMBhQVfWWkU9NTQ0WFhZUVVVhbW1NeXk5dnZ2XLt2DUdHR4qKiowvraurKwUF\nBbi7uxtf2qtXr+Ll5cWVK1fw9vYmOzubfv36cfHiRb744guioqKIiori3LlzBAQEcPbsWQIDA0lP\nTyckJOSWl/XEiROEhoZy9OhRhg0bxpEjRxg+fDgHDx5s99KmpqYyatQo9u/fz5gxY9i3bx9jx44l\nJSWFqKgokpOTiYqKIikpid69e3P8+HEeffRRdu/eTUxMDLt27WLChAkkJiYyYcIEEhISmDhxIjt3\n7mTSpEls376d+Ph4tm3bxuTJk9m6dSuTJ09my5YtTJs2jc2bNzN9+nS2bNnC9OnT2bp1K9OmTTN+\nv3XrVqZOnWrcbtu2jfHjx/Pdd98xb968dvunTJli3G7fvp3Jkyezffv2O+6/ebtjxw7i4+Nv2d78\nd0yaNMm4v+3vWbVqFb/4xS9ISEhgypQp7fi28b95u23bNqZOnWrk1Xb9tuskJCS02yYmJhIXF8eu\nXbuYOHGicbt7924mTpxIUlISEyZM4F//+heRkZEUFBQQFRVFamoqkZGRHDhwgLFjx3Lo0CHjIGbE\niBG3DGJOnDhBeHg4aWlpDBs2jFOnThEaGkp6ejqDBw9uN6gJDg7m/PnzBAUFkZmZycCBA7l48SID\nBgxgw4YNnDlzhieeeAIfHx/y8vLw9vY2dr5tg5mSkhLc3NwoKyvD2dmZyspKHB0dqa6uxt7enrq6\nOnr16kVDQwOWlpa0tLSg1+sxGAzodLq7dsYGg4GPPvqIhQsX3u+u4q44efIk7u7uuLm5der8HxuR\nm3FDiSxWVXWaoijfAt+rqrr2RtTVaVVVP/nR8S5AmaqqLYqi9Af2AYNUVS27Q/vJ/I8RmQJ8BmRL\nbUS+//57rl69yosvvmiyNjuDmpoaEhISpEjjnJOTg4uLi3Cn9r59+zAYDERFRZmszbbR+o9H7AaD\nwThy12q1xm1zczO5ubmsWrWKP/3pT+32t43ozczMjCP6m0f6P97/4+3Nx928bfter9cb97cpqkWL\nFvHmm29ib29vXFAmIhhj165duLm5CY/ia2hooLGxUYo6PEuWLOGll14S7iv68MMPGT16NOHh4Z06\nvwNGpD+wFnAE0oBfqKraoCjKDCBcVdXfK4oyE/gTrSqmBXhTVdU7hjr+WKkoinIcqL6bEREaJxgd\nHS3F2ozGxkYpIqIA3nzzTV577TX8/f2F8riXEWBHoShKuzbbOuK2F/92WxcXFx544AHMzMyMYa13\n27at5bjbts2/8eNt2/c/DqN96KGHsLKyEt5RyeITOXLkCP/+979ZsWKFaCpYWlpK0ZdER0fj6Oh4\nX9pWVTUZSL7x/2wg4jbHbAI23fj/98D3HWh//I8+D7uX84SG+G7btk2KSmAajYbg4GDRNAD4wx/+\nQJ8+fUTT4Pr161J0VKWlpWzdulU0DQA2btwoRQU9vV4vxTqRESNG8N5774mmAciTHv/gwYNcvnxZ\nNI1uhVAjEh8fz+zZs0VSAFpleVZWlmgaALz++usUFRWJpoFer5ciOsvJyYmpU6eKpgG0RmeJnmaE\nViUiQ6hxWloaL7zwgmgaAFL8LgCRkZF4e3uLptGtEGpE1q1bJ8VqZDMzMynWZgC89dZb9O7dWzQN\nGhoapFAiJSUlbNu2TTQNADZt2iTFegS9Xi9F+pWwsDA+/PBD0TQAedLjHz16VJoBaXdBqBF58MEH\npciLVF9fz4ULF0TTAODll1+mtLRUNA10Op00SmTKlCmiaQAwY8YMKUa8siiRjIwM5s+fL5oGII8S\nGTVqFP379xdNo1sh1Ih89dVXJCYmiqQAtHaYgYGBdz+wG/DXv/4VZ2dn0TSkUiLbt28XTQNoTTgo\ni09EBiUSEhLCJ598cvcDuwGyVOI8efIkGRkZoml0K4QakUcffZRJk35yfUy3oLa2lkuXLommAcCL\nL75IVVWVaBrSKBFnZ2cmT+5QPrj7hunTp0sx4m1paZFCiWRlZUlRHhdak1LKkPtu6NCh0gxIuwtC\njciqVavYt2+fSApAa32GgIAA0TQAWLp0absV0aLQtgZANK5duyaNEtmyZYsUPhGdTieFEhkwYAAr\nV64UTQOQJ+z57NmzUhSV604INSLz5s1j3LhxIikArYsNr1y5IpoG0JoKvra2VjQNdDqdFOWCXVxc\npPGJTJs2DSsrK9E0pFEiV65c4bHHHhNNA2j1icigRAYPHizNcoHuglAj8umnn3Ls2G3TuHQrLC0t\n8fPzE00DaC1KZepU0p1BjxK5FVu3bqWmpkY0DXQ6nRTrRHx8fPjiiy9E0wAw5uYTjaysrJ/Kxvt/\nEkKNyDPPPENExC2LLrsdVVVV0iiR+fPnSzHKlGWdiEw+kWnTpklh4GXpMAsKCnjkkUdE0wBan1cZ\nlMjAgQMZMmSIaBrdCqFG5P3335eiFKyVlRW+vr6iaQDwySefSDGNJMuKdZmis7Zu3Up1dbVoGuh0\nOilS0nt6erJ27VrRNIDWJIwyGNbLly9z+PBh0TS6FUKNyMKFC4UnkQOorKwkJydHNA0AfvWrX9HS\n0iKahlRKRBafyNSpU6VRIjKEGhcXF0uRtBRao7PacrGJhL+/f6eTL/5vhdC7/vbbb3Px4kWRFADo\n1asXPj4+omkA8Pe//12K+W5Z1okUFxdLo0S2bdvWo0RugqurK99/f8/5/e4rDAaDFNPAubm57N+/\nXzSNboVQI/LKK68wYMAAkRSA1hKs+fn5omlgMBh4+umnpZjblWWdiKurqzQ+kalTp0qR9lyW6KzK\nykqmTZsmmgbQqpxlUCI+Pj6MHDlSNI1uhdC7/oc//IHc3FyRFACwtbWVImmaoijSxN3LpER27Ngh\nmgYA27dvl2YhqAzrROzt7dmyZYtoGoA8SuSHH34gKSlJNI1uhVAj8vvf/56+ffuKpAC0phv/4Ycf\nRNOgoaFBmlxEskyZuLi4EB8fL5oGAJMnT5ZGiVy/fl00Derq6oiLixNNA2hVIqLrvAB4eXlJsfat\nOyHUiLz66qtcu3ZNJAUA7OzspKjhodfr+eyzz0TTAFoNmgxZUYuLi9m5c6doGoBcSkQGA29tbS3N\nb6OqqhRKpLS0lISEBNE0uhVCjchf/vKXTtciNiVKSkqkqOFRW1srTX0GWToqV1dXaZTIlClTsLW1\nFU1DGiXS1NREdHS0aBqAPErEzc2NmJgY0TS6FUKNyKJFi6SIdnFwcMDT01M0DaysrPj4449F0wBa\n14nIoESKioqk8olUVlaKpiGNgdfpdNLM/6uqKkXYc2VlpTT1b7oLQo3I0qVLsbOzE0kBaJ0yKS4u\nFk2DiooKFi1aJJoG0Bp3L0NH5ebmJo0SmTx5shRKxGAwSNFhKopCZGQkBoNBNBVp0uM7OjpK4yfq\nLgg1IvPnz5dilamjoyPu7u6iaWBnZ8cHH3wgmgbQWqhLFiUiy7z7jh07pFAiZmZmUmQ1ANi7d68U\nIemyKJH6+no2bdokmka3QpgRUVWVTz/9VIqXoaioiJKSEtE0KCkp4eWXXxZNA5BnZOfq6ipFzRno\nUSK3w8SJE6Xwz8iSlNLGxoapU6eKptGtEGZEWlpa+PWvfy3q8u3g7OwsRV1zJycn3n33XdE0gFaf\niAzpV4qKiqSJdpFFiWi1WimmGgF27dolxUBQFiXS3NwszSr+7oIwI6IoCv/4xz9EXb4dCgoKKCsr\nE02DoqIiXnvtNdE0AHmUiJubm1RKRAYfnqqqUoz+oTViTZawZxmeVwsLC2bMmCGaRrdCmBGpra1l\n4cKFoi7fDq6urri4uIimgaurK2+//bZoGoA8SuSHH36QSolUVFSIpoGZmZk0SmT79u1SLMAEpKg6\nCfDNN9+IptCtEGZELC0t+eijj0Rdvh3y8/MpLy8XTYO8vDx+//vfi6YByKNE3N3dpYl2iY+Pl6J0\nscFgkEaJzJgxQwoVL4sS0Wg0zJkzR4oBWHdBmBEpKyuTxons5uYmhRLx9PTkz3/+s2gagFxKJDEx\nUTQNAHbu3CnFYEMmJbJp0yYcHR1F0wCQoqw0wLp166TIO9ddEGZE7O3tee+990Rdvh3y8vKkcJhe\nuXJFGiNibm4uxcjO3d2diRMniqYByKVEZHAiA8yaNUuKvHOyZJ0GmDNnjhRhz90FYUakoKBAmqkb\nd3d3nJycRNOgb9++0tyTuro6KZRIQUEBu3btEk0DgISEBGmUiAwRUQDfffedFJGNII8S2bRpkzRG\nvjsgzIi4ubnx1ltvibp8O+Tk5EgRYXLhwgX+8pe/iKYBtPqsZFAiHh4e0iiRuLg4aZSILE7kuXPn\nSlEVVKaw5wcffFCKd6e7IMyIXLlyhf/+7/8Wdfl28PDwwMHBQTQN/Pz8eP3110XTAORRIvn5+dL4\nRBITE3uUyI+wZs0aaWrxyKJEduzYIUVOwO6CMCPSt29f3njjDVGXb4erV69K8QCeO3dOmsWGFhYW\nUqwAlkmJTJw4UYrBhqqq0iiRefPmSVHiWiafyPTp07G0tBRNo9sgzIicO3eOZcuWibp8O3h5eUmx\niCwwMFCaiLW6ujopEuvJ5BNJTEyUIpxVo9FIo0RWr16Nr6+vaBoA1NTUiKYAyKNYuwvCjEhAQACL\nFy8Wdfl2yM7OlmJkl56ezvvvvy+aBiCXEomNjRVNA2j1ifQokfb41a9+xdmzZ0XTQKvVSqNEZKmA\n2V0QZkROnjzJ8uXLRV2+Hby9vaX40UNCQnjxxRdF0wDk8onIokR27dpFaWmpaBqYmZlJ02GuXLmS\noKAg0TTQaDTSKJGkpCQpErp2F4QZkcGDB0tTxe/SpUtSrAA+ceKENEWpLCwspIgw8fT0lMYnEhsb\nK0UouEzrRJ599llOnjwpmgZarVYaP8SECROkUKzdBWHzFYcOHeLo0aNSONf79u2LtbW1aBqEhYVJ\nM78sixLJy8tj165dhIWF3bdrKIqCtbW1cfquqamJ69evY21tjUajwWAw0NLSgpeXF87OztjY2KCq\nKi0tLTQ0NNyyOtnKyuq24aaqqtLY2IhWq0Wn0xnbbmxspK6uDo1GYwyt1mg0tLS00NjYSH19Paqq\notfrsbS0JCQkBDc3N8zNzYXXFf/kk0+k6LwVRZEmIio1NRW9Xo+rq6vJ2lQURQscA/JVVZ2mKIoP\nsBZwBE4Aj6mq2qgoSi/gK6AX8AtVVQsURXkCWAWEqqp6+kZ7Z4Bpqqpe6So3YUYkIiKC0NBQUZdv\nhwsXLjB27FjRNDhy5AjJycn86U9/Ek1FKiXyUz6R+sIrlJ1K7nT7jkPG4+IXgoWFBVeuXAFaQ61t\nbW2prKykuLgYV1dX7OzscHd3p7KyksrKSvR6PR4eHtjY2FBTU2PswPR6PXZ2dmRnZ99ihO3s7HB1\ndaWlpYXz589TVFSEm5sbQUFB2NjYoCgKzc3NnD9/nuLiYjw8PAgICMDKyorGxkasra0pKSkhMzMT\nb29vHB0duX79ulAn7qJFi3jqqacYPXq0MA7QqkRkCTYYP348zs7Opm52IXAOaCto81fgfVVV1yqK\n8hnwFPAp8AtgBZADLABevXF8HvA6MMfUxIQZkZSUFC5dusRLL70kioIR/fv3l2I0NXz4cAYOHCia\nBiCPEsnPz2f37t13VCINZT9QkPglqGrHG1cUrPsEotUOITc3lwEDBgCwceNGZsyYwffff89TTz3F\nihUr+PWvf82jjz5Kamqq8XRra2veeecdnn/+eRobG2loaDCqmZEjR3Lt2rV2l3vuuef4+OOPGTt2\nLIcOHTLuj4yMZMeOHVhZWTFs2DBOnz5t/G7ixIls3rwZa2trPvvsMxYuXIhGo6GxsZHnn3+ev/3t\nb1hZWQlztL///vtSvDtarVYaJXLo0CHCwsLw9PQ0SXuKongBU4H/Bl5UWnOqxABzbxyyGvgDrUZE\nCxhu/Ls598oWYJyiKAGqqmaahNgNdNgnUllZSU5ODrW1tRQXF3P9+nWqqqpobm7ukLSOjIzk8ccf\n7+jl7wuysrKkSJiWmpoqTY0VWVase3p6MmHChDt+bzdwJOZOHp1q29zJA7uBI27Z/9prr/2kAd2w\nYQObN2/G0tKSBQsW8MMPPxhHwW3nbdq0ib1797J3714eeughAKOieuSRRzh37hxlZWVMmDCBffv2\nsXXrVqB13UVWVhbXrl1jzJgxJCYmsmvXLqqrq1mwYAFhYWHU1NTw7LPP8uGHH5Kamip0KvaVV15p\nZ1hFQSafyJgxY25bbttgMNDU1ERdXR11dXWUlZVRWVlJQUEBpaWlZGdn36nJD4CXaTUMAE5Ahaqq\nbfWr84A2i/UfWhXIx8DNadINwBLA5AWLOqxETp8+ze7duxk/fjw7duwgNjaWLVu2EB8fz4YNG5gx\nYwbr16/n4YcfZsuWLTz44IPs2LGDqVOnsmvXLuLj40lJSQFaQ1pfeuklDh8+zJgxYzh+/DgRERGc\nPn2aYcOGkZGRwZAhQ8jMzCQoKIhLly4REBDA1atX6d+/PwUFBfTp08co/a9du4abmxvl5eU4OztT\nVVWFg4MDtbW12NjY0NDQgJWVFc3NzZibm6OqKjqdjv79+0shhUePHi3NFJ8sSiQvL489e/bcUYko\nikKf6c+Q/Z//xtB478ERGr0FfaY/c0uivEGDBnHmzBn+85//3PHcoUOH4uXlhY+PDyUlJZSUlBgd\nqQ0NDVRXVxMWFoZOp6O2tpakpCT8/f2NxYpurqMzcOBAdu/ebewAb47OCwgIIDU1FUtLSwoLC2lq\nasLLywtVVenXrx8Au3fvFjqVtGTJEmGRYqqqGv1Vzc3NXLt2jbq6Ourr69HpdNTU1GBhYUFlZSW9\nevWirKwMGxsb4+9VWFiIs7Mz+fn5uLm5kZubi7u7O1euXKFPnz5cvHiRfv36kZmZia+vL+fOncPf\n358zZ84QGBjIqVOnCA4O5sSJEwwZMoSjR48SFhbGypUriYiIoKysjJEjR5KSksKYMWNISkoiNjaW\n1NRUxo8fz6FDhxg7dizHjh1j1KhRpKWl3fI3KooyDShWVfW4oijj23bf7nbcuCcVwOQ73LKvgNdv\n+FNMhg4bkcjISCIjI4HWuT/4nxFWfHw8qqoyadIkDAYDY8eORaPREBoail6vx9/fHysrKzw8PGhq\naiI6OhovLy/MzMxwcXEhODgYW1tbvLy80Ol0WFtbGx+Quro6SktLKS8v59KlS1hZWXHixAkMBgNH\njhwhPDycAwcOMGLECPbt28fo0aNJTk4mMjLSaPQSEhKYMGECO3bsIC4ujs2bNzNlyhQ+/vhj9Ho9\nSUlJTJ06lcTEROLj49mzZw8TJ04kJSWFmJgY9u3bx/jx4zlw4ACRkZEcPnyY0aNHc+zYMUaMGEFa\nWhrh4eGcOnWKsLAw0tPTGTx4MGfPniUkJITMzEwGDhxIVlYWAwcO5MKFCwwYMIDs7Gz8/Pz45ptv\nqKysZPLkyfTr14+8vDz69u1Lfn4+Xl5eFBYWtjOWJSUluLm5UVpairOzMxUVFTg6OlJVVYW9vT01\nNTXY2dlRW1tLr169qIOE044AACAASURBVK+vx8rKyrhtaGjAwsKCxsZGzM3NaW5uRqfTtdu2tLRg\nMBjQarWoqopG0ypeuytLqZeX108qEQD74NHobJ1oKMm/53Z1tk7YB9/a+YaEhDBkyBB+//vf88or\nr9z23NmzZ1NTU8OZM2cIDg4mICCAlpYW9Ho9BoOBmpoaNBoNrq6urFq1ioqKCt555x0URaG4uBgb\nGxssLS3ZsGEDK1asYNq0aUyePNnoXLewsGDt2rWsXr2aWbNmMX78eAwGAwEBAWzZsoUFCxawceNG\nAAoLC1EUhfr6eqqrq7GwsKCmpgZra2uqq6uxsrKiqqoKGxsbysvLsbe3p7S0FAcHB0pKSnB0dKS4\nuBhnZ2eKiopwcXGhsLAQNzc3CgoK6N27N3l5eXh4eJCbm4unpyc5OTl4eXlx+fJl1qxZg7+/Pw88\n8ABZWVn4+vqSmZmJv78/GRkZBAYGkp6eTlBQEKdPnyYkJMTY6R4/fpzQ0FDj+3vw4EEiIiJITU1l\n5MiRxvc4JSWFyMhI9uzZw7hx49i9ezfR0dEkJCQQHx/P7t27GTNmDHv27CEgIID9+/cb39OoqCjj\ne9o2SD116hTDhg0jPT2dsLAwrl69iq2tLWVlZbi5udHU1IROp8PCwoJevXrh5uaGs7Mzfn5+eHl5\nGf1hDg4OuLq64unpibOzMwMGDMDe3p5evXrh4OCAh4cHVlZWTJo0CXNzc2bOnAm05tYCjLXY2yp3\nxsTEsHTp0h8/bmOAGYqiTAEsaPWJfADYK4pidkONeAEFd3vmVVVtVhRlKXD7B7uTUNQOzCUriqIW\nFNyV6z3h888/x8zMjHnz5pmkvc5CVVX+/e9/8/DDDwOt8eZtc9v19fXo9Xqqq6uxtLSkqqrKOKKx\ns7Pj2rVrODo6UlhYiIuLC/n5+fTu3dv4sl29ehUvLy+uXLlC3759uXTpEj4+Ply8eJH+/fsbX7bz\n58/j7+/P8ePH6devHwUFBcaXLjg4mJMnTzJ48GBOnDhBWFgYR48eZdiwYRw5coRhw4Zx6NAhIiIi\nOHjwICNGjCA1NZXRo0ezd+9exo4dazSmycnJREVFGbd79uwhOjqa3bt3ExMTw65du5gwYQKJiYnG\nEqzTpk1j586dxMXFGY3v9u3bmTp1Ktu3b2fKlCns2LGDyZMnk5CQwKRJk0hMTCQuLs643b17N7Gx\nsezZs4cJEyaQnJxMdHQ0SUlJREdHk5yczPjx42+7v0+fPmzatIlFixaRkpJCVFQUKSkpxuPbtrED\nPTA/sQ4z7r7KvhkNjcNmsiezkHHjxuHr64ubmxu+vr48+uijvPXWWwQGBhISEkJaWprRJzJ27FhS\nU1OZNWsWjo6OBAQE8Mtf/vKWpIybN2+mb9++BAUF4efnR11dHVevXiU1NZW+ffvi7+/P8uXLWbBg\nATNnzuTLL7/E3Nyc2tparKysWLZsGYsXL+axxx7j888/N04rFhQUsGzZMnJycrC1teXzzz/n7bff\n5v/9v//HmjVrjPdj//79jBs3jv379xMZGcnBgwcZM2YMhw4dYvTo0Rw+fJhRo0Zx9OhRIiIiOH78\nOMOHDyctLY2hQ4caB0GnT58mNDSUM2fOMHjwYDIyMhg0aBBnz54lODiYrKwsvL29yc3NJSQkhEuX\nLuHn52ecKcjNzcXHx4f8/Hz69OnTbhDUu3dvSktLcXV1pby8HCcnJ+PMQdvgp76+HmtraxobG7G0\ntDTOIBgMBuM9aRvMVFdX889//pMFCxaYsnvoFL7++mvs7OyIj4/v8LkeHh6oqnrbEdoNJbL4RnTW\nt8D3NznWT6uq+skdznsCCFdV9XlFUfTAWcAGGGGK6CxhRqSoqAidTidFQZvXX3+dN998U3gW0HXr\n1nH58mUpgg1Wr17NjBkzbhvvrqqq8R+0zvW2RRZptVqampowMzOjqakJrVZLY2Mjuv+vvTOPi+q6\n+//7sO87ooiIouKK4oIL4oL7EhPTpEnT2KZZ+qRNkyZNmq0mzWJTszVpmiZNmqbJr2napM2qqIgL\nCrggIIoK4oYri4DsO3N+f9xhigIqysw5fZ75vF68LnPn3jmfOXPv/Z7POd/F2ZmmpiZcXFxoaGjA\n3d3dsq2vr7csDl+6v66ujhMnThAbG0tdXR2enp6Wh+2l5x1988e0VpZc8bs5+oUw5OfvWRRaYGAg\nVVVVFiPy6aef8uCDD1pidi41IqdOnWLAgAGWeA0PDw+Sk5NZvXo1jz76KAsXLkQIwWeffcYdd9zB\nCy+8wMqVKy2K8dlnn+XFF18kPj6eVatW4eDgQEREBGFhYTz22GO8/vrrzJ07l2effRYhBIMHDyY0\nNJT8/HwiIyOpr6/njjvuYP369eTn5zNw4EBl6Vgef/xx4uPjueGGG5S03466ujr+8Y9/cO+99yrl\nAYa3J8DQoUN7fG4PjMhg/uPiuxfDnbfLRemORsT8+iHg98Cg3jAiyoIN//Wvf2kRiSylZNiwYVos\nIickJLBixQrVNABjTaS7AYYQAgcHBxwdHS0xD+2ZZZ2dnS1xEp6enri5ueHj44O7uzt+fn54eHgQ\nGBh40TYoKMiy9fT0tGyDg4MpLy8nJycHT09P+vTpY9l6eXldtPX29iZi+c9wcLn82paDixuDlv8M\nHx8f+vXrZ5lauhQrV67Ew8Oj289pbGykpKSE6upq2traKCkpYevWrZw7dw5HR0eEELz22mu4u7vz\nk5/8hKamJhwdHQGjBgdAamoqM2fOJD4+3rIG0/7epk2bmDFjBvHx8Xz55ZcAPProo3h4eODv709q\naip//OMfGTZsmNIUKM8++6wW5YsdHBy0KCwHcPDgQQ4ePNjrnyulTJFSLjX/f1xKGSulHCKlvLU7\nA2I+9qN2A2J+/ZaUUvSGAQGFLr7f+c53tPCmkFKSl5enRSWypKQkSktLtYjkd3Nzszz0VGLAgAHM\nnj37qo69mrWRrtZC2gMJDx8+bEl/ExISQn5+Pg0NDZagsU8//ZTGxkb69u17UcR4a2srN954I4cP\nHyYkJAQw1Nk//vEP3NzcCAoKoqyszGKU161bR3Nz80Uc2uMKtmzZQmtr60XvtZdu/vvf/87+/ftp\naWkhNjbWEqOiMtvC6tWriYmJscz3q4KDg8Nljb4tER0drTwI1JZQZkT+9re/MXLkSJYuXaqKAmDc\n7GPGjFHKoR3z58/v9ABRhcspEVvi1KlTpKamXpXX2pU8tbrzyGovAzBgwACklJSXl+Pg4EBgYCBC\nCEwmE9XV1ZSWlhIWFkZjY+NFo//q6mo8PT0tU1znz5/Hzc2NAQMGAHDhwgWLC3llZaXF0HRE+4J8\nd66hFy5cwMXFhcmTJ9Pa2srRo0fp37+/ctf0p556SotEnU5OTtookYKCAiorK7WJ+bI2lP363//+\n97VIetgePawDEhMTqa2t5f7771dNBXd3dy2USHh4OAkJCVd9/OXUSHceWVLKLpP3XTrCP3PmDG5u\nbp2Ma1tbW6fKmN0lA2xoaLjmvFftfMrKyvj666/58Y9/fE2f05t47bXXGDp0KHfccceVD7Yi2lPX\n6ICRI0dSWVmpmobNoGxN5IMPPiAzM1NV8xZIKbXIQgqwePFii5eYatTV1WmjRLZu3XrVx7erkUvX\nRrpTIT3Btm3bKC4uvubzewtCCC2mggEee+wxbr75ZtU0cHBw0Ca26fjx42RnZ6umYTMoMyL33HMP\nsbGxqpq3oLW1lYKCAtU0ACMS+uuvv1ZNA9BHifRkTaQd7WqkI7pTIT3BrFmzupyKUgEdKnEC/OEP\nf+Czzz5TTQMALy8vLQY+Q4cOZezYsapp2AzKjMjbb79Nbm6uquYtEEJoo0RuvPFGS4oM1dBJiaSk\npPTonEvVSG+oENBHibRn+9UBDz30ELfd1us5/a4JjY2NyteIwJj2zMjIUE3DZlC2JvKTn/zE4nWi\nEk1NTVrUiAbDvdPDw0MLN18PDw9LdLpKhIeHX1P8Tse1kd5QIQAzZ86kb9++1/051wshhDYFmP70\npz/h5eWlxfqMl5eXagoADBo0SIt7x1ZQ9k1ff/11S1COSjg4ODB8+HDVNAC45ZZbWLx4sWoagD71\nqk+ePGnJtdYTtKsRoFdUCMD27dspKiq67s+5XgghtHFnvf/++7UY9AA0Nzdr4d1YXFysRVJKW0GZ\nEnnkkUe0GNU1Nzdz7Ngx1TQAIw4hKCiI733ve6qpaKNEBg4ceM3JMf1GTWPwnSt7RYWAXYl0hQ8/\n/BCAn/3sZ1c40vrQxTurf//+TJ7cOTv0/1Yoe0q89NJLnDlzRlXzFjg6OlrqSKjG9773PUsyNtWo\nra3VYk2ksLCwx2si7RBCEBiT0GuBpLooEZ0C6+6++27uuece1TQAY2r60iBOFSgvL78m9fzfCmVG\n5MknnyQ8PFxV8xY0NDRw8uRJ1TQAIwCzJ+6s1oSHh4cW3lkDBw60ZItWjRkzZnQZDKgCuiiRTz75\nhHfffVc1DQBLOWPVCAkJIS4uTjUNm0FZjz/77LOdKr+pgLOzszZ1ze+8884eBdZZE7o8pK51TcQa\nSE1N1UaJ6DJ1s2LFCi2CY8GYmtZBiVRVVbFlyxbVNGwGZUbkueee08Lnvj1Ntw7461//yvbt21XT\nAPRaE5k5c6ZqGoChRHRYEwG0KQX72Wef8dZbb6mmAehzzQYGBmpzzdoCynr8iSee6JQqQgVcXFwY\nPHiwahoA3HXXXdpM3eiiRAoLC+1K5BLolOLjtttu06KGB0BLS4sWiQ/r6upISkpSTcNmUGZEfvvb\n33Yq5qMC9fX1nD59WjUNAN5//3127Nihmgagz6guIiJCm1GdLkpECKGNEvnqq6949dVXVdMA9FkT\n8fHx0WZa2hZQ1uMPP/ywFvOXrq6uDBrUqyWHrxn33XefNgtyOikRXab40tLS6K2ibNcDneJEbr75\nZn75y1+qpgEY3lk6KJHm5mYSExNV07AZlBmR3/3ud9fs/9+bqKmp4ezZq6/NbU288847WqRLkFLi\n5eWlxahu4MCBzJgxQzUNAKZPn05oaKhqGlrFiSQmJrJq1SrVNAB9PArb66r/X4GSp4TJZOKBBx5Q\n0XQnuLu7a+FqDEYqGF2ClHSZLiksLCQ1NVU1DcCuRLrCkiVLWLlypWoagLEmorJAVztMJhPffPON\naho2gxIjIqXk3Xff1aKaYHV1tRaLpQC///3vtUghbTKZ8PHxUU0DMNZEdFEi8fHxWigRBwcHbZRI\ncnIyv/71r1XTAAwFoEOBLBcXF5YtW6ZFsK4toMSINDQ08Itf/EJF053QXpFOBzz00ENMmDBBNQ1A\nnzWREydOaLMmkp6erkWWBUAbJTJ//nyee+451TQAQ4lca8Gv3sY333yjRW0TW0CJEXF1deXNN99U\n0XQnXLhwQYv03mAkpdQhPb5diXSNuLg4+vfvr5oGDg4O2kw3pqSk8NRTT6mmARhT087OzqppALB8\n+XJMJpNqGjaBEiNSWVnJr371KxVNd4K3t7c2SuSRRx4hOjpaNQ1ALyWSlpammgagjxIRQmhTgGnW\nrFn89re/VU0DMArM1dfXq6YBwPr167XwPrUFlBgRHx8fXnrpJRVNd0JFRYU2SuSVV14hLy9PNQ2k\nlHh7e6umARi1GaZPn66aBmB4Z+mgRMCIb9LBiOzcuZNHH31UNQ1ALyWybNkyLbwbbQEl37KkpIQX\nXnhBRdOd4OPjo82D4Ze//KUWVRZNJpM25VePHz+uTW0GXZQIGGt5OhiRadOm8dprr6mmAeilRDZu\n3KjN+oy1ocSIBAUF8fzzz6touhPKy8spLS1VTQMw0uPrUmVRFyUyePBgbZRIXFwcYWFhqmkAhnOK\nDnPumZmZ2qQ9cXV1vaYqmNbAokWLtOFibSgxIqdOnWL16tUqmu4EPz8/Ldw2AZ5++mmGDBmimoZW\nSuTYsWParIns2LFDmxQ5uuTOmjhxojYJGHW6brdu3UpVVZVqGjaBEiMyYMAAnn76aRVNd8L58+e1\nSEkP8Pzzz1NYWKiaBmBXIl3BrkQ6Y//+/dqkgtdJicybN08bN2xrQ4kRKSgo0MbF18/PT4ukemDU\nWNEhj5eUUpsRnU5rIjt37rQrkUswduxYbYpSmUwmbbwKt2/fTkVFhWoaNoESIzJkyBBtgg3Lysoo\nLy9XTQOAlStXarNw6+XlpZoCYCgRXZJSTp06VRt38MbGRi2C2fLy8rQpj+vi4qJFPj6AhIQEfH19\nVdOwCZQYkdzcXG1GL/7+/loUxwJ48cUXtXhImUwmbbxcjh07pk16/F27dnHq1CnVNAAjYl2HtEEj\nR47kL3/5i2oagKGgdVEiO3bsoKSkRDUNm0CJERk5cqQ2CRhLSkq4cOGCahqAUXdelwtPFyUSGRlp\nVyJdoLGxUYs1kWPHjnHnnXeqpgHopURmzJhBQECAaho2gRIjkpmZyYcffqii6U4IDAwkODhYNQ3A\nKNSlw/qMTl4uR48etSuRLqCLEomMjORvf/ubahqAcd3qkg4mIyNDm8Su1oYSIzJ+/HjuvfdeFU13\nQklJCZWVlappAPDYY49psz6ji3dWZGQk06ZNU00DgClTpmhTNkCXNZFTp05x++23q6YBGErE3d1d\nNQ3ACMLs06ePaho2gRIjkp6ezqeffqqi6U4IDAzURna++uqrWqgi3ZTIzp07VdMAYPfu3Zw8eVI1\nDUAfJTJw4ED++c9/qqZhQXV1tWoKAGRnZ2ujWq0NJUZk2rRp2syjFhUVabMY9/Of/1ybACVdlMiQ\nIUOYOnWqahqAXkqkoaGB1tZW1TQoKiri5ptvVk0DAGdnZ22UyKRJk7QJYrY2lBiRzZs388UXX6ho\nuhP69OmDn5+fahqAUZRKBy52JdI1dFIinp6eWiiRfv36aXMvSym1USK5ubkcP35cNQ2bQIkRmTVr\nFrfeequKpjvh7Nmz2iiRn/70p9o8vHVSIrqsiUyePJmBAweqpgHosyZSUVHB0qVLVdMADCWiS5R4\nTExMr6hWIYSbECJDCLFPCHFQCPG8eX+CECJbCHFACPGxEKLLko5CiDYhRI7579sO+0cJIXaaz3Uw\n7/tICHFWCOFqfh0khCi8EkclRmTdunUkJiaqaLoTQkJCtBj9A/zxj3/UwrVWp4j1I0eOaOOdlZGR\noU1aGl3WRAIDA1m7dq1qGhboMh2cl5fHkSNHeuOjmoAEKeVYYBywUAgxDfgYuF1KORo4Cfywm/Mb\npJTjzH/LOuz/BbAMyATmd9jfBtzdE4JKjMjChQu54YYbVDTdCadPn9YmsO6+++6jqalJNQ1AnziR\noUOHaqNEYmNjiYiIUE0DgKamJi2USE1NDfPnz7/ygTaAs7OzNulgxowZ0yspjKSB9qkSZ/NfG9Ak\npSww708GvtPDj3YEJGACOo5G3gQe6U7ZdIUeG5GmpiZqampoa2u75oW9r776is2bN1/Tub2Nfv36\naVMK9v3339ciWEqniPUjR45osyayZ88ebea53d3dtVAi3t7eJCUlqaZhgS7u+kePHr1igTkpJS0t\nLdTX11NfX99tri0hhKMQIgcoxTAYGYCzEGKi+ZBbgO6iYN2EEJlCiF1CiJs67P89kAhMBTZ22H8K\nSANWXP4b/gdXbW3akZ6ezhdffMGNN97I559/zq233sq///1vbr/9dr766ituueUW1q5dy4033khS\nUhJLlixh06ZNLFiwgO3bt5OQkEBFRQVjxozhgw8+YOrUqWRnZxMbG8v+/fuJiYkhLy+PMWPGcOTI\nEUaMGMGJEycYMmQIZ86cISIiguLiYvr37095eTl9+vShsrKSwMBAampq8PX1paGhAS8vL5qbm3F3\nd6etrc2S3fPSG+/06dOMGjWqp91gFfzoRz9i06ZNWlRE02VEN3ToUC0CMMHwuNHFHVwXJdLU1MSs\nWbPIyclRTQUnJyc8PT1pa2vDZDLR0tKCEILGxkacnZ2pq6vD1dWV6upqPD09qaiowMfHh/Pnz+Pv\n709xcTHBwcGcOXOGkJAQTp06Rf/+/Tl+/Djh4eEcOXKEQYMGcfjwYYYMGcLBgweJiopi3759jB49\nmqysLMaOHcuePXvo168fGRkZ+Pj4kJ6ezuTJk9m2bRtxcXFs3ryZ+Ph4Nm3axMKFC0lJSWHevHmk\npqZ2+b2klG3AOCGEH/AVMAq4HXjDvH6xEehuRB8upTwnhBgMbBFC5Eopj0kp9wKTuznnJeBbDCNz\n5X6/moM6IiEhgYSEBADmz5+PyWQiISEBKSWxsbE4OjoyatQo3NzcGDRoEJ6engQHB+Pn54eHhwdB\nQUFcuHCBo0ePMmLECLy8vAgNDcXJyQkPDw/a2tpobm6mrq6O0tJSQkJCKCgowNPTk4yMDKSUpKam\nMm3aNLZu3cqMGTPYtGkTs2bNIikpiXnz5rFu3ToWLFjAmjVrWLx4MV9//TXLli3jiy++4JZbbuGb\nb77h5ptvJjExkT59+vD666/zne98h40bN7Jw4UK2bt3KvHnzSElJISEhgbS0NGbOnMmuXbuIi4sj\nIyODqVOnkpmZSWxsLPv27WP8+PEcOHCAsWPHcujQIUaPHs3hw4cZPnw4R44cISoqiuPHjzNkyBAK\nCwsZPHgwp06dIiIigjNnzhAeHs7DDz9MWVkZJSUlhIaGUlJSQr9+/SgrKyM4OJgLFy4QGBhIVVUV\nAQEBVFdX4+fnZzGe9fX1eHp60tjYiIeHBy0tLbi6utLW1oazszMmkwlHR0eklBZD1dVo1mQyaVOV\n7fDhw5w8eZIRI0aopkJmZiaRkZFapIN3d3fHwcEBk8lkSX/S1taGEILW1lYcHBxobm7G2dmZhoYG\n3NzcqKurw93dnZqaGjw9PamursbLy4uqqiq8vb25cOECfn5+VFRU4OfnR1lZGQEBAZSWlhIUFERJ\nSQl9+vTh3Llz9O3bl7Nnz9K3b19Wr17NiRMnKCwsZMCAARw7doxBgwZRUFBAZGQkeXl5DBs2jIMH\nDzJixAhyc3MZOXIkOTk5jBkzhuzsbMaOHUtmZibjx49n9+7dTJw4kR07djB58mTS0tKYNm0a27Zt\nY/r06Zb7fvPmzcyePZukpCTmzp3LF198gZ+fH0lJSZZB7KJFi9iyZYvlIX3p/Tx9+nQyMzOZPHky\ne/fuZdKkSRQUFODl5UVxcTF9+vShvr4eR0dHy8K9v78//v7+DBw4kH79+iGlZMCAAXh4eNCvXz+C\ng4PJz88nIiKC2NhYRo4ciZ+fH5MnT8bT05M5c+bg5ubG8uXLEUKwbJmxVLFo0SI++uijbn9zKWWl\nECIFWCilfA2IBxBCzAeGdXPOOfP2uPncGODY5a4tKeVRs/L57tVci6InJTaFEPLcuXNXfXx3OHPm\nDN7e3jbPcimlxGQy0draihCCpqYm3n//fRYuXMjAgQOpqanBw8ODqqoqvLy8KC8vx9/fn9LSUgID\nAykqKiI4OJizZ8/Sr18/y0jlxIkTlpFKZGQk+fn5F900Bw4csNw8o0aNYv/+/ZabZ9y4cWRlZREd\nHc0999zDhx9+yK5du4iNjWXnzp0X3UTbt29n+vTppKSkMGPGDLZs2cLs2bNJTk4mISGB5ORk5syZ\nYzGm69evZ8GCBaxdu5YlS5awZs0ay3bp0qV8++233HjjjaxZs4Zly5axZs0abrzxRv71r3/Rr18/\nqqurWbJkCRs2bGDRokWWbVJSEgsXLrQY3eTkZObPn2/Zbt68mblz57JlyxYSEhIsxjglJYXZs2ez\nbds2Zs2aRWpqKvHx8aSmpjJjxgy2b99+0TY1NZWoqCjS09NZvny55fi0tDSmT59OWlqa5fxL93e3\nvdJxcXFxpKenExcXZ3ndvv3yyy+Ji4sjPz+f+Ph4tm3bxowZM0hJSWHmzJls27aNmTNnsnXrVmbP\nns3mzZtJSEhg06ZNzJkzp9M2OTmZuXPnsnHjRubNm8fGjRuZP38+GzZsYMGCBWzYsIH58+eTlJTE\nggULSExMZNGiRaxduxY3NzfKysq47bbbLL9bYmIiS5cuZcOGDSxevNjyEN24cSMLFixg8+bNzJs3\njy1btjB37tyLfo/Zs2eTlpbGjBkzSE9PJz4+nh07djB9+nR27drF1KlTycjIYPLkyZaHbnZ2NjEx\nMXz3u9/lq6++umgQNWbMGPLz8xk1atRFg6ihQ4dSWFhIZGQkp0+fJjw8nHPnzjFgwADL4On8+fP0\n7duXiooKgoKCLIOmmpoa/Pz8LIOlpqYmPDw8aG1txdXVleLiYtLT07ntttts+lzpCqdPn6asrIyY\nmJgenRcaGoqU0jKyE0IEAy1mA+KOoTpeBjKklKVmJbIO+I2UckvHzxJC+AP1UsomIUQQsBO4UUp5\nqKu2hRAfAWullP8WQozCrESklBGX46zEiKxatYqpU6cyZ86c6/6s68WXX35JQkKCcg8tKSXHjh2z\naWXD9t/eZDIhhLCMZE+dOsWWLVu44447cHJysoxom5qacHFxobGxEVdXV8sIt76+Hnd3d+rq6vDw\n8KCmpgYvLy+qq6vx9va+aMTr4+NDZWUlvr6+VFRUEBAQQEVFBf7+/ly4cOGibUVFBQcOHODIkSPc\nc889Fx3f1ba8vJzAwMBO27KyMoKCgrrcdvd+cHCw5fyKigoCAwP5y1/+wogRIxg5ciQBAQFUVlbi\n7+9PVVUVvr6+1NTU4OPj02lbW1uLt7c3dXV1eHl5UVdXh6enJw0NDbi7u9PY2Ii7uztNTU24ublZ\nts3Nzbi6utLS0oKLiwutra24uLhgMpn497//TUJCgvIM1FJKSz+oRmlpKV9//TU//vGPVVNhx44d\n5Ofnc/fdPXJ06sqIRGN4YjlirGF/LqV8QQjxKrDUvO9dKeWb5uMnAvdLKe81e3G9h7F47gC8KaXs\nNuVyRyNifv0lMF5LI3Lq1Cn8/f21iEV4/fXXWbFihfI8N42NjSxZskQLh4Nz586RlpbGd797VWrW\nqjh9+jS1tbVaBuiuWQAAIABJREFUTGfl5ubi5+enRSbfjz76iHnz5tG/f3/VVBgzZgxZWVnKqwqW\nl5ezYcMGvv/97yvlAUYk/+nTp4mNje3ReZcakf8GKFnBfe+998jNzVXRdCeEh4drEaDk4uLC+++/\nr5oGoN+ayO7du1XTACArK4tjxy47nWwzuLm54ejoqJoGAKmpqTg7O6umgRBCm7IOxcXF7NmzRzUN\nm0CJEbn33nsZO3asiqY74dixY7S0tKimQV1dnTY1VkCfOJGoqCgmT+7OicS2mDhxIoMHD1ZNA4Dm\n5mYtcmcBzJkzRwuXcEdHR23c9cPCwhg/frxqGjaBEiPyhz/8gYKCgisfaAOEh4drEZvh4eHBO++8\no5oGoFecSH5+vl2JdAFd4kTAyIWng5p3dHTUpq55WVmZNvFN1oYSI/LAAw8QFRWloulOOHbsmBYV\n4iorK/n5z3+umgZgTAvoEicSFRXFlClTVNMAYMKECURGRqqmAegTJwKwePFiLaaRHBwctFHQISEh\nTJw48coH/i+AEiPy2muvcfr0aRVNd0JERITyBUEAX19f3nrrLdU0ACPewL4m0hnZ2dkcPXpUNQ3g\nP3EiOmDdunXKvRvBMCK6KJHKykrS0tJU07AJlFyFv/jFL7TJhnrkyBF64qFmLZSVlfHYY4+ppgEY\nSkSH6QnQa01ENyWiw1oewE033URpaalqGjg4ONg89qw7BAUFaVMHx9pQYkRWrVrF+fPnVTTdCYMG\nDdLCsyQwMJDXX39dNQ3AUCKNjY2qaQDGmkhGRoZqGoBeSkQn76xvvvlGuYs8GGsiZWVlqmkAUFtb\nS0pKimoaNoESI/L0008rD5ICI1CqoKBAiwXK4uJinnjiCdU0AL2UyPDhw+1KpAs0Nzdro0RuueUW\nzpw5o5oGDg4OWkyrAfj5+TF9+nTVNGwCJUbkmWee0aICWVtbmxZBbGAsxL3yyiuqaQB6KZFDhw5p\no0T27t3bWzUirhs6KZEvvvhCi6BHIQRVVVVauD43NjaSnJysmoZNoMSIPP/881qkSTCZTNq4bJ4+\nfZqVK1eqpgEYIzpdlMiIESN6HPVrLcTExDB06FDVNABoaWnRRonccccd2qTI1yXLspeXF7Nnz1ZN\nwyZQYkQef/xxLYovmUwmhg3rMvmlzREWFsZLL72kmgYAra2t2iiRvLw8bSJ/7Uqka3z66afaBGHW\n1NTQ3Nysmgatra1s2LBBNQ2bQIkRWb16Ne7u7iqavghtbW2cOHFCNQ0ATpw4wa9//WvVNAD9lMik\nSZNU0wBg/Pjx2igRnbyz7rrrLvLz81XTAMDf31+LNU43NzctEszaAjY3IlJKbYLqAG0eChEREbzw\nwguqaQB6KZFDhw6RmZmpmgZgKJHDhw+rpgEYcSK6KJGPP/5Ym+Dh2tpaLYyrEILExEQtwgesDSVG\n5K233tJitNDc3ExhYaFqGgAUFBTw4osvqqYBGK6SuiiRkSNHaqNEYmJitJn+bGpq0mLaBuC+++5j\n//79qmkA+iiR9mJTumQVsCZsbkQaGxu1cmW1Zf2Oy2Ho0KE888wzqmkAxqKtLhHrhw4d0mZNJCcn\nRyslokN8E8Cf//xnoqOjVdMADCWii3FNSkrSQhVZGzY3Is7Ozrz66qu2brZLtLS0cPLkSdU0AONh\n+fLLL6umAeilRHRaExk3bpw20zbNzc1aOKeAkQsvKytLNQ3AiM/QJR3MokWLtFBF1obNe7u6uppn\nn33W1s12CQcHB228SkaMGMGTTz6pmgZgGFdd1kR08s7at2+fNgvIrq6uODk5qaYBwDvvvKNN2vP6\n+nptjOvWrVu1uY+sCZsbES8vL1atWmXrZrtEU1OTNokg9+/fr03aE7sS6Ro6KZGWlhZtpm0eeeQR\nbdKe+/j4aONwMH/+fG0MvTVhcyNy/vx5fvOb39i62S7h6OjIoEGDVNMAIDo6WpsEjC0tLdqM5g4e\nPKiNd9a+ffu0WRNxdXXVZk3kjTfe0CbZYENDgzaj/23btlFbW6uahtVhcyMSEBCgzQJyY2OjFjl/\nADIzM7VJBe/o6KhFoS6AUaNGaaVEdPHOam1t1cbQP/HEE2zbtk01DUAvJTJnzhxcXV1V07A6bG5E\nzp49y2uvvWbrZruEk5OTNinpJ0yYoE38TGtrqzZTJTopkf3792uzJuLi4qLNVMkrr7zCzJkzVdMA\nDCWii2dhenq6FjkCrQ2bG5HQ0FAef/xxWzfbJerr6zl37pxqGgDs3r1bm/K4Dg4O2iiRkSNHalMh\nLjo6muHDh6umAei1JrJy5Uptkg16eXlpM803c+ZMbSqEWhM2H8ocO3aMv/71r7zxxhu2broTXF1d\nCQ8PV00DgNjYWEaOHKmaBqCfEqmtrdUis0Bubi5ubm5apIN3c3PTRomsWrVKmwd3Y2OjNkpk9+7d\nBAcHExQUpJqKVWFzJRIREaHNtE1tbS1FRUWqaQCQlpbGe++9p5oGoN+ayIQJE1TTAPRSIjrFibz4\n4oskJiaqpgGAt7e3NgYtLi4OHx8f1TSsDpsPZfLy8vjmm2+0yFirkxKJi4sjJiZGNQ1AL++sAwcO\nUF9fr40ScXFx0SLLgaurKy4uLqppAPDss89qo4oaGxupq6tTTQOArKwsPDw86Nevn2oqVoXNlUhU\nVBQ/+clPbN1sl6irq9NGiaSkpPDhhx+qpgHopURGjx6tTSDbmDFjtCliplNA6OrVq/nqq69U0wCM\nNRFdPKImT56sTX0Ta8LmRiQnJ4ePP/7Y1s12CTc3N8LCwlTTAIxFuHvuuUc1DUCvRdvc3Fyys7NV\n0wAMVXTo0CHVNAC9lMiTTz7JTTfdpJoGYAQQ6xKbkZOTw9mzZ1XTsDpsrkHHjBmjxXQAGClYSktL\nVdMAYNOmTRw/flyLgEPdlIgumVDHjBmjmoIFOqXr/93vfsfAgQNZsWKFaip4eXlpc+1OnDgRX19f\n1TSsDpsbkYyMDA4dOsSjjz5q66Y7Qaf5yjlz5hAfH6+aBqCfEmlubtZmTcTR0VELLi4uLtookV/8\n4hfaBPg1NTVRU1OjmgZgeBYOGDBAm6wY1oLNjcikSZMYO3asrZvtEtXV1ZSVlammAcD69espLS3l\noYceUk0FR0dHbeaVx4wZY1ciXUAnJfL2228TEBDAvffeq5oKnp6eWlRNBRg7dqw295E1YXMjsn37\ndkpKSrRYXPfw8CAkJEQ1DQAWLlxIa2urahqA8YDShcv+/ftpaWnRYvR/4MABhBBacHFxcdHGlfVn\nP/uZNunXm5ubtYkSP3z4MN7e3lpcL9aEzY1IXFycrZvsFpWVldq4A65Zs4ba2lotjKuDg4M2UyXR\n0dGYTCbVNABjfUYXtLa2aqPQ/vznP+Ps7MxPf/pT1VTw9PTUxriOGjXq/0R5XJsbkeTkZFpbW7nr\nrrts3XQneHt74+XlpZoGAEuXLtXmYdna2qpNRbb9+/fT2tqqhTPGoUOHaGtr02Jk6eLiok3Box//\n+MfacGlubtYmYv3o0aOYTCZt3MKtBZsbkTlz5mgTmFRRUaHNSOHLL79ESqnFvLJO3lljxozR5jfS\nJS0N6DXl+Ne//pXm5mYefvhh1VRwd3fXZjAWFRWljUGzJmz+NF+7di0+Pj7cdttttm66E7y9vbV5\nWC5fvlybh2Vzc7M2XPbv34/JZNJCieTl5dHa2qqNEtHFI+pHP/qRagoWtLa2auOddfLkSS5cuKBN\n/XlrweZGZNGiRdp4T1RUVGjD5fPPP8fDw4Mf/OAHqqng5OSkzUJpdHS0NgZt5MiR2oxydaon8ve/\n/52KigotsnPrpESGDBnChQsXVNOwOmz+pPjyyy9JT0+3dbNdwtfXV5sMm7feeitLly5VTQMwlIgu\nayL79u1j//79qmkAhhLJzc1VTQPQK07kzjvv5MEHH1RNAzCMa2VlpWoaAJw5c4YDBw5c12cIIdyE\nEBlCiH1CiINCiOfN+xOEENlCiANCiI+FEE7m/Q5CiP8nhNghhBhl3jdLCCGFEDd0+Ny1QohZ10XO\nDJsrkeXLl2uzmF1eXq6aggWffvopQUFBfO9731NNBScnJ20eULrEFIFR712XUW5bW5s28+3/+te/\nKCws1KJiqZubmzY1PCIiInrjPmoCEqSUtUIIZyBNCJEEfAzMkVIWCCFeAH4I/AWYD+wGfgn8Frjb\n/DlngF8Ba66X0KWwuRH59NNPmTBhAnPnzrV1053g6+urTYK0O+64Q5sppJaWFm28bfbt2wegRQ2P\n/Px8GhsbtSiR6+zsrE0g26233qrNlKPJZNJGiRQXF7N//35iY2Ov+TOk0bHtycCczX9tQJOUssC8\nPxl4CsOIOAIm81/Hm3gf4CyEmCel7NUKYjZ/at12223a1Mw+f/68NoFJH330EVu2bFFNA9ArYj06\nOlobNTJixAhtotZbW1u1USK6lHYAY5pPl5mOsLCwHnn0dWeIhRCOQogcoBTDYGRgGIT2kp+3AAPM\n/ycBM4Fvgd9d8lGrgJVXTegq0WMlkpSUxJdffsmtt97KmjVrWL58OevWreOGG24gOTmZRYsWsXXr\nVubOnUtaWhqzZs1i586dxMfHs2fPHnJycggKCuL222/nwIEDjB07lsOHDzNq1CiOHTtGVFQUJ0+e\nZPDgwZw9e5aBAwdSUlJCaGgoFRUV9OnTh+rqavz9/WloaMDLy4vm5mbc3d1pa2uzyMerGdUHBATg\n7+/f816zAn74wx9q4/rc0tKi1ZqIg4ODNkqkvr6eqKgo1VRwcXHRxtDfdNNN3HDDDVc+0AYwmUyd\nFrOllLS1tVlcopuamnBycqK+vh4XFxdqampwd3ensrISLy8vysvL8fX1pbS0lMDAQIqKiggODub0\n6dOEhoZSWFhIWFgYx44dIzw8nKNHjzJo0CDy8vIYOnQoBw8eZPjw4WzYsIHa2loyMzOJjo4mIyOD\nmJgYdu7cyaRJk0hNTWXKlCmkpKQwffp0Nm/e3OV3klK2AeOEEH7AV8Ao4HbgDSGEK7ARaDUf22p+\nr6vPSRVCIITo1SR9PX5qzZ07l1mzZgFGHixnZ2dGjhyJm5sbAwcOxMvLi6CgIPz8/HB3dycoKIjY\n2FgCAgKIiopi2LBhVFZW4uDggKurqyUHUG1tLcXFxQQFBZGfn4+bmxu7d++mra2NtLQ0pk6dSkpK\nCnFxcWzZsoWZM2eSlJTE3LlzSUxMZMGCBaxdu5bFixfz9ddfs3z5cr799ltuuukmi5FLSkpi8eLF\nJCcns2DBAt577z0WLlzIZ599RkJCAqmpqcycOZNdu3YRFxdHRkYGU6dOJSsri9jYWHJychg/frzF\n+OXl5TF69GgKCgoYPnw4x48fZ+jQoRYjePLkSQYNGsTp06cJDw/n3LlzhIWFUVxcTGhoKKWlpfTt\n25eysjL++c9/Ehoayne/+10qKysJCAiguroaPz8/amtr8fHxob6+Hk9PT5qamnB3d6elpcXSh66u\nrrS1tVmida9nOkonJTJ27FhtptaGDx+uTWxGW1sb9fX1VzxOSmlZx2ltbcXBwYGWlhYcHR1pbm7G\nycmJxsZGXF1daWhowNXVlbq6Otzd3ampqcHT09OyraqqwsfHh4qKCvz8/CgvL8ff35/PPvuMgoIC\n7r77bvr06cPZs2fp27ev5aF78uRJwsLCOH78OBERERw5coTBgwdz+PBhhgwZQl5eHlFRURw4cIAR\nI0awf/9+Ro0aRU5ODtHR0WRmZhITE0NGRgYTJkxg165dTJo0iR07djBlyhRSU1OZNm0aKSkpDBky\nhOTkZNzd3dm0aROzZs1iw4YNLF68mM2bN7NgwQJSUlKYM2cOqampJCQksGPHDuLj49m9ezfTpk0j\nOzub2NhY9u3bx4QJE8jLy8PV1ZWzZ88SEBBwkQuxu7s7Pj4++Pr6EhYWRkhICCaTibCwMGbNmkVV\nVRXDhg2jT58+hIeHExgYyOjRo/H19WXKlCl4enoyb948XF1dWb58+WXrskgpK4UQKcBCKeVrQDyA\nEGI+cLVzrL/BWBvptQtZ9GQuUwghz507d10NPv7449x+++1WLzRkMpksaSGam5txcHCgsbERFxcX\n6urqcHNzY926dYwYMQJvb298fX05f/48/v7+lJSUEBQURFFRESEhIZ1GIJfeDPn5+QwdOpRDhw4R\nFRVFbm7uRTdBdnY248aNIzMzk/Hjx5ORkcGkSZPYtWsXsbGxpKenM2LECLKyspg9ezbbt28nLi6O\nbdu2MWPGDLZs2cKsWbPYtGkTCQkJJCcnk5CQQFJSEvPnz2f9+vUsWLCAxMREFi5cSGJiIkuXLrUY\nz/Xr17N48WKSkpJYuHAhGzduZMGCBSQnJzN//nw2bdrE/Pnz2bx5M3PnzuWjjz5i2rRpnD17ljlz\n5pCSksLs2bPZtm0bM2fOJDU1lRkzZpCWlkZ8fDzp6elMnz6dHTt2WLZxcXHs3LmTadOmsXv3bqZM\nmUJGRgaTJ08mIyOD2NhYMjMzmTRpEpmZmUycOJGsrCwmTJhAVlYWEydOJDMzk5qaGk6ePMldd911\n0fsdt9nZ2YwfP/6i7ZXeHz9+PHv37iUmJuaibfv7MTExZGVlMX78eMv2k08+oV+/fnh7ezNp0iTL\n79i+3b17N7GxsezatYspU6ZYHnI7d+60bKdOnUp6ejrTpk0jLS2NuLg4yzY1NZX4+HjL737pduvW\nrcycOZMtW7YQERHB9u3bWbFiRafrYN26dSxcuJC1a9eyZMkSEhMTWbZsGevWrWPJkiWW66B9MNX+\nu2/dutXyeyckJLB9+3ZmzZpl+b3bf9+dO3cSFxdnGWzt2LGDSZMmcfDgQSZOnEhOTg4TJkwgNzeX\ncePGcfDgQaKjo8nPz2fkyJEUFBQwYsQIjh07xtChQyksLCQyMpJTp04xaNAgzp49y4ABAygqKiIs\nLIzS0lL69etHWVkZISEhVFRUEBQUZJmRqK2txdfXl4aGBs6dO8eePXtYsWIFJpPJEtmvYiBy5MgR\nvvnmmx6VdwgNDUVKaSErhAgGWswGxB1DdbwMZEgpS81KZB3wGylll/PhZi+sx6SUS82vdwOhwAop\nZcq1fbsOn29rI3LkyBH69++Ph4fHdX1Ob+CTTz5h/PjxWkQiv/DCC0yaNIlFixZd92dJKS8agbaP\nPFtaWnBycrKMQJuamnBxcaGxsRE3NzcaGhpwc3MjOTmZkJAQBg0adNFItKamBi8vL6qrq/H29raM\nTC9cuICfnx8VFRUEBARQXl5OQEAAZWVlBAQEcP78eYKCgigtLSU4ONiyLS4uJiQkhOLiYvr27dtp\nW1RURFNTE+Xl5UyYMIGioqJuj+vXr1+n7blz5wgNDeXcuXNXfP/Sbf/+/SkqKiI0NNRyfHZ2Nr6+\nvvj4+BASEkJpaelF2/Pnz9OnTx/KysoIDg6mvLycoKAgysvLCQwMtPRPZWUl/v7+VFVV4efnZ9lW\nV1fj6+tLTU0NPj4+nbZ1dXV4e3vT0NDAkSNHOHXqFMuWLbtIkbq4uGAymXByckJKaZOAxHXr1rFx\n40befPNNq7d1JZw8eZLc3Fwt3OUrKyvJzs4mISHhqs/pwohEY3hiOWKsYX8upXxBCPEqsNS8710p\nZbed34URWQZ8A8z+rzQiDz30ED/96U8ZPnz4dX1Ob2DDhg2MHj1ai+qGpaWluLm54ePjo5oKGzdu\nxN/fXwsHiH//+984OTlpUTlv/fr1VFdXa5Ft4cCBA5SWlvboAWUtNDc309raqsXAsLCwkJSUFC1y\n8505c4aPPvqIlSuvfi37UiPy3wCbe2c98MADDBw40NbNdolz585p4+Hyhz/8gYyMDNU0ACNORKc1\nEV3SRgwfPlwbLle7JmILbN++XYuKnGC4PutSTdDPz++63Hv/W2BzI/Lqq69qU5I2JCQEb29v1TQA\noybD5MmTVdMADO8VXRaQc3JytIkSP3z4MDk5OappAHrFicyYMYPXXntNNQ3AmMrVJYi4sbGR7du3\nq6ZhddjciDz66KPalKQ9e/asNtXh3njjDbKzs1XTAPQqeDRu3DhtRv9RUVGMGzdONQ3A8LTSRYns\n2rVLi4qcYFy7fn5+qmkARr33adOmqaZhddjciKxatUqbiNI+ffpoE5j08MMPM2HCBNU0AEOJ6FLw\naO/evdrkztJJibi4uGiTgXrq1Km89dZbqmlYcP78edUUAMPQb926VTUNq8PmRuTpp5/WJtWITkrk\n1Vdf1WbaxtnZWRslEhMTo40SGT58uDZKRKc1kaysLO6//37VNAAjxkkXJeLm5sb06dNV07A6bG5E\nnnnmGW0Ws/v27atNsrbHHntMm/QeOimR7Ozs686E2lsoKCjQZsrR2dlZGyUyYcIE3n33XdU0ACNT\nhS5KRErZbRT6/ybY3Ig899xz2jy4T58+rU16j9/+9rccOnRINQ1ALyUyfvx4bWqbDxs2jJiYGNU0\nACOYVhclcuDAAe6+++4rH2gDODo6apPKyNnZmdmzZ2uT+dlasLkReeKJJ7TJ+Nm3b19tilI9+eST\nWgQ9gl7eWVlZWRw8eFA1DcAIlN27d69qGoDxsNTl2h0zZgx/+ctfVNMADCVSUlKimoYFW7Zs0UbV\nWws2NSImk4mXX35Zm7Kep0+f1uZh+cILL3D06FHVNABjBKVLPZEJEyZoo0SGDh2qjRKRUlJXV6ea\nBmAkplyxYoVqGoBhRAIDA1XTsGDBggXaDJqtBZsakebmZn71q1/ZssnLIjQ0VBtf+2eeeUaL2t2g\nlxLJzMzUZk3k6NGj2qyJ6KREhg8fzt/+9jfVNACjX3RSItu2baO5uVk1DavCpkbE0dGR1atX27LJ\ny+LkyZPajBKeffZZTpw4oZoGoFfpVd2UiC7eWSaTidra2isfaAOcOHFCi1QwoJ8SSUhI0KbYnLVg\n029XW1vL888/b8smL4v+/ftrs4D8/PPPM3jwYNU0ACPSVhclotOayNGjR7VZE3F2dtYiVxXA4MGD\n+eyzz1TTAIyBalFRkWoaFqSnp2vjAGEt2NSIeHh4aGVECgsLVVOw4Omnn+b06dOqaQB6RaxPmDCB\nUaNGqaYBwJAhQ7RZE2lra9NGiZw5c0aLBJlg1NEJDg7WZoZh1qxZ2txL1oJNjUh5eTkvv/yyLZu8\nLMLCwrSpJvjSSy8RHh6umgagV5xIZmamNq7Px48f12ZNRCclEhYWdtliSraEEIKKigptlPSuXbsu\nKmL1vxE2NSJ+fn48/fTTtmzysjhx4oQ2VfMee+wxiouLVdMA9IoT0UmJREZGaqNETCaTNt5ZpaWl\nLFmyRDUNC/r06aOaggXTp0/XxgHCWrCpESkqKuJ3v7u0drwatLW1ERkZqY0RefXVV7VJTGlXIl1D\nJyXi5OSkzcMpJCSExMRE1TQsuHDhgjZBxHv27NEmV6C1YFMj0rdvXx599FFbNtkt2traOHnypGoa\nFjz88MOUlZWppgHopUQmTpyoTRDm4MGDrV7W+WqhkxK5cOEC8+bNU03DgqCgINUULJg6dao2SV6t\nBZsakRMnTvDOO+/YssluYTKZiIyMVE3DgjfeeIPg4GDVNAD94kR0UiJZWVmqaQB6xYn4+/uzceNG\n1TQsqKqq0kaJ7N27V5vBobVgUyMSHh7Ogw8+aMsmu4XJZOLUqVOqaVjwwAMPUFVVpZoGoFfEuk5K\nJDIyUhslIqXUxjurvr6e2bNnq6ZhQVBQkDaxGbGxsdpUWrQWbNrThw8f1ibHjpSSQYMGqaZhwdtv\nv61NCmud1kT27NlDXl6eahqAfkpEF+8sT09PrepmVFVV0dTUpJoGALm5udpUcrUWbGpEhgwZwn33\n3WfLJrtFS0sLZ86cUU3Dgv/5n//RZo7bxcVFG9dn3ZSILoXDdFIiLS0tTJ06VTUNC3RSIuPGjdOm\nfpK1YNOezs3N5ZNPPrFlk91CCEFERIRqGhb86U9/0mYBrrGxUZv01bqtiezZs0c1DUAvJeLs7MyO\nHTtU07CgqqpKm2JzeXl5WkXQWwM2HW6OGjVKmymklpYWzp49q5qGBffccw9r1qzR4sGgmxLRoU/A\n8M7SZcoR0EaJCCGYMmUKBw8e1EIBBAYGauNdGB0drc31ay3Y9BfPzMzk888/t2WT3UIIwcCBA1XT\nsOCDDz7QplKdTkpEpzWREydOkJGRoZoGYCQa1OnhtGvXLm1irqqrq7WpnlpQUKDVtLk1YNPh5vjx\n47WJPm5ubtZKifzgBz9g69atWozkXFxctKn5MmnSJG0eloMGDdLK00andBozZsxg165dWrgd+/v7\na6OkR4wYoc29ZC2IniQqE0LokdXMDjvssON/KaSUeki6q0SPjIgddthhhx12dIT6uRM77LDDDjv+\na2E3InbYYYcddlwz7EbEDjvssMOOa4eUskd/wIdAKXCgw75bgYOACZjYxTnhQC3wWId9twPZwMPm\n1z8H3uzw/nvApg6vHzS3cVVtA7FAjvlvH7C8m+/zEXCiw7HjzPsdgP8H7ABGmfft7fC+E1AH3Nnh\ns8qAiuvldw19sxOov8p25wFZQK55m9BNvzwHnO3AcXGH914FMoGZ5tdfATd1eP8wsLLD60Kg6nr5\nAbPM7b5ifn0j8HWH958CjnZ4nQw0XWW7gcBWjOv07ctc/73ZL18Am7n6a7pbjtbsm47nm7/DAp3u\npcvxo/eeMwHmPjti3vqb9/ubf+f9QAYw2gZ9kwWM7+4atfXftSiRj4CFl+w7ANwMbO/mnDeA9Zfs\nux2YBEwRQniZO3Fah/fHAb5CiHb/uGnA5z1o+wDGhTbOfM57Qoju/P5+KaUcZ/7LMe+bD+wGlgPt\n+es7chyLccFOAxBCeAKu5vOul19P+6YOeOEq2y0DbpBSjgF+CPytc3dY8EaHflln/p7Dze/NAB4w\n/2/hJ4QIxHjIdcyD4QXc0gv8fgLEA45mHjsuaWcqUC2EaK9KVAL86SrbbQSeAR7jyuitfpkK/IGr\nv6Yvx9GjSYmxAAAFnklEQVRqfSOEGIlxTY4yc32nw7V3KWx+L12BX289Z54ENksph2IY/ifN+58G\ncqSU0cAPgN930y/Qe30zGGPgqQV6bESklNsxRggd9+VJKQ93dbwQ4ibgOIZ1v+it9tPN/+8Fhgkh\n3IUQvhgj6xxgjPm4aRgq6KrallLWSynb85m7mdvpCRwxRjymDlzT+c+POw3jJhxnfh2LMRK5KO/z\nNfLrad8MBbZdZbt7pZTnzC8PAm5CCNcue6BrtPdLOzfo3C9rgWBhYBCGCjnSC/wczO2aMDwLzwNV\nQogh5vf7Y4zu27kMANKust06KWUaxoP6WnAt/dIgpfyaq7+mL8fRan2DoWr+KaVsklKewBjxx3bT\nD13BqvfSFfj1ynPG3MbH5v8/BtqLyo/EMCpIKfOBCCFESLc90RnX0jfZUko9MqRi5TURs9V8Ani+\ni7e/xJDfmVLKGvMDNQfzqAHDOu8CpgkhQjFujNM9bH+yEOIgxtTI/R0e2pfiN0KI/UKINzo8sJKA\nmcC3QHs5xo4jhGkYI6ImIYS3+XV6L/Hrcd8A15Kg5zvAXilldylPf2bulw+FEP4AUsqDgAfGA+hd\n83FZwGghhAtGP+zEGD2N4Br65TL8PsD4DRyklO1h7Dsw+iEKw1C194sTEI0xzdDbUN0vXcGafdMf\n6HjvnTHv6woq7qXL8eut50yIlLIIwLxtV3T7MNQRQohYYCAQ1g1PJc8Za8PaC+vPY0j/Tkl+pJQf\nSyljpJSvd9jdboHbb7id5v/jMDq2R5BS7pZSjsK4YJ4SQnSVV+QpYLj5mAAMo4eUslVKebuUcqqU\nMte8rxBwEUL0NZ9zGNgDTDbz7BHH7vjZom+EEKOAl4H/6eaQd4FIjBFQEWDhIqV8UEo5QUq5xfy6\nCUM1jOc/N2Y7vx73S3f8pJRJUsrxUsqO5TEv7ZcMjN8jBuP36e2c4Er7pTtYuW+6Cn7rStmrupe6\n5WeDe2k14C+EyMFYT9kLdDVYVfacsTasbUQmA68IIQqBh4GnhRA/u8zx7RZ4KsYPm4chF6/L+ppH\nZnXA6C7eK5IGmoC/cmWZvhNjfr9ISikxRjFx5vN29Ta/Dui1vhFChGEsBv5ASnmsG04lUso2KaUJ\n+DNX7pcdGOsB3lLKC5hHd9bid0m7lgeClLIGY3pwVk/bvRqo7JdrQG/1zRmM6a92hAHnLj1I4b10\nVfw64FrupRIhRD8A87YUQEpZLaX8kTTWNn8ABGMsoF8EHZ4z1oJVjYiUMl5KGSGljADeBF6SUr59\nmVN2YIzYgqWUpebOO48xH9kj6yuEGNS+UC2EGAhEYXgJXXpc+4UhMOY5D1zho9OBRzB+ZMzbHwDF\nUsrK3ubXAb3SN0IIPyAReEpK2e2DpL1fzFjO1fXL//CfBb/9Zr7hdF4Pu25+HXAICMVYVN5r3pcD\n3I8VRmyq+uUa0Vt98y1wuxDC1byWMxRD1VwEVffS1fLrgGu5l77FcPTAvP0GjOvVPF0JcC+wXUpZ\nfenJCvvG+pA9dOcC/oEh41swRgD3YNxMZzDkcQmQ1MV5z9HBxfcyn38Q+OSS82oxXN2uum1ghfmz\ncjBc/Dq6Wq4DQs3/b8FYkzgAfAJ4XYHfJAypPLfDvkIMV8Fe4XcNffPPHrS7EkP15HT462N+7wPM\nrpMYXlG5GA+9b4F+V+DWx9wv93bYl4Ix59uTfumW32XaTgTSOry+y8zlq6ttt8PvWGHu0zPASGv2\ny7XcT91xtEHf/Ao4hjG1skine+ly/HrxOROIsYB+xLwNMJ831bwvH2P9xd/afXOl72brP3vuLDvs\nsMMOO64Z9oh1O+ywww47rhl2I2KHHXbYYcc1w25E7LDDDjvsuGbYjYgddthhhx3XDLsRscMOO+yw\n45phNyJ22GGHHXZcM+xGxA477LDDjmvG/wco6PBu04KkHAAAAABJRU5ErkJggg==\n",
      "text/plain": [
       "<matplotlib.figure.Figure at 0x7fd12fa8df60>"
=======
      "text/plain": [
       "<matplotlib.figure.Figure at 0x7fb8423ad5f8>"
>>>>>>> be2777d95da24d79fbaa819521b4ed84ce3b1723
      ]
     },
     "metadata": {},
     "output_type": "display_data"
    }
   ],
   "source": [
    "# Optional, Visualize the Station\n",
    "import warnings\n",
    "\n",
    "with warnings.catch_warnings():\n",
    "    warnings.simplefilter(\"ignore\")\n",
    "    network.select(STATION).plot(projection='local')"
   ]
  },
  {
   "cell_type": "markdown",
   "metadata": {},
   "source": [
    "## 2. Retrieve Local and Non-Local Events From The Station "
   ]
  },
  {
   "cell_type": "markdown",
   "metadata": {},
   "source": [
    "### Functions for getting the noise times"
   ]
  },
  {
   "cell_type": "markdown",
   "metadata": {},
   "source": [
    "#### Get Events"
   ]
  },
  {
   "cell_type": "code",
<<<<<<< HEAD
   "execution_count": 205,
=======
   "execution_count": 10,
>>>>>>> be2777d95da24d79fbaa819521b4ed84ce3b1723
   "metadata": {
    "ExecuteTime": {
     "end_time": "2018-02-21T10:53:00.530107Z",
     "start_time": "2018-02-21T10:52:10.632519Z"
    },
    "code_folding": [],
    "run_control": {
     "marked": false
    },
    "scrolled": false
   },
   "outputs": [
    {
<<<<<<< HEAD
     "ename": "FDSNException",
     "evalue": "Unknown Error (timeout): timed out",
     "output_type": "error",
     "traceback": [
      "\u001b[0;31m---------------------------------------------------------------------------\u001b[0m",
      "\u001b[0;31mFDSNException\u001b[0m                             Traceback (most recent call last)",
      "\u001b[0;32m<ipython-input-205-1e426cc18a94>\u001b[0m in \u001b[0;36m<module>\u001b[0;34m()\u001b[0m\n\u001b[1;32m     24\u001b[0m                                  \u001b[0;31m#minradius=NONLOCAL_MIN_RADIUS,  # Nonlocal\u001b[0m\u001b[0;34m\u001b[0m\u001b[0;34m\u001b[0m\u001b[0m\n\u001b[1;32m     25\u001b[0m                                  \u001b[0mlimit\u001b[0m\u001b[0;34m=\u001b[0m\u001b[0mNONLOCAL_NUM_EVENTS\u001b[0m\u001b[0;34m,\u001b[0m\u001b[0;34m\u001b[0m\u001b[0m\n\u001b[0;32m---> 26\u001b[0;31m                                  \u001b[0mstarttime\u001b[0m\u001b[0;34m=\u001b[0m\u001b[0mSTARTTIME\u001b[0m\u001b[0;34m,\u001b[0m\u001b[0;34m\u001b[0m\u001b[0m\n\u001b[0m\u001b[1;32m     27\u001b[0m                                  \u001b[0;31m#endtime=ENDTIME\u001b[0m\u001b[0;34m\u001b[0m\u001b[0;34m\u001b[0m\u001b[0m\n\u001b[1;32m     28\u001b[0m                                  )\n",
      "\u001b[0;32m/opt/conda/lib/python3.6/site-packages/obspy/clients/fdsn/client.py\u001b[0m in \u001b[0;36mget_events\u001b[0;34m(self, starttime, endtime, minlatitude, maxlatitude, minlongitude, maxlongitude, latitude, longitude, minradius, maxradius, mindepth, maxdepth, minmagnitude, maxmagnitude, magnitudetype, includeallorigins, includeallmagnitudes, includearrivals, eventid, limit, offset, orderby, catalog, contributor, updatedafter, filename, **kwargs)\u001b[0m\n\u001b[1;32m    511\u001b[0m             \"event\", DEFAULT_PARAMETERS['event'], kwargs)\n\u001b[1;32m    512\u001b[0m \u001b[0;34m\u001b[0m\u001b[0m\n\u001b[0;32m--> 513\u001b[0;31m         \u001b[0mdata_stream\u001b[0m \u001b[0;34m=\u001b[0m \u001b[0mself\u001b[0m\u001b[0;34m.\u001b[0m\u001b[0m_download\u001b[0m\u001b[0;34m(\u001b[0m\u001b[0murl\u001b[0m\u001b[0;34m)\u001b[0m\u001b[0;34m\u001b[0m\u001b[0m\n\u001b[0m\u001b[1;32m    514\u001b[0m         \u001b[0mdata_stream\u001b[0m\u001b[0;34m.\u001b[0m\u001b[0mseek\u001b[0m\u001b[0;34m(\u001b[0m\u001b[0;36m0\u001b[0m\u001b[0;34m,\u001b[0m \u001b[0;36m0\u001b[0m\u001b[0;34m)\u001b[0m\u001b[0;34m\u001b[0m\u001b[0m\n\u001b[1;32m    515\u001b[0m         \u001b[0;32mif\u001b[0m \u001b[0mfilename\u001b[0m\u001b[0;34m:\u001b[0m\u001b[0;34m\u001b[0m\u001b[0m\n",
      "\u001b[0;32m/opt/conda/lib/python3.6/site-packages/obspy/clients/fdsn/client.py\u001b[0m in \u001b[0;36m_download\u001b[0;34m(self, url, return_string, data, use_gzip)\u001b[0m\n\u001b[1;32m   1380\u001b[0m             \u001b[0mdebug\u001b[0m\u001b[0;34m=\u001b[0m\u001b[0mself\u001b[0m\u001b[0;34m.\u001b[0m\u001b[0mdebug\u001b[0m\u001b[0;34m,\u001b[0m \u001b[0mreturn_string\u001b[0m\u001b[0;34m=\u001b[0m\u001b[0mreturn_string\u001b[0m\u001b[0;34m,\u001b[0m \u001b[0mdata\u001b[0m\u001b[0;34m=\u001b[0m\u001b[0mdata\u001b[0m\u001b[0;34m,\u001b[0m\u001b[0;34m\u001b[0m\u001b[0m\n\u001b[1;32m   1381\u001b[0m             timeout=self.timeout, use_gzip=use_gzip)\n\u001b[0;32m-> 1382\u001b[0;31m         \u001b[0mraise_on_error\u001b[0m\u001b[0;34m(\u001b[0m\u001b[0mcode\u001b[0m\u001b[0;34m,\u001b[0m \u001b[0mdata\u001b[0m\u001b[0;34m)\u001b[0m\u001b[0;34m\u001b[0m\u001b[0m\n\u001b[0m\u001b[1;32m   1383\u001b[0m         \u001b[0;32mreturn\u001b[0m \u001b[0mdata\u001b[0m\u001b[0;34m\u001b[0m\u001b[0m\n\u001b[1;32m   1384\u001b[0m \u001b[0;34m\u001b[0m\u001b[0m\n",
      "\u001b[0;32m/opt/conda/lib/python3.6/site-packages/obspy/clients/fdsn/client.py\u001b[0m in \u001b[0;36mraise_on_error\u001b[0;34m(code, data)\u001b[0m\n\u001b[1;32m   1733\u001b[0m         \u001b[0;32melse\u001b[0m\u001b[0;34m:\u001b[0m\u001b[0;34m\u001b[0m\u001b[0m\n\u001b[1;32m   1734\u001b[0m             raise FDSNException(\"Unknown Error (%s): %s\" % (\n\u001b[0;32m-> 1735\u001b[0;31m                 (str(data.__class__.__name__), str(data))))\n\u001b[0m\u001b[1;32m   1736\u001b[0m     \u001b[0;31m# Catch any non 200 codes.\u001b[0m\u001b[0;34m\u001b[0m\u001b[0;34m\u001b[0m\u001b[0m\n\u001b[1;32m   1737\u001b[0m     \u001b[0;32melif\u001b[0m \u001b[0mcode\u001b[0m \u001b[0;34m!=\u001b[0m \u001b[0;36m200\u001b[0m\u001b[0;34m:\u001b[0m\u001b[0;34m\u001b[0m\u001b[0m\n",
      "\u001b[0;31mFDSNException\u001b[0m: Unknown Error (timeout): timed out"
=======
     "name": "stdout",
     "output_type": "stream",
     "text": [
      "LOCAL EVENTS: 10\n",
      "NONLOCAL EVENTS: 10\n",
      "NOISE EVENTS to Exclude: 8488\n"
>>>>>>> be2777d95da24d79fbaa819521b4ed84ce3b1723
     ]
    }
   ],
   "source": [
    "from obspy.clients.fdsn import Client\n",
    "from obspy.core.event import Catalog\n",
    "\n",
    "# Types\n",
    "local_catalog_events: Catalog\n",
    "nonlocal_catalog_events: Catalog\n",
    "    \n",
    "\n",
    "# Code\n",
    "client = Client(CLIENT_NAME)\n",
    "\n",
    "# Local Events\n",
    "local_catalog = client.get_events(latitude=station.latitude, \n",
    "                                 longitude=station.longitude,\n",
    "                                 maxradius=MAX_RADIUS,  # Local\n",
    "                                 starttime=STARTTIME,\n",
    "                                 limit=NUM_EVENTS,\n",
    "                                 endtime=ENDTIME\n",
    "                                 )\n",
    "\n",
    "# Nonlocal Events\n",
    "nonlocal_catalog = client.get_events(latitude=station.latitude, \n",
    "                                 longitude=station.longitude,\n",
    "                                 #minradius=NONLOCAL_MIN_RADIUS,  # Nonlocal\n",
    "                                 limit=NONLOCAL_NUM_EVENTS,\n",
    "                                 starttime=STARTTIME,\n",
    "                                 #endtime=ENDTIME\n",
    "                                 )\n",
    "\n",
    "\n",
    "# Noise Exclude Events\n",
    "noise_catalog = client.get_events(latitude=station.latitude, \n",
    "                                 longitude=station.longitude,\n",
    "                                 starttime=NOISE_START,\n",
    "                                 endtime=NOISE_END,\n",
    "                                 maxradius=10\n",
    "                                 )\n",
    "\n",
    "\n",
    "print(\"LOCAL EVENTS:\", len(local_catalog))\n",
    "print(\"NONLOCAL EVENTS:\", len(nonlocal_catalog))\n",
    "print(\"NOISE EVENTS to Exclude:\", len(noise_catalog))"
   ]
  },
  {
   "cell_type": "markdown",
   "metadata": {},
   "source": [
    "### Visualize Events Local and NonLocal"
   ]
  },
  {
   "cell_type": "code",
<<<<<<< HEAD
   "execution_count": null,
=======
   "execution_count": 11,
>>>>>>> be2777d95da24d79fbaa819521b4ed84ce3b1723
   "metadata": {
    "ExecuteTime": {
     "end_time": "2018-02-21T10:53:44.363928Z",
     "start_time": "2018-02-21T10:53:44.360999Z"
    },
    "collapsed": true,
    "scrolled": true
   },
<<<<<<< HEAD
   "outputs": [],
=======
   "outputs": [
    {
     "data": {
      "image/png": "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\n",
      "text/plain": [
       "<matplotlib.figure.Figure at 0x7fb840f4e390>"
      ]
     },
     "metadata": {},
     "output_type": "display_data"
    }
   ],
>>>>>>> be2777d95da24d79fbaa819521b4ed84ce3b1723
   "source": [
    "# Plot Events\n",
    "with warnings.catch_warnings():\n",
    "    warnings.simplefilter(\"ignore\")\n",
    "    local_catalog.plot(projection=\"local\")\n",
    "#     noise_catalog.plot()"
   ]
  },
  {
   "cell_type": "markdown",
   "metadata": {},
   "source": [
    "## 3. Retrieve Waveforms "
   ]
  },
  {
   "cell_type": "markdown",
   "metadata": {},
   "source": [
    "### Get times where events occur"
   ]
  },
  {
   "cell_type": "code",
<<<<<<< HEAD
   "execution_count": null,
=======
   "execution_count": 12,
>>>>>>> be2777d95da24d79fbaa819521b4ed84ce3b1723
   "metadata": {
    "ExecuteTime": {
     "end_time": "2018-02-21T10:52:10.590006Z",
     "start_time": "2018-02-21T10:52:10.484947Z"
    },
    "code_folding": [
     10,
     21,
     29,
     45
    ],
    "collapsed": true,
    "run_control": {
     "marked": true
    },
    "scrolled": true
   },
   "outputs": [],
   "source": [
    "import random\n",
    "import math\n",
    "from bisect import bisect\n",
    "from collections import namedtuple\n",
    "from typing import List\n",
    "from obspy.core.event import Catalog\n",
    "\n",
    "\n",
    "# Holds a UTCDateTime start and end times of an event\n",
    "Time = namedtuple('Time', ('start', 'end'))   \n",
    "\n",
    "def find_closest_index(a, x):\n",
    "    \"\"\"\n",
    "    Find index of rightmost value less than x via binary search\n",
    "    @param a: Indexable object, the list to look through - MUST BE SORTED\n",
    "    @param x: Any, the item to find the closest index for in a\n",
    "    \"\"\"\n",
    "    i = bisect(a, x) \n",
    "    if i:\n",
    "        return i\n",
    "    return 0\n",
    "\n",
    "def overlaps(time: Time, time2: Time):\n",
    "    \"\"\"\n",
    "    Determines whether two times overlap.\n",
    "    @returns: boolean, True if the time1 overlaps with time2  \n",
    "    \"\"\"\n",
    "    # Starts after the second time ends, or ends before the second time starts\n",
    "    return not ((time.start > time2.end) or (time.end < time2.start))\n",
    "\n",
    "def encompassed(time: Time, sorted_times: List[Time]):\n",
    "    \"\"\"\n",
    "    Determines whether time overlaps with any times in sorted_times\n",
    "    @param time: Time\n",
    "    @param sorted_times: sorted list of Time - the list MUST be sorted for this to work\n",
    "    @return: boolean, True if the time overlaps\n",
    "    \"\"\"\n",
    "    index = find_closest_index(sorted_times, time)\n",
    "    try:\n",
    "        left = overlaps(time, sorted_times[index-1])\n",
    "        curr = overlaps(time, sorted_times[index])\n",
    "        right = overlaps(time, sorted_times[index+1])\n",
    "        return any((left, curr, right))\n",
    "    except IndexError:\n",
    "        return True     \n",
    "\n",
    "def get_noise_times(times_to_exclude: List[UTCDateTime], \n",
    "                    startafter: UTCDateTime, endbefore: UTCDateTime, amount: int, duration: float):\n",
    "    \"\"\"\n",
    "    Generates a list of noise times, which are not in the times_to_exclude\n",
    "    @param times_to_exclude: a list of times of events \n",
    "    @param startafter: Generate noise windows after this time\n",
    "    @param endbefore: Generate noise windows before this time\n",
    "    @param amount: How many noise windows to generate\n",
    "    @param duration: How long each event in times_to_exclude and noise window should be, to prevent overlapping\n",
    "    \"\"\"\n",
    "    exclude = [Time(time-duration/2, time + duration/2) for time in times_to_exclude]\n",
    "    exclude.sort()\n",
    "    noise_times = []\n",
    "    \n",
    "    def random_time():\n",
    "        return startafter + random.randint(0, math.floor(endbefore - startafter))\n",
    "    \n",
    "    # Generate a random time\n",
    "    while len(noise_times) < amount:\n",
    "        rt = random_time()\n",
    "        rand_time = Time(rt - duration/2, rt + duration/2)\n",
    "                         \n",
    "        if not encompassed(rand_time, exclude):\n",
    "            noise_times.append(rt)\n",
    "            index = bisect(exclude, rand_time)\n",
    "            exclude = exclude[:index] + [rand_time] + exclude[index:]\n",
    "        \n",
    "    return noise_times\n",
    "\n",
    "\n"
   ]
  },
  {
   "cell_type": "code",
<<<<<<< HEAD
   "execution_count": null,
=======
   "execution_count": 13,
>>>>>>> be2777d95da24d79fbaa819521b4ed84ce3b1723
   "metadata": {
    "ExecuteTime": {
     "end_time": "2018-02-21T10:53:45.678542Z",
     "start_time": "2018-02-21T10:53:45.526660Z"
    },
    "code_folding": [],
    "run_control": {
     "marked": false
    }
   },
   "outputs": [],
   "source": [
    "from obspy.core import Stream\n",
    "from obspy.core.event.event import Event\n",
    "from pprint import pprint\n",
    "from obspy.taup import TauPyModel\n",
    "from obspy.geodetics.base import gps2dist_azimuth\n",
    "from obspy.geodetics import kilometers2degrees\n",
    "from multiprocessing import Pool\n",
    "from functools import partial\n",
    "from obspy.taup.helper_classes import SlownessModelError\n",
    "import math\n",
    "from collections import defaultdict\n",
    "\n",
    "# Constants\n",
    "model = TauPyModel(model=\"prem\")\n",
    "\n",
    "def get_magnitudes(catalog: Catalog):\n",
    "    \"\"\"\n",
    "    :return: dict, the range -1 to 0, 0 to 1, 1 to 2, etc. as magntitude buckets.\n",
    "    \"\"\"\n",
    "    mags = defaultdict(lambda: 0)\n",
    "    for event in catalog:\n",
    "        magnitude = event.magnitudes[0].mag\n",
    "        mags[math.trunc(magnitude)] += 1\n",
    "    return mags\n",
    "\n",
    "\n",
    "# Functions\n",
    "def get_event_time(station, event, give_anyways=False) -> UTCDateTime:\n",
    "    \"\"\" Corrects an event time when it arrived at a station, correcting for the PREM distance. \n",
    "    :param give_anyways: If the p_arrival can't be computed, give back the original time anyways\n",
    "    :return: List[UTCDateTime]\n",
    "             Errors will be stored as 'None' in the list, so that parallelization won't encounter Exceptions. I'm sure there's a better way to parallize the code.\n",
    "    \"\"\"\n",
    "    event_time = event.origins[0].time\n",
    "    try:\n",
    "        p_arrival, s_arrival = compute_distance(station, event)\n",
    "    except (SlownessModelError, IndexError) as e:\n",
    "        if not give_anyways:\n",
    "            return None\n",
    "        p_arrival = 0\n",
    "    event_time += p_arrival\n",
    "    return event_time\n",
    "\n",
    "\n",
    "def get_event_times(catalog: Catalog, station: Station) -> List[UTCDateTime]:\n",
    "    \"\"\"\n",
    "    Gets event times from a catalog and returns a list of them, corrected with the above functino.\n",
    "    \"\"\"\n",
    "    times = [get_event_time(station, event) for event in catalog]\n",
    "    times = filter(lambda time: time is not None, times)                     # Remove errored times\n",
    "    return list(times)\n",
    "\n",
    "\n",
    "def compute_distance(station: Station, event: Event):\n",
    "    \"\"\" Computes the time offset of an event to reach a station, based on PREM \"\"\"\n",
    "    origin = event.origins[0]\n",
    "    \n",
    "    event_distance = gps2dist_azimuth(station.latitude, station.longitude,\n",
    "                                      origin.latitude, origin.longitude)[0]\n",
    "    \n",
    "    depth = origin.depth/1000\n",
    "    distance = kilometers2degrees(event_distance / 1000)   # Meter to kilometer to degrees\n",
    "    arrivals = model.get_travel_times(source_depth_in_km=depth,  # meter to kilometer\n",
    "                                      distance_in_degree=distance,\n",
    "                                      phase_list=[\"p\", \"s\", \"P\", \"S\"]\n",
    "                                     )\n",
    "\n",
    "    p, s = arrivals[0].time, arrivals[1].time   # Time in seconds\n",
    "    return p, s\n",
    "\n",
    "\n",
    "    \n",
    "def parallel_get_event_times(catalog: Catalog, station, give_anyways=False):\n",
    "    \"\"\"\n",
    "    Parallelizes the 'get_event_time' function to make computation faster.\n",
    "    :param give_anyways: call 'get_event_time' with give_anyways set to True \n",
    "    \"\"\"\n",
    "    work = catalog   # Args that will be passed to the function\n",
    "\n",
    "    # Run with multiprocess\n",
    "    pool = Pool()\n",
    "    if give_anyways:\n",
    "        times = pool.map(partial(get_event_time, station, give_anyways=True), work)             # Map the args\n",
    "    else:\n",
    "        times = pool.map(partial(get_event_time, station), work)             \n",
    "    times = filter(lambda time: time is not None, times)                     # Remove errored times\n",
    "    return list(times)    \n",
    "\n"
   ]
  },
  {
   "cell_type": "code",
<<<<<<< HEAD
   "execution_count": null,
=======
   "execution_count": 14,
>>>>>>> be2777d95da24d79fbaa819521b4ed84ce3b1723
   "metadata": {},
   "outputs": [],
   "source": [
    "# Types\n",
    "local_times: List[UTCDateTime]\n",
    "nonlocal_times: List[UTCDateTime]\n",
    "noise_times: List[UTCDateTime]\n",
    "    \n",
    "    \n",
    "# Code\n",
    "local_times = parallel_get_event_times(local_catalog, station)\n",
    "nonlocal_times = parallel_get_event_times(nonlocal_catalog, station)\n",
    "_noise_times = parallel_get_event_times(noise_catalog, station, give_anyways=True)     # Even if PREM arrival can't be computed, get event times \n",
    " \n",
    "noise_times = get_noise_times(_noise_times, \n",
    "                              NOISE_START, # startafter\n",
    "                              NOISE_END, # endbefore\n",
    "                              NUM_NOISE_EVENTS, \n",
    "                              DURATION)\n",
    "\n",
    "print(\"Got times\")"
   ]
  },
  {
   "cell_type": "markdown",
   "metadata": {},
   "source": [
    "### Prepare data for the client"
   ]
  },
  {
   "cell_type": "code",
<<<<<<< HEAD
   "execution_count": null,
=======
   "execution_count": 15,
>>>>>>> be2777d95da24d79fbaa819521b4ed84ce3b1723
   "metadata": {
    "ExecuteTime": {
     "end_time": "2018-02-21T10:53:46.919907Z",
     "start_time": "2018-02-21T10:53:46.902085Z"
    },
    "run_control": {
     "marked": false
    },
    "scrolled": true
   },
   "outputs": [],
   "source": [
    "# Functions\n",
    "end = lambda time: time + PADDING + ADD_TIME\n",
    "start = lambda time: time - PADDING + ADD_TIME\n",
    "\n",
    "def create_bulk(times):\n",
    "    return [(network.code, station.code, \"*\", \"HN*\", start(time), end(time)) for time in times]\n",
    "\n",
    "\n",
    "# Code\n",
    "local_bulk = create_bulk(local_times)\n",
    "nonlocal_bulk = create_bulk(nonlocal_times)\n",
    "noise_bulk = create_bulk(noise_times)\n",
    "print(\"Created Bulks\")"
   ]
  },
  {
   "cell_type": "markdown",
   "metadata": {},
   "source": [
    "### Get Waveforms "
   ]
  },
  {
   "cell_type": "code",
<<<<<<< HEAD
   "execution_count": null,
=======
   "execution_count": 16,
>>>>>>> be2777d95da24d79fbaa819521b4ed84ce3b1723
   "metadata": {
    "ExecuteTime": {
     "end_time": "2018-02-21T10:53:49.629765Z",
     "start_time": "2018-02-21T10:53:49.423898Z"
    },
    "code_folding": [
     6,
     30,
     34,
     56
    ],
    "collapsed": true,
    "run_control": {
     "marked": true
    }
   },
   "outputs": [],
   "source": [
    "import asyncio  \n",
    "import time\n",
    "from functools import wraps\n",
    "from obspy.clients.fdsn.header import FDSNNoDataException, FDSNException\n",
    "\n",
    "\n",
    "def slide(iterable, num, stagger=None):\n",
    "    \"\"\" \n",
    "    A sliding window over an iterator, yielding sub arrays.\n",
    "    @param iterable: Iterable\n",
    "    @param num: int, the size of each subarray\n",
    "    @param stagger: int, the number of elements to start the next subarray by \n",
    "    \n",
    "    Example:\n",
    "    for arr in slide(list(range(98)), 5):\n",
    "        print(arr)\n",
    "    \"\"\"\n",
    "    stagger = num - stagger if stagger else 0\n",
    "    start = 0\n",
    "    end = num\n",
    "    \n",
    "    while start + stagger < len(iterable):\n",
    "        yield iterable[start:end]\n",
    "        start = end - stagger\n",
    "        end += num - stagger\n",
    "        \n",
    "        \n",
    "\n",
    "class AsyncClient(Client):\n",
    "    \n",
    "    def __init__(self, *args, **kwargs):\n",
    "        super().__init__(*args, **kwargs)\n",
    "        self.loop = asyncio.get_event_loop()\n",
    "    \n",
    "    async def async_get_waveforms(self, *args, **kwargs):\n",
    "        \"\"\" \n",
    "        Get waveforms asyncronously \n",
    "        @param *args, **kwargs: the arguments passed to Client.get_waveforms\n",
    "        @return: future\n",
    "        \"\"\"\n",
    "        \n",
    "        # kwargs can't be passed to loop.run_in_executor, so create a wrapper function.\n",
    "        @wraps(self.get_waveforms)\n",
    "        def call_with_kwargs(*args):\n",
    "            return self.get_waveforms(*args, **kwargs)\n",
    "            \n",
    "        future = self.loop.run_in_executor(None, call_with_kwargs, *args)\n",
    "        return await future\n",
    "    \n",
    "    def _get_batch(self, batch: List, bulk_kwargs: dict):\n",
    "        \"\"\"\n",
    "        Retrieves a batch of waveforms by calling 'get_waveforms' for each list of args in the batch\n",
    "        @param batch: list[list],each sublist is arguments to be passed to get_waveforms\n",
    "        @param bulk_kwargs: keyword arguments to pass the get_waveforms function. Will be applied to every batch.\n",
    "        \"\"\"\n",
    "        tasks = [self.async_get_waveforms(*data, **bulk_kwargs) for data in batch] # List of Asyncio Tasks\n",
    "        results = self.loop.run_until_complete(asyncio.gather(*tasks))             # Blocks until finished \n",
    "        return results\n",
    "    \n",
    "    def get_waveforms_bulk(self, bulk: List[List], batch_size=10, separation=1, bulk_kwargs=None, skip_errors=True):\n",
    "        \"\"\"\n",
    "        Gets waveforms in a bulk asynchronously.\n",
    "        @param bulk: List[List], data to pass get_waveforms like at - https://docs.obspy.org/packages/autogen/obspy.clients.fdsn.client.Client.get_waveforms_bulk.html\n",
    "        @param batch_size: how many simultaneous requests are sent at one. Keep this number < 10 \n",
    "        @param bulk_kwargs: dict, kwargs to pass to each get_waveforms request because you can't store them in the bulk list.\n",
    "        @param skip_errors: boolean, if False raises FSDN error if the server is missing a waveform  \n",
    "        @return: List[Stream], a list of the waveforms\n",
    "        \"\"\"\n",
    "        if batch_size > 10: raise ValueError(\"Batch size too high, could overload server.\")\n",
    "            \n",
    "        waveforms = []\n",
    "        bulk_kwargs = bulk_kwargs or {}\n",
    "        \n",
    "        generate_waveforms = self.yield_waveforms_bulk(bulk, batch_size, separation, bulk_kwargs, skip_errors)\n",
    "        \n",
    "        for i, result in enumerate(generate_waveforms):\n",
    "            waveforms.extend(result)\n",
    "            print(f\"\\rGot batch {i+1}: {len(waveforms)}/{len(bulk)}\", end=\"\")\n",
    "        \n",
    "        print(\"\\nDone.\")\n",
    "        return waveforms\n",
    "    \n",
    "    def yield_waveforms_bulk(self, bulk, batch_size=10, separation=1, bulk_kwargs=None, skip_errors=True):\n",
    "        \"\"\"\n",
    "        Yields a list of streams of size batch_size. Each call to the generator makes another call to the server.\n",
    "        This way you can be more strategic about how you get your data, hold it in memory, etc.\n",
    "        @yield: List[Stream]\n",
    "        \"\"\"\n",
    "        bulk_kwargs = bulk_kwargs or {}\n",
    "\n",
    "        if batch_size > 10: \n",
    "            raise ValueError(\"Batch size too high, could overload server.\")\n",
    "\n",
    "        for i, batch in enumerate(slide(bulk, batch_size)): \n",
    "            try:\n",
    "                yield self._get_batch(batch, bulk_kwargs)\n",
    "            except FDSNNoDataException as e:\n",
    "                if skip_errors:\n",
    "                    print(f\"Skipping batch {i} FDSNNoDataException\")\n",
    "                    continue\n",
    "                raise e\n",
    "            except FDSNException as e:\n",
    "                if skip_errors:    \n",
    "                    print(\"FDSN Exception: \", e)\n",
    "                    continue\n",
    "                raise e\n",
    "            finally:\n",
    "                time.sleep(separation)   # Prevent overloading the server"
   ]
  },
  {
   "cell_type": "markdown",
   "metadata": {},
   "source": [
    "#### Download waveforms Asynchronously"
   ]
  },
  {
   "cell_type": "code",
<<<<<<< HEAD
   "execution_count": null,
=======
   "execution_count": 17,
>>>>>>> be2777d95da24d79fbaa819521b4ed84ce3b1723
   "metadata": {},
   "outputs": [],
   "source": [
    "client = AsyncClient(CLIENT_NAME)"
   ]
  },
  {
   "cell_type": "code",
<<<<<<< HEAD
   "execution_count": null,
=======
   "execution_count": 18,
>>>>>>> be2777d95da24d79fbaa819521b4ed84ce3b1723
   "metadata": {
    "ExecuteTime": {
     "end_time": "2018-02-21T11:15:30.617850Z",
     "start_time": "2018-02-21T10:53:50.185007Z"
    },
    "code_folding": [],
    "run_control": {
     "marked": false
    },
    "scrolled": false
   },
<<<<<<< HEAD
   "outputs": [],
=======
   "outputs": [
    {
     "name": "stdout",
     "output_type": "stream",
     "text": [
      "Got batch 2: 9/9\n",
      "Done.\n",
      "\n",
      "Retrieved Local: 9\n"
     ]
    }
   ],
>>>>>>> be2777d95da24d79fbaa819521b4ed84ce3b1723
   "source": [
    "# Get Waveforms\n",
    "\n",
    "local_waveforms = client.get_waveforms_bulk(local_bulk, \n",
    "                                            batch_size=5, \n",
    "                                            bulk_kwargs=dict(attach_response=True),\n",
    "                                            skip_errors=True)\n",
    "\n",
    "print(\"\\nRetrieved Local:\", len(local_waveforms))"
   ]
  },
  {
   "cell_type": "code",
<<<<<<< HEAD
   "execution_count": null,
   "metadata": {},
   "outputs": [],
=======
   "execution_count": 19,
   "metadata": {},
   "outputs": [
    {
     "name": "stdout",
     "output_type": "stream",
     "text": [
      "Skipping batch 0 FDSNNoDataException\n",
      "Skipping batch 1 FDSNNoDataException\n",
      "\n",
      "Done.\n",
      "\n",
      "Retrieved Nonlocal: 0\n"
     ]
    }
   ],
>>>>>>> be2777d95da24d79fbaa819521b4ed84ce3b1723
   "source": [
    "nonlocal_waveforms = client.get_waveforms_bulk(nonlocal_bulk, \n",
    "                                               batch_size=5, \n",
    "                                               bulk_kwargs=dict(attach_response=True),\n",
    "                                               skip_errors=True)\n",
    "\n",
    "print(\"\\nRetrieved Nonlocal:\", len(nonlocal_waveforms))"
   ]
  },
  {
   "cell_type": "code",
<<<<<<< HEAD
   "execution_count": null,
=======
   "execution_count": 20,
>>>>>>> be2777d95da24d79fbaa819521b4ed84ce3b1723
   "metadata": {},
   "outputs": [],
   "source": [
    "noise_waveforms = client.get_waveforms_bulk(noise_bulk, \n",
    "                                               batch_size=5, \n",
    "                                               bulk_kwargs=dict(attach_response=True),\n",
    "                                               skip_errors=True)\n",
    "\n",
    "print(\"\\nRetrieved Noise:\", len(noise_waveforms))"
   ]
  },
  {
   "cell_type": "markdown",
   "metadata": {},
   "source": [
    "#### Write Waveforms"
   ]
  },
  {
   "cell_type": "code",
<<<<<<< HEAD
   "execution_count": null,
=======
   "execution_count": 21,
>>>>>>> be2777d95da24d79fbaa819521b4ed84ce3b1723
   "metadata": {},
   "outputs": [],
   "source": [
    "from typing import List\n",
    "from obspy import Stream\n",
    "from multiprocessing import Pool\n",
    "import matplotlib.pyplot as plt\n",
    "from matplotlib.ticker import NullLocator\n",
    "import glob\n",
    "import os\n",
    "\n",
    "def create_directory(path):\n",
    "    if not os.path.exists(path):\n",
    "        os.makedirs(path)\n",
    "        \n",
    "        \n",
    "def write_events(catalog, path):\n",
    "    create_directory(path)\n",
    "    catalog.write(os.path.join(path, 'events.xml'), format=\"QUAKEML\")\n",
    "        \n",
    "def write_waveforms(waveforms: List[Stream], path):\n",
    "    create_directory(path)\n",
    "    for i, stream in enumerate(waveforms):\n",
    "        stream.write(os.path.join(path, f'{i}.mseed'), format=\"MSEED\")\n",
    "        \n",
    "        \n",
    "def write_waveform(stream, file_path):\n",
    "    print(\"Writing: \", os.path.basename(file_path), end='\\r')\n",
    "    stream.write(file_path, format=\"MSEED\")\n",
    "    \n",
    "\n",
    "def parallel_write_waveforms(waveforms: List[Stream], path):\n",
    "    print(\"Writing Waveforms...\")\n",
    "    create_directory(path)\n",
    "\n",
    "    work = [] \n",
    "    \n",
    "    # Prep the file paths\n",
    "    for i, stream in enumerate(waveforms):\n",
    "        file_path = os.path.join(path, f'{i}.mseed')\n",
    "        \n",
    "        # Add the args for each stream\n",
    "        work.append(\n",
    "            (stream, file_path)  \n",
    "        )\n",
    "\n",
    "    # Run with multiprocess\n",
    "    pool = Pool()\n",
    "    pool.starmap(write_waveform, work)\n",
    "    \n",
    "    print(\"\\nWrote Waveforms\")\n",
    "\n",
    "def remove_response(waveforms: List[Stream]):\n",
    "    for stream in waveforms:\n",
    "        stream.remove_response(output='DISP', water_level=140)\n"
   ]
  },
  {
   "cell_type": "code",
<<<<<<< HEAD
   "execution_count": null,
=======
   "execution_count": 22,
>>>>>>> be2777d95da24d79fbaa819521b4ed84ce3b1723
   "metadata": {},
   "outputs": [],
   "source": [
    "import warnings, os\n",
    "# Constants\n",
    "DIR_PATH = os.path.join(os.getcwd(), f\"waveforms/{NAME}\")\n",
    "\n",
    "# Write Waveforms\n",
    "with warnings.catch_warnings():\n",
    "    warnings.simplefilter(\"ignore\")\n",
    "    parallel_write_waveforms(local_waveforms, os.path.join(DIR_PATH, \"local\"))   \n",
    "    parallel_write_waveforms(nonlocal_waveforms, os.path.join(DIR_PATH, \"non_local\"))   \n",
    "    parallel_write_waveforms(noise_waveforms, os.path.join(DIR_PATH, \"noise\"))   \n",
    "    \n",
    "print(\"Finished Writing\")"
   ]
  },
  {
   "cell_type": "code",
   "execution_count": 23,
   "metadata": {},
   "outputs": [],
   "source": [
    "write_events(local_catalog, os.path.join(DIR_PATH, 'events'))"
   ]
  },
  {
   "cell_type": "markdown",
   "metadata": {},
   "source": [
    "### *Optional, read waveforms"
   ]
  },
  {
   "cell_type": "code",
   "execution_count": 24,
   "metadata": {},
   "outputs": [],
   "source": [
    "### READ WAVEFORMS ####\n",
    "\n",
    "from obspy import read\n",
    "import glob\n",
    "import os\n",
    "\n",
    "local_path = os.path.join(os.getcwd(), f\"waveforms/{NAME}/local\")\n",
    "noise_path = os.path.join(os.getcwd(), f\"waveforms/{NAME}/noise\")\n",
    "nonlocal_path = os.path.join(os.getcwd(), f\"waveforms/{NAME}/non_local\")\n",
    "\n",
    "def read_waveforms(dir_path):\n",
    "    files = glob.glob(os.path.join(dir_path, '*.mseed'))\n",
    "    waveforms = [read(file) for file in files]\n",
    "    return waveforms\n",
    "\n",
    "local_waveforms = read_waveforms(local_path)\n",
    "nonlocal_waveforms = read_waveforms(nonlocal_path)\n",
    "noise_waveforms = read_waveforms(noise_path)"
   ]
  },
  {
   "cell_type": "markdown",
   "metadata": {},
   "source": [
    "## 4. Filter "
   ]
  },
  {
   "cell_type": "code",
   "execution_count": 25,
   "metadata": {},
   "outputs": [
    {
     "name": "stdout",
     "output_type": "stream",
     "text": [
      "Filtered\n"
     ]
    }
   ],
   "source": [
    "from obspy import Stream\n",
    "import copy\n",
    "\n",
    "def filter_waveforms(waveforms: List[Stream]) -> List[Stream]:\n",
    "    \"\"\" \n",
    "    Filters the waveforms (in place) \n",
    "    @return: generator -> Stream\n",
    "    \"\"\"\n",
    "    assert PRE_PADDING + POST_PADDING == DURATION\n",
    "    for stream in waveforms:\n",
    "        event_start = stream[0].stats.starttime + PADDING\n",
    "        window_start = event_start - PRE_PADDING\n",
    "        window_end = event_start + POST_PADDING\n",
    "        stream.filter('bandpass', freqmin=MIN_FREQ, freqmax=MAX_FREQ)\n",
    "        stream.trim(window_start, window_end)\n",
    "                                                            \n",
    "    return waveforms\n",
    "\n",
    "    \n",
    "local_waves = filter_waveforms(copy.deepcopy(local_waveforms))\n",
    "nonlocal_waves = filter_waveforms(copy.deepcopy(nonlocal_waveforms))\n",
    "noise_waves = filter_waveforms(copy.deepcopy(noise_waveforms))\n",
    "print(\"Filtered\")\n"
   ]
  },
  {
   "cell_type": "markdown",
   "metadata": {},
   "source": [
    "## 5. Write Spectrograms"
   ]
  },
  {
   "cell_type": "code",
   "execution_count": 26,
   "metadata": {
    "ExecuteTime": {
     "end_time": "2018-02-21T11:17:43.632951Z",
     "start_time": "2018-02-21T11:17:43.432171Z"
    },
    "code_folding": [
     6,
     12,
     21,
     25,
     57,
     65
    ],
    "run_control": {
     "marked": false
    },
    "scrolled": true
   },
   "outputs": [],
   "source": [
    "from typing import List\n",
    "from obspy import Stream\n",
    "from multiprocessing import Pool\n",
    "import matplotlib.pyplot as plt\n",
    "from matplotlib.ticker import NullLocator\n",
    "import glob\n",
    "import os\n",
    "    \n",
    "\n",
    "def remove_borders(path):\n",
    "    \"\"\" \n",
    "    Removes borders of all .png files in curr directory  \n",
    "    Must have ImageMagik installed.\n",
    "    \"\"\"\n",
    "    png_paths = glob.glob(f\"{path}/*.png\")\n",
    "    \n",
    "    for file in png_paths:\n",
    "        print(\"Trimming: \", file, end='\\r')\n",
    "        !convert $file -trim +repage $file;\n",
    "    \n",
    "    \n",
    "    \n",
    "def show_spectrogram(stream):\n",
    "    figure_list = stream.spectrogram(show=False, title=\"\")\n",
    "    \n",
    "    for figure, channel in zip(figure_list, get_channel_names(stream)):\n",
    "        if channel in ('HNE', 'HNN', 'HNZ'):\n",
    "            axes = figure.gca() \n",
    "            axes.set_xlim([0, DURATION])\n",
    "            axes.set_ylim([0, MAX_FREQ])\n",
    "\n",
    "            # Get Rid of Whitespace\n",
    "            axes.axis(\"off\")\n",
    "            axes.xaxis.set_major_locator(NullLocator())\n",
    "            axes.yaxis.set_major_locator(NullLocator())\n",
    "\n",
    "    plt.show()\n",
    "\n",
    "\n",
    "\n",
    "def write_spectrogram(stream, path):\n",
    "    \"\"\"\n",
    "    @param stream: Stream, the file to make a spectrogram from.\n",
    "                   Each trace should be one component.\n",
    "    \n",
    "    @param path: Str, the directory to write into.\n",
    "    \n",
    "    Each component of the stream is written as its own figure, a .png file.\n",
    "    Components eg. \"NNE\" are saved as the filename eg. \"NNE.png\".\n",
    "    \"\"\"\n",
    "    create_directory(path)\n",
    "    figure_list = stream.spectrogram(show=False, title=\"\")\n",
    "    \n",
    "    for figure, channel in zip(figure_list, get_channel_names(stream)):\n",
    "        if channel in ('HNE', 'HNN', 'HNZ'):\n",
    "            axes = figure.gca() \n",
    "            axes.set_xlim([0, DURATION])\n",
    "            axes.set_ylim([0, MAX_FREQ])\n",
    "\n",
    "            # Get Rid of Whitespace\n",
    "            axes.axis(\"off\")\n",
    "            axes.xaxis.set_major_locator(NullLocator())\n",
    "            axes.yaxis.set_major_locator(NullLocator())\n",
    "            figure.savefig(f\"{path}/{channel}.png\", bbox_inches='tight', pad_inches=0, transparent=True)\n",
    "\n",
    "            # Free memory\n",
    "            figure.clf()\n",
    "            plt.close(\"ALL\") \n",
    "\n",
    "    remove_borders(path)  # Remove borders of all the spectrograms\n",
    "    \n",
    "    \n",
    "def write_spectrogram_ignore_exceptions(*args ,**kwargs):\n",
    "    try:\n",
    "        return write_spectrogram(*args, **kwargs)\n",
    "    except Exception as e:\n",
    "        print(\"Failed to write spectrogram: \", e)\n",
    "        return None\n",
    "\n",
    "\n",
    "\n",
    "def write_spectrograms(waveforms, path):   \n",
    "    for i, stream in enumerate(waveforms):\n",
    "        dir_path = os.path.join(path, str(i))\n",
    "        create_directory(dir_path)\n",
    "        write_spectrogram(stream, dir_path)\n",
    "    \n",
    "\n",
    "def async_write_spectrograms(waveforms, path):\n",
    "    \"\"\"\n",
    "    @param waveforms: List[Stream], the waveforms to make spectrograms from.\n",
    "    @param path: str, The directory to write to\n",
    "    \n",
    "    1. Calls 'write_spectrogram' on each Stream. \n",
    "    2. Each stream is written to its own folder\n",
    "    3. All components are written to their own file as a spectrogram .png image.\n",
    "    \"\"\"\n",
    "    print(\"Writing Files...\")\n",
    "\n",
    "    work = []   # Args that will be passed to the write_spectrogram function\n",
    "    \n",
    "    # Prep the file paths\n",
    "    for i, stream in enumerate(waveforms):\n",
    "        dir_path = os.path.join(path, str(i))\n",
    "        create_directory(dir_path)\n",
    "        \n",
    "        # Add the args for each stream\n",
    "        work.append(\n",
    "            (stream, os.path.join(path, str(i)))  # arguments to the 'write_spectrogram' function\n",
    "        )\n",
    "\n",
    "    # Run with multiprocess\n",
    "    pool = Pool()\n",
    "    pool.starmap(write_spectrogram_ignore_exceptions, work)             # Map the 'write_spectrogram' function to the work\n",
    "    \n",
    "    print(\"\\nWrote Files\")\n"
   ]
  },
  {
   "cell_type": "code",
   "execution_count": 27,
   "metadata": {
    "ExecuteTime": {
     "end_time": "2018-02-21T11:26:37.813472Z",
     "start_time": "2018-02-21T11:17:47.227497Z"
    }
   },
   "outputs": [
    {
     "name": "stdout",
     "output_type": "stream",
     "text": [
      "Writing Files...\n",
      "Trimming:  /data/pytorch_earthquake_recognition/spectrograms/UtahQuakes/local/969/HNE.png\n",
      "Wrote Files\n",
      "Writing Files...\n",
      "Trimming:  /data/pytorch_earthquake_recognition/spectrograms/UtahQuakes/noise/3905/HNE.png\n",
      "Wrote Files\n",
      "Writing Files...\n",
      "Trimming:  /data/pytorch_earthquake_recognition/spectrograms/UtahQuakes/non_local/3/HNE.png\n",
      "Wrote Files\n"
     ]
    }
   ],
   "source": [
    "import warnings\n",
    "# Constants\n",
    "# DIR_PATH = os.path.join(os.getcwd(), f\"spectrograms/{NAME}\")\n",
    "\n",
    "# # Write Waveforms\n",
    "# with warnings.catch_warnings():\n",
    "#     warnings.simplefilter(\"ignore\")\n",
    "#     async_write_spectrograms(local_waves, os.path.join(DIR_PATH, \"local\"))   \n",
    "#     async_write_spectrograms(noise_waves, os.path.join(DIR_PATH, \"noise\"))  \n",
    "#     async_write_spectrograms(nonlocal_waves, os.path.join(DIR_PATH, \"non_local\"))   \n",
    "\n"
   ]
  },
  {
   "cell_type": "markdown",
   "metadata": {},
   "source": [
    "# Tests"
   ]
  },
  {
   "cell_type": "code",
   "execution_count": 30,
   "metadata": {
    "collapsed": true
   },
   "outputs": [],
   "source": [
    "import unittest \n",
    "\n",
    "class TestMethods(unittest.TestCase):\n",
    " \n",
    "\n",
    "    def test_overlaps(self):\n",
    "        time1 = UTCDateTime(2015, 1, 1, 10, 0, 10)\n",
    "        time2 = UTCDateTime(2015, 1, 1, 10, 0, 19)\n",
    "        time3 = UTCDateTime(2015, 1, 1, 10, 0, 30)\n",
    "        t1 = Time(time1, time1 + 10)\n",
    "        t2 = Time(time2, time2 + 10)\n",
    "        t3 = Time(time3, time3 + 10)\n",
    "        self.assertTrue(overlaps(t1, t2))\n",
    "        self.assertFalse(overlaps(t2, t3))\n",
    "\n",
    "        \n",
    "    def test_encompassed(self):\n",
    "        t = UTCDateTime(2015, 1, 1, 10, 0, 0) \n",
    "        times = [Time(t + 10*i, t + 10*(i+1)) for i in range(1, 7)]  # 1 minute of times \n",
    "        times.append(Time(t+1000, t+1010))\n",
    "        times.append(Time(t+1010, t+1020))\n",
    "        times.sort()                           # sorted just to remember that the function requires sorted times\n",
    "        \n",
    "        \n",
    "        # Encompassed within the times\n",
    "        self.assertTrue(encompassed(Time(t+30, t+40), times))\n",
    "        \n",
    "        # Not encompassed\n",
    "        self.assertFalse(encompassed(Time(t+990, t+999), times))\n",
    "        self.assertFalse(encompassed(Time(t-10, t), times)) \n",
    "            \n",
    "            \n",
    "    def test_find_closest_index(self):\n",
    "        lst = [1, 2, 3, 5, 6]\n",
    "        self.assertEqual(find_closest_index(lst, 2), 2)  # defaults to finding index to the right  \n",
    "        self.assertEqual(find_closest_index(lst, 4), 3)        \n",
    "            \n",
    "    def test_get_noise_times(self):\n",
    "        t = UTCDateTime(2015, 1, 1, 10, 0, 0) \n",
    "        exclude = [t + 60*i for i in range(1, 11)]  # 10 times in a 10 minute range \n",
    "    \n",
    "        times = get_noise_times(exclude, startafter=exclude[0], endbefore=exclude[-1], amount=10, duration=10)\n",
    "        \n",
    "        \n",
    "        # Make sure none of the noise times overlap with the event (exclude) times\n",
    "        exclude_times = [Time(time, time+10) for time in exclude]\n",
    "        self.assertFalse(any((encompassed(Time(time, time+10), exclude_times)) for time in times))\n",
    "        \n",
    "        # Make sure that the times are generated in the correct time window\n",
    "        times.sort()\n",
    "        self.assertTrue((times[0] > exclude[0]) and (times[-1] < exclude[-1]))\n",
    "        \n",
    "        # Should generate the correct amount\n",
    "        self.assertEqual(len(times), 10)\n",
    "        \n",
    "        \n",
    "    def test_slide(self):\n",
    "        gen = slide(list(range(7)), 3)\n",
    "        self.assertEqual(next(gen), [0, 1, 2])\n",
    "        self.assertEqual(next(gen), [3, 4, 5])\n",
    "        self.assertEqual(next(gen), [6])\n",
    "        \n",
    "        res = list(slide(list(range(7)), 3, 2))\n",
    "        self.assertEqual(res, [[0, 1, 2], [2, 3, 4], [4, 5, 6]])\n",
    "    "
   ]
  },
  {
   "cell_type": "code",
   "execution_count": 31,
   "metadata": {
    "collapsed": true
   },
   "outputs": [
    {
     "name": "stderr",
     "output_type": "stream",
     "text": [
      "....."
     ]
    },
    {
     "name": "stdout",
     "output_type": "stream",
     "text": [
      "False\n"
     ]
    },
    {
     "name": "stderr",
     "output_type": "stream",
     "text": [
      "\n",
      "----------------------------------------------------------------------\n",
      "Ran 5 tests in 0.010s\n",
      "\n",
      "OK\n"
     ]
    },
    {
     "data": {
      "text/plain": [
       "<unittest.runner.TextTestResult run=5 errors=0 failures=0>"
      ]
     },
     "execution_count": 31,
     "metadata": {},
     "output_type": "execute_result"
    }
   ],
   "source": [
    "methods = TestMethods()\n",
    "suite = unittest.TestLoader().loadTestsFromModule(methods)\n",
    "unittest.TextTestRunner().run(suite)\n"
   ]
  },
  {
   "cell_type": "code",
   "execution_count": null,
   "metadata": {},
   "outputs": [],
   "source": []
  }
 ],
 "metadata": {
  "kernelspec": {
   "display_name": "Python [conda root]",
   "language": "python",
   "name": "conda-root-py"
  },
  "language_info": {
   "codemirror_mode": {
    "name": "ipython",
    "version": 3
   },
   "file_extension": ".py",
   "mimetype": "text/x-python",
   "name": "python",
   "nbconvert_exporter": "python",
   "pygments_lexer": "ipython3",
   "version": "3.6.4"
  },
  "varInspector": {
   "cols": {
    "lenName": 16,
    "lenType": 16,
    "lenVar": 40
   },
   "kernels_config": {
    "python": {
     "delete_cmd_postfix": "",
     "delete_cmd_prefix": "del ",
     "library": "var_list.py",
     "varRefreshCmd": "print(var_dic_list())"
    },
    "r": {
     "delete_cmd_postfix": ") ",
     "delete_cmd_prefix": "rm(",
     "library": "var_list.r",
     "varRefreshCmd": "cat(var_dic_list()) "
    }
   },
   "oldHeight": 397.566666,
   "position": {
    "height": "474px",
    "left": "926.417px",
    "right": "102.417px",
    "top": "98px",
    "width": "489px"
   },
   "types_to_exclude": [
    "module",
    "function",
    "builtin_function_or_method",
    "instance",
    "_Feature"
   ],
   "varInspector_section_display": "block",
   "window_display": false
  }
 },
 "nbformat": 4,
 "nbformat_minor": 2
}
