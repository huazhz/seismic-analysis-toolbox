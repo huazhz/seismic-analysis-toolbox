{
 "cells": [
  {
   "cell_type": "code",
   "execution_count": 1,
   "metadata": {},
   "outputs": [],
   "source": [
    "import os"
   ]
  },
  {
   "cell_type": "code",
   "execution_count": 1,
   "metadata": {},
   "outputs": [],
   "source": [
    "names = [\n",
    "#     'Amatrice',\n",
    "#     'Oklahoma',\n",
    "#     'SouthAmerica',\n",
    "    'California',\n",
    "    'Costa',\n",
    "    'Puerto',\n",
    "    'Alaska'\n",
    "    ]\n"
   ]
  },
  {
   "cell_type": "code",
   "execution_count": 2,
   "metadata": {},
   "outputs": [
    {
     "data": {
      "text/plain": [
       "<matplotlib.figure.Figure at 0x7fde051b32e8>"
      ]
     },
     "metadata": {},
     "output_type": "display_data"
    },
    {
     "name": "stdout",
     "output_type": "stream",
     "text": [
      "LOCAL EVENTS: 164\n",
      "NONLOCAL EVENTS: 10\n",
      "NOISE EVENTS to Exclude: 2137\n"
     ]
    },
    {
     "data": {
      "text/plain": [
       "<matplotlib.figure.Figure at 0x7fddec501630>"
      ]
     },
     "metadata": {},
     "output_type": "display_data"
    },
    {
     "name": "stdout",
     "output_type": "stream",
     "text": [
      "Got times\n",
      "Created Bulks\n",
      "Skipping batch 3 FDSNNoDataException\n",
      "Skipping batch 4 FDSNNoDataException\n",
      "Skipping batch 5 FDSNNoDataException\n",
      "Skipping batch 26 FDSNNoDataException\n",
      "Skipping batch 27 FDSNNoDataException\n",
      "Got batch 28: 139/164\n",
      "Done.\n",
      "\n",
      "Retrieved Local: 139\n",
      "Got batch 2: 9/9\n",
      "Done.\n",
      "\n",
      "Retrieved Nonlocal: 9\n",
      "Skipping batch 12 FDSNNoDataException\n",
      "Skipping batch 93 FDSNNoDataException\n",
      "Skipping batch 315 FDSNNoDataException\n",
      "Skipping batch 367 FDSNNoDataException\n",
      "Skipping batch 404 FDSNNoDataException\n",
      "Skipping batch 554 FDSNNoDataException\n",
      "Skipping batch 610 FDSNNoDataException\n",
      "Skipping batch 611 FDSNNoDataException\n",
      "Skipping batch 673 FDSNNoDataException\n",
      "Skipping batch 725 FDSNNoDataException\n",
      "Got batch 790: 3950/4000\n",
      "Done.\n",
      "\n",
      "Retrieved Noise: 3950\n",
      "Writing Waveforms...\n",
      "\n",
      "Wrote Waveforms\n",
      "Writing Waveforms...\n",
      "\n",
      "Wrote Waveforms\n",
      "Writing Waveforms...\n",
      "\n",
      "Wrote Waveforms\n",
      "Finished Writing\n",
      "Filtered\n"
     ]
    },
    {
     "data": {
      "text/plain": [
       "<matplotlib.figure.Figure at 0x7fd9180c2a20>"
      ]
     },
     "metadata": {},
     "output_type": "display_data"
    },
    {
     "name": "stdout",
     "output_type": "stream",
     "text": [
      "-------------------------------------------------- FINISHED California --------------------------------------------------\n"
     ]
    },
    {
     "data": {
      "text/plain": [
       "<matplotlib.figure.Figure at 0x7fd8c8f71ef0>"
      ]
     },
     "metadata": {},
     "output_type": "display_data"
    },
    {
     "name": "stdout",
     "output_type": "stream",
     "text": [
      "LOCAL EVENTS: 164\n",
      "NONLOCAL EVENTS: 10\n",
      "NOISE EVENTS to Exclude: 2137\n"
     ]
    },
    {
     "data": {
      "text/plain": [
       "<matplotlib.figure.Figure at 0x7fddec814240>"
      ]
     },
     "metadata": {},
     "output_type": "display_data"
    },
    {
     "name": "stdout",
     "output_type": "stream",
     "text": [
      "Got times\n",
      "Created Bulks\n",
      "Skipping batch 3 FDSNNoDataException\n",
      "Skipping batch 4 FDSNNoDataException\n",
      "Skipping batch 5 FDSNNoDataException\n",
      "Skipping batch 26 FDSNNoDataException\n",
      "Skipping batch 27 FDSNNoDataException\n",
      "Got batch 28: 139/164\n",
      "Done.\n",
      "\n",
      "Retrieved Local: 139\n",
      "Got batch 1: 5/5\n",
      "Done.\n",
      "\n",
      "Retrieved Nonlocal: 5\n",
      "Skipping batch 134 FDSNNoDataException\n",
      "Skipping batch 261 FDSNNoDataException\n",
      "Skipping batch 343 FDSNNoDataException\n",
      "Skipping batch 350 FDSNNoDataException\n",
      "Skipping batch 482 FDSNNoDataException\n",
      "Skipping batch 517 FDSNNoDataException\n",
      "Skipping batch 573 FDSNNoDataException\n",
      "Skipping batch 623 FDSNNoDataException\n",
      "Skipping batch 762 FDSNNoDataException\n",
      "Skipping batch 772 FDSNNoDataException\n",
      "Got batch 790: 3950/4000\n",
      "Done.\n",
      "\n",
      "Retrieved Noise: 3950\n",
      "Writing Waveforms...\n",
      "\n",
      "Wrote Waveforms\n",
      "Writing Waveforms...\n",
      "\n",
      "Wrote Waveforms\n",
      "Writing Waveforms...\n",
      "\n",
      "Wrote Waveforms\n",
      "Finished Writing\n",
      "Filtered\n"
     ]
    },
    {
     "data": {
      "text/plain": [
       "<matplotlib.figure.Figure at 0x7fddea731eb8>"
      ]
     },
     "metadata": {},
     "output_type": "display_data"
    },
    {
     "name": "stdout",
     "output_type": "stream",
     "text": [
      "-------------------------------------------------- FINISHED Costa --------------------------------------------------\n"
     ]
    },
    {
     "data": {
      "text/plain": [
       "<matplotlib.figure.Figure at 0x7fddd82a0128>"
      ]
     },
     "metadata": {},
     "output_type": "display_data"
    },
    {
     "name": "stdout",
     "output_type": "stream",
     "text": [
      "LOCAL EVENTS: 164\n",
      "NONLOCAL EVENTS: 10\n",
      "NOISE EVENTS to Exclude: 2137\n"
     ]
    },
    {
     "data": {
      "text/plain": [
       "<matplotlib.figure.Figure at 0x7fddec3e0470>"
      ]
     },
     "metadata": {},
     "output_type": "display_data"
    },
    {
     "name": "stdout",
     "output_type": "stream",
     "text": [
      "Got times\n",
      "Created Bulks\n",
      "Skipping batch 3 FDSNNoDataException\n",
      "Skipping batch 4 FDSNNoDataException\n",
      "Skipping batch 5 FDSNNoDataException\n",
      "Skipping batch 26 FDSNNoDataException\n",
      "Skipping batch 27 FDSNNoDataException\n",
      "Got batch 28: 139/164\n",
      "Done.\n",
      "\n",
      "Retrieved Local: 139\n",
      "Got batch 2: 7/7\n",
      "Done.\n",
      "\n",
      "Retrieved Nonlocal: 7\n",
      "Skipping batch 15 FDSNNoDataException\n",
      "Skipping batch 131 FDSNNoDataException\n",
      "Skipping batch 165 FDSNNoDataException\n",
      "Skipping batch 179 FDSNNoDataException\n",
      "Skipping batch 211 FDSNNoDataException\n",
      "Skipping batch 398 FDSNNoDataException\n",
      "Skipping batch 419 FDSNNoDataException\n",
      "Skipping batch 676 FDSNNoDataException\n",
      "FDSN Exception:  Unknown Error (timeout): timed out\n",
      "Got batch 791: 3955/4000\n",
      "Done.\n",
      "\n",
      "Retrieved Noise: 3955\n",
      "Writing Waveforms...\n",
      "\n",
      "Wrote Waveforms\n",
      "Writing Waveforms...\n",
      "\n",
      "Wrote Waveforms\n",
      "Writing Waveforms...\n",
      "\n",
      "Wrote Waveforms\n",
      "Finished Writing\n",
      "Filtered\n"
     ]
    },
    {
     "data": {
      "text/plain": [
       "<matplotlib.figure.Figure at 0x7fdd987b4e10>"
      ]
     },
     "metadata": {},
     "output_type": "display_data"
    },
    {
     "name": "stdout",
     "output_type": "stream",
     "text": [
      "-------------------------------------------------- FINISHED Puerto --------------------------------------------------\n"
     ]
    },
    {
     "data": {
      "text/plain": [
       "<matplotlib.figure.Figure at 0x7fddd82dd3c8>"
      ]
     },
     "metadata": {},
     "output_type": "display_data"
    },
    {
     "name": "stdout",
     "output_type": "stream",
     "text": [
      "LOCAL EVENTS: 164\n",
      "NONLOCAL EVENTS: 10\n",
      "NOISE EVENTS to Exclude: 2137\n"
     ]
    },
    {
     "data": {
      "text/plain": [
       "<matplotlib.figure.Figure at 0x7fddb87e0f98>"
      ]
     },
     "metadata": {},
     "output_type": "display_data"
    },
    {
     "name": "stdout",
     "output_type": "stream",
     "text": [
      "Got times\n",
      "Created Bulks\n",
      "Skipping batch 3 FDSNNoDataException\n",
      "Skipping batch 4 FDSNNoDataException\n",
      "Skipping batch 5 FDSNNoDataException\n",
      "Skipping batch 26 FDSNNoDataException\n",
      "Skipping batch 27 FDSNNoDataException\n",
      "Got batch 28: 139/164\n",
      "Done.\n",
      "\n",
      "Retrieved Local: 139\n",
      "Got batch 2: 7/7\n",
      "Done.\n",
      "\n",
      "Retrieved Nonlocal: 7\n",
      "Skipping batch 22 FDSNNoDataException\n",
      "Skipping batch 58 FDSNNoDataException\n",
      "Skipping batch 292 FDSNNoDataException\n",
      "Skipping batch 437 FDSNNoDataException\n",
      "Skipping batch 499 FDSNNoDataException\n",
      "Skipping batch 527 FDSNNoDataException\n",
      "Skipping batch 537 FDSNNoDataException\n",
      "Skipping batch 549 FDSNNoDataException\n",
      "Skipping batch 607 FDSNNoDataException\n",
      "Skipping batch 687 FDSNNoDataException\n",
      "Skipping batch 781 FDSNNoDataException\n",
      "Got batch 789: 3945/4000\n",
      "Done.\n",
      "\n",
      "Retrieved Noise: 3945\n",
      "Writing Waveforms...\n",
      "\n",
      "Wrote Waveforms\n",
      "Writing Waveforms...\n",
      "\n",
      "Wrote Waveforms\n",
      "Writing Waveforms...\n",
      "\n",
      "Wrote Waveforms\n",
      "Finished Writing\n",
      "Filtered\n"
     ]
    },
    {
     "data": {
      "text/plain": [
       "<matplotlib.figure.Figure at 0x7fd9b8501ac8>"
      ]
     },
     "metadata": {},
     "output_type": "display_data"
    },
    {
     "name": "stdout",
     "output_type": "stream",
     "text": [
      "-------------------------------------------------- FINISHED Alaska --------------------------------------------------\n"
     ]
    }
   ],
   "source": [
    "def run_retrieve_data(name):\n",
    "    with open('event_name.txt', 'w') as file:\n",
    "        file.write(name)\n",
    "\n",
    "    %run retrieve_data.ipynb\n",
    "    print('-' * 50, \"FINISHED \" + name, '-' * 50)\n",
    "        "
   ]
  },
  {
   "cell_type": "code",
   "execution_count": null,
   "metadata": {},
   "outputs": [],
   "source": []
  }
 ],
 "metadata": {
  "kernelspec": {
   "display_name": "Python [default]",
   "language": "python",
   "name": "python3"
  },
  "language_info": {
   "codemirror_mode": {
    "name": "ipython",
    "version": 3
   },
   "file_extension": ".py",
   "mimetype": "text/x-python",
   "name": "python",
   "nbconvert_exporter": "python",
   "pygments_lexer": "ipython3",
   "version": "3.6.4"
  }
 },
 "nbformat": 4,
 "nbformat_minor": 2
}
