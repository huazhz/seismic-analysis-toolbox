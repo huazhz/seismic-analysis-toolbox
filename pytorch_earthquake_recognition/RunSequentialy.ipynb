{
 "cells": [
  {
   "cell_type": "code",
   "execution_count": 1,
   "metadata": {},
   "outputs": [],
   "source": [
    "import os"
   ]
  },
  {
   "cell_type": "code",
   "execution_count": 6,
   "metadata": {},
   "outputs": [],
   "source": [
    "names = [\n",
    "#     'Amatrice',\n",
    "#     'Oklahoma',\n",
    "#     'SouthAmerica',\n",
    "#     'California',\n",
    "    'Costa',\n",
    "    'Puerto',\n",
    "    'Alaska'\n",
    "    ]\n"
   ]
  },
  {
   "cell_type": "code",
   "execution_count": 2,
   "metadata": {},
   "outputs": [],
   "source": [
    "def run_retrieve_data(name):\n",
    "    with open('event_name.txt', 'w') as file:\n",
    "        file.write(name)\n",
    "\n",
    "    %run retrieve_data.ipynb\n",
    "    print('-' * 50, \"FINISHED \" + name, '-' * 50)\n",
    "        "
   ]
  },
  {
   "cell_type": "code",
   "execution_count": 6,
   "metadata": {},
   "outputs": [
    {
     "data": {
      "text/plain": [
       "<matplotlib.figure.Figure at 0x7f85fdff3390>"
      ]
     },
     "metadata": {},
     "output_type": "display_data"
    },
    {
     "name": "stdout",
     "output_type": "stream",
     "text": [
      "LOCAL EVENTS: 2000\n",
      "NONLOCAL EVENTS: 10\n",
      "NOISE EVENTS to Exclude: 1144\n"
     ]
    },
    {
     "data": {
      "text/plain": [
       "<matplotlib.figure.Figure at 0x7f85eb831588>"
      ]
     },
     "metadata": {},
     "output_type": "display_data"
    },
    {
     "name": "stdout",
     "output_type": "stream",
     "text": [
      "Got times\n",
      "Created Bulks\n",
      "Skipping batch 24 FDSNNoDataException\n",
      "Skipping batch 26 FDSNNoDataException\n",
      "Skipping batch 27 FDSNNoDataException\n",
      "Skipping batch 45 FDSNNoDataException\n",
      "Skipping batch 47 FDSNNoDataException\n",
      "Skipping batch 65 FDSNNoDataException\n",
      "Skipping batch 66 FDSNNoDataException\n",
      "Skipping batch 67 FDSNNoDataException\n",
      "Skipping batch 68 FDSNNoDataException\n",
      "Skipping batch 69 FDSNNoDataException\n",
      "Skipping batch 70 FDSNNoDataException\n",
      "Skipping batch 71 FDSNNoDataException\n",
      "Skipping batch 72 FDSNNoDataException\n",
      "Skipping batch 73 FDSNNoDataException\n",
      "Skipping batch 77 FDSNNoDataException\n",
      "Skipping batch 79 FDSNNoDataException\n",
      "Skipping batch 80 FDSNNoDataException\n",
      "Skipping batch 81 FDSNNoDataException\n",
      "Skipping batch 82 FDSNNoDataException\n",
      "Skipping batch 83 FDSNNoDataException\n",
      "Skipping batch 84 FDSNNoDataException\n",
      "Skipping batch 85 FDSNNoDataException\n",
      "Skipping batch 86 FDSNNoDataException\n",
      "Skipping batch 87 FDSNNoDataException\n",
      "Skipping batch 93 FDSNNoDataException\n",
      "Skipping batch 94 FDSNNoDataException\n",
      "Skipping batch 99 FDSNNoDataException\n",
      "Skipping batch 136 FDSNNoDataException\n",
      "Skipping batch 180 FDSNNoDataException\n",
      "Skipping batch 183 FDSNNoDataException\n",
      "Skipping batch 238 FDSNNoDataException\n",
      "Skipping batch 245 FDSNNoDataException\n",
      "Skipping batch 246 FDSNNoDataException\n",
      "Skipping batch 247 FDSNNoDataException\n",
      "Skipping batch 268 FDSNNoDataException\n",
      "Skipping batch 318 FDSNNoDataException\n",
      "Skipping batch 319 FDSNNoDataException\n",
      "Skipping batch 320 FDSNNoDataException\n",
      "Skipping batch 321 FDSNNoDataException\n",
      "Skipping batch 322 FDSNNoDataException\n",
      "Skipping batch 335 FDSNNoDataException\n",
      "Skipping batch 356 FDSNNoDataException\n",
      "Skipping batch 380 FDSNNoDataException\n",
      "Got batch 357: 1785/2000\n",
      "Done.\n",
      "\n",
      "Retrieved Local: 1785\n",
      "Got batch 2: 10/10\n",
      "Done.\n",
      "\n",
      "Retrieved Nonlocal: 10\n",
      "Skipping batch 42 FDSNNoDataException\n",
      "Skipping batch 50 FDSNNoDataException\n",
      "Skipping batch 59 FDSNNoDataException\n",
      "Skipping batch 64 FDSNNoDataException\n",
      "Skipping batch 73 FDSNNoDataException\n",
      "Skipping batch 75 FDSNNoDataException\n",
      "Skipping batch 77 FDSNNoDataException\n",
      "Skipping batch 80 FDSNNoDataException\n",
      "Skipping batch 82 FDSNNoDataException\n",
      "Skipping batch 87 FDSNNoDataException\n",
      "Skipping batch 89 FDSNNoDataException\n",
      "Skipping batch 90 FDSNNoDataException\n",
      "Skipping batch 98 FDSNNoDataException\n",
      "Skipping batch 106 FDSNNoDataException\n",
      "Skipping batch 141 FDSNNoDataException\n",
      "Skipping batch 149 FDSNNoDataException\n",
      "Skipping batch 152 FDSNNoDataException\n",
      "Skipping batch 153 FDSNNoDataException\n",
      "Skipping batch 160 FDSNNoDataException\n",
      "Skipping batch 174 FDSNNoDataException\n",
      "Skipping batch 175 FDSNNoDataException\n",
      "Skipping batch 186 FDSNNoDataException\n",
      "Skipping batch 197 FDSNNoDataException\n",
      "Skipping batch 204 FDSNNoDataException\n",
      "Skipping batch 208 FDSNNoDataException\n",
      "Skipping batch 217 FDSNNoDataException\n",
      "Skipping batch 225 FDSNNoDataException\n",
      "Skipping batch 229 FDSNNoDataException\n",
      "Skipping batch 239 FDSNNoDataException\n",
      "Skipping batch 250 FDSNNoDataException\n",
      "Skipping batch 263 FDSNNoDataException\n",
      "Skipping batch 268 FDSNNoDataException\n",
      "Skipping batch 274 FDSNNoDataException\n",
      "Skipping batch 286 FDSNNoDataException\n",
      "Skipping batch 292 FDSNNoDataException\n",
      "Skipping batch 297 FDSNNoDataException\n",
      "Skipping batch 304 FDSNNoDataException\n",
      "Skipping batch 307 FDSNNoDataException\n",
      "Skipping batch 318 FDSNNoDataException\n",
      "Skipping batch 324 FDSNNoDataException\n",
      "Skipping batch 350 FDSNNoDataException\n",
      "Skipping batch 356 FDSNNoDataException\n",
      "Skipping batch 359 FDSNNoDataException\n",
      "Skipping batch 366 FDSNNoDataException\n",
      "Skipping batch 370 FDSNNoDataException\n",
      "Skipping batch 385 FDSNNoDataException\n",
      "Skipping batch 393 FDSNNoDataException\n",
      "Skipping batch 394 FDSNNoDataException\n",
      "Skipping batch 428 FDSNNoDataException\n",
      "Skipping batch 430 FDSNNoDataException\n",
      "Skipping batch 433 FDSNNoDataException\n",
      "Skipping batch 440 FDSNNoDataException\n",
      "Skipping batch 455 FDSNNoDataException\n",
      "Skipping batch 467 FDSNNoDataException\n",
      "Skipping batch 474 FDSNNoDataException\n",
      "Skipping batch 484 FDSNNoDataException\n",
      "Skipping batch 489 FDSNNoDataException\n",
      "Skipping batch 497 FDSNNoDataException\n",
      "Skipping batch 499 FDSNNoDataException\n",
      "Skipping batch 513 FDSNNoDataException\n",
      "Skipping batch 514 FDSNNoDataException\n",
      "Skipping batch 515 FDSNNoDataException\n",
      "Skipping batch 531 FDSNNoDataException\n",
      "Skipping batch 534 FDSNNoDataException\n",
      "Skipping batch 550 FDSNNoDataException\n",
      "Skipping batch 557 FDSNNoDataException\n",
      "Skipping batch 563 FDSNNoDataException\n",
      "Skipping batch 569 FDSNNoDataException\n",
      "Skipping batch 615 FDSNNoDataException\n",
      "Skipping batch 616 FDSNNoDataException\n",
      "Skipping batch 629 FDSNNoDataException\n",
      "Skipping batch 630 FDSNNoDataException\n",
      "Skipping batch 637 FDSNNoDataException\n",
      "Skipping batch 638 FDSNNoDataException\n",
      "Skipping batch 645 FDSNNoDataException\n",
      "Skipping batch 647 FDSNNoDataException\n",
      "Skipping batch 648 FDSNNoDataException\n",
      "Skipping batch 654 FDSNNoDataException\n",
      "Skipping batch 669 FDSNNoDataException\n",
      "Skipping batch 670 FDSNNoDataException\n",
      "Skipping batch 682 FDSNNoDataException\n",
      "Skipping batch 690 FDSNNoDataException\n",
      "Skipping batch 691 FDSNNoDataException\n",
      "Skipping batch 692 FDSNNoDataException\n",
      "Skipping batch 717 FDSNNoDataException\n",
      "Skipping batch 720 FDSNNoDataException\n",
      "Skipping batch 725 FDSNNoDataException\n",
      "Skipping batch 726 FDSNNoDataException\n",
      "Skipping batch 731 FDSNNoDataException\n",
      "Skipping batch 740 FDSNNoDataException\n",
      "Skipping batch 760 FDSNNoDataException\n",
      "Skipping batch 765 FDSNNoDataException\n",
      "Skipping batch 769 FDSNNoDataException\n",
      "Skipping batch 788 FDSNNoDataException\n",
      "Skipping batch 792 FDSNNoDataException\n",
      "Got batch 705: 3525/4000\n",
      "Done.\n",
      "\n",
      "Retrieved Noise: 3525\n",
      "Writing Waveforms...\n",
      "\n",
      "Wrote Waveforms\n",
      "Writing Waveforms...\n",
      "\n",
      "Wrote Waveforms\n",
      "Writing Waveforms...\n",
      "\n",
      "Wrote Waveforms\n",
      "Finished Writing\n",
      "Filtered\n"
     ]
    },
    {
     "data": {
      "text/plain": [
       "<matplotlib.figure.Figure at 0x7f80bf24c7f0>"
      ]
     },
     "metadata": {},
     "output_type": "display_data"
    },
    {
     "name": "stdout",
     "output_type": "stream",
     "text": [
      "-------------------------------------------------- FINISHED Puerto --------------------------------------------------\n"
     ]
    }
   ],
   "source": [
    "run_retrieve_data(\"Puerto\")"
   ]
  },
  {
   "cell_type": "code",
   "execution_count": null,
   "metadata": {},
   "outputs": [],
   "source": []
  }
 ],
 "metadata": {
  "kernelspec": {
   "display_name": "Python [default]",
   "language": "python",
   "name": "python3"
  },
  "language_info": {
   "codemirror_mode": {
    "name": "ipython",
    "version": 3
   },
   "file_extension": ".py",
   "mimetype": "text/x-python",
   "name": "python",
   "nbconvert_exporter": "python",
   "pygments_lexer": "ipython3",
   "version": "3.6.4"
  }
 },
 "nbformat": 4,
 "nbformat_minor": 2
}
