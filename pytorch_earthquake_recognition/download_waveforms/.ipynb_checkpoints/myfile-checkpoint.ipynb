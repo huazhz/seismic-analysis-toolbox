{
 "cells": [
  {
   "cell_type": "markdown",
   "metadata": {},
   "source": [
    "## 1. Locate a Station Near The Event"
   ]
  },
  {
   "cell_type": "markdown",
   "metadata": {},
   "source": [
    "### Global Variable Constants "
   ]
  },
  {
   "cell_type": "code",
   "execution_count": 1,
   "metadata": {},
   "outputs": [],
   "source": [
    "with open('event_name.txt', 'r') as file:\n",
    "    event_name = file.read()"
   ]
  },
  {
   "cell_type": "code",
   "execution_count": 2,
   "metadata": {
    "ExecuteTime": {
     "end_time": "2018-02-21T10:51:58.090661Z",
     "start_time": "2018-02-21T10:51:58.087924Z"
    },
    "collapsed": true
   },
   "outputs": [],
   "source": [
    "# CHANGE THIS VARIABLE TO CHANGE EVERYTHING IN THE FILE\n",
    "event_name = 'Utah'"
   ]
  },
  {
   "cell_type": "code",
   "execution_count": 3,
   "metadata": {
    "ExecuteTime": {
     "end_time": "2018-02-21T10:51:57.237522Z",
     "start_time": "2018-02-21T10:51:57.200805Z"
    },
    "code_folding": [],
    "collapsed": true,
    "run_control": {
     "marked": false
    }
   },
   "outputs": [],
   "source": [
    "from obspy.clients.fdsn import Client\n",
    "from obspy.core.utcdatetime import UTCDateTime\n",
    "from types import MappingProxyType\n",
    "\n",
    "class Names:\n",
    "    Amatrice = 'Amatrice'\n",
    "    Oklahoma = 'Oklahoma'\n",
    "    SouthAmerica = 'SouthAmerica'\n",
    "    California = 'California'\n",
    "    Alaska = 'Alaska'\n",
    "    Costa = 'Costa'\n",
    "    Puerto = 'Puerto'\n",
    "    Utah = 'Utah'\n",
    "\n",
    "def Day(num):\n",
    "    return 60*60*24*num\n",
    "\n",
    "def get_event_info(name):\n",
    "    \"\"\"\n",
    "    Provids a dictionary (MappingProxyType) of information to populate the global variables needed in the file.\n",
    "    The chosen event is in a seismologically active area. A station is chosen near the event to get data.\n",
    "    @param name: Can be one of - \"Amatrice\", \"Patitirion\"\n",
    "    @return: ProxyMapType, containing the information about the event.\n",
    "    \"\"\"\n",
    "    info: MappingProxyType = None\n",
    "    if name == Names.Amatrice:\n",
    "        info = dict(\n",
    "            Latitude='42.790',\n",
    "            Longitude='13.150',\n",
    "            Time=\"2016-08-24 03:36:32\",\n",
    "            StartTime=\"2012-08-24\",\n",
    "            EndTime=\"2018-08-24\",\n",
    "            Client=\"INGV\",\n",
    "            Name=\"Amatrice\",\n",
    "            PrePadding=4,\n",
    "            PostPadding=16,\n",
    "            StationRadius=.2,\n",
    "            LocalEventRadius=.2\n",
    "        )\n",
    "\n",
    "    elif name == Names.Oklahoma:\n",
    "        info = dict(\n",
    "            Latitude='37.081',\n",
    "            Longitude='-97.309',\n",
    "            Time=\"2018-5-15 20:14:49\",\n",
    "            StartTime=\"2015-10-15\",\n",
    "            EndTime=\"2017-10-15\",\n",
    "            Client=\"IRIS\",\n",
    "            Name=\"Oklahoma\",\n",
    "            PrePadding=6,\n",
    "            PostPadding=14,\n",
    "            Network=\"GS\",\n",
    "            Station='KAN01',\n",
    "            StationRadius=1,\n",
    "            LocalEventRadius=1\n",
    "        )\n",
    "    \n",
    "    elif name == Names.SouthAmerica:\n",
    "        info = dict(\n",
    "            Latitude='-25.3',\n",
    "            Longitude='-71',\n",
    "            Time=\"2018-02-20 23:18:32\",\n",
    "            StartTime=\"2013-10-15\",\n",
    "            EndTime=\"2018-01-15\",\n",
    "            Client=\"IRIS\",\n",
    "            Name=\"SouthAmerica\",\n",
    "            PrePadding=3,\n",
    "            PostPadding=17,\n",
    "            AddTime=10,\n",
    "            Network='C',\n",
    "            Station='GO02',\n",
    "            StationRadius=3,\n",
    "            LocalEventRadius=1\n",
    "        )\n",
    "    \n",
    "    elif name == Names.California:\n",
    "        info = dict(\n",
    "            Latitude='33.557',\n",
    "            Longitude='-115.888',\n",
    "            Time=\"2018-02-20 23:18:32\",\n",
    "            StartTime=\"2016-10-15\",\n",
    "            EndTime=\"2018-01-15\",\n",
    "            Client=\"IRIS\",\n",
    "            Name=\"California\",\n",
    "            PrePadding=8,\n",
    "            PostPadding=12,\n",
    "            StationRadius=1,\n",
    "            LocalEventRadius=1\n",
    "        )\n",
    "    \n",
    "    elif name == Names.Alaska:\n",
    "        info = dict(\n",
    "            Latitude='61',\n",
    "            Longitude='-150',\n",
    "            Time=\"2018-02-20 23:18:32\",\n",
    "            StartTime=\"2015-01-01\",\n",
    "            EndTime=\"2017-02-26\",\n",
    "            Client=\"IRIS\",\n",
    "            Network=\"AK\",\n",
    "            Station=\"FIRE\",\n",
    "            Name=\"Alaska\",\n",
    "            PrePadding=5,\n",
    "            PostPadding=15,\n",
    "            StationRadius=2,\n",
    "            LocalEventRadius=1.5\n",
    "        )\n",
    "        \n",
    "    elif name == Names.Costa:\n",
    "        info = dict(\n",
    "            Latitude='19.433',\n",
    "            Longitude='-155',\n",
    "            Time=\"2005-02-20\",\n",
    "            StartTime=\"2014-05-05\",\n",
    "            EndTime=\"2018-02-26\",\n",
    "            Client=\"IRIS\",\n",
    "            Network=\"NU\",\n",
    "            Station=\"BC8A\",\n",
    "            Name=\"Costa\",\n",
    "            PrePadding=5,\n",
    "            PostPadding=15,\n",
    "            StationRadius=1,\n",
    "            LocalEventRadius=1\n",
    "        )\n",
    "        \n",
    "    elif name == Names.Puerto:\n",
    "        info = dict(\n",
    "            Latitude='18',\n",
    "            Longitude='-67',\n",
    "            Time=\"2005-02-20\",\n",
    "            StartTime=\"2014-05-05\",\n",
    "            EndTime=\"2018-02-26\",\n",
    "            Client=\"IRIS\",\n",
    "            Network=\"PR\",\n",
    "            Station=\"AGPR\",\n",
    "            Name=\"Puerto\",\n",
    "            PrePadding=7,\n",
    "            PostPadding=13,\n",
    "            StationRadius=3,\n",
    "            LocalEventRadius=1\n",
    "        )\n",
    "        \n",
    "    elif name == Names.Utah:\n",
    "        info = dict(\n",
    "            Latitude='38',\n",
    "            Longitude='-112',\n",
    "            Time=\"2006-04-20\",\n",
    "            StartTime=\"2015-10-05\",\n",
    "            EndTime=\"2018-02-26\",\n",
    "            Client=\"IRIS\",\n",
    "            Network=\"NN\",\n",
    "            Station=\"DSP\",\n",
    "            Name=\"Utah\",\n",
    "            PrePadding=5,\n",
    "            PostPadding=15,\n",
    "            StationRadius=5,\n",
    "            LocalEventRadius=1.5\n",
    "        )\n",
    "    \n",
    "    if info: \n",
    "        return MappingProxyType(info)\n",
    "    raise ValueError(f\"Name '{name}' not found\")"
   ]
  },
  {
   "cell_type": "code",
   "execution_count": 4,
   "metadata": {
    "ExecuteTime": {
     "end_time": "2018-02-21T10:52:07.354710Z",
     "start_time": "2018-02-21T10:52:07.339370Z"
    },
    "collapsed": true,
    "slideshow": {
     "slide_type": "-"
    }
   },
   "outputs": [],
   "source": [
    "# Retrieving the quake information            \n",
    "event = get_event_info(event_name)   # dict containing the information to populate the variables\n",
    "\n",
    "# Constants\n",
    "LATITUDE = event['Latitude']                # Latitude of Event\n",
    "LONGITUDE = event['Longitude']              # Longitude of Event\n",
    "STARTTIME = UTCDateTime(event['StartTime']) # Starttime of Data Collection\n",
    "ENDTIME = UTCDateTime(event['EndTime'])     # Endtime of Data Collection\n",
    "CLIENT_NAME = event['Client']               # Client to retrieve event from\n",
    "NAME = event['Name'] + 'Quakes'             # Folder name to write spectrograms to\n",
    "\n",
    "STATION_MAX_RADIUS = event['StationRadius'] # Pick as station within this distance of the event\n",
    "MAX_RADIUS = event['LocalEventRadius']      # How far local events can be from the station\n",
    "NONLOCAL_MIN_RADIUS = 6                     # Min Radius for Nonlocal Events\n",
    "NUM_EVENTS = 10 # 2000                            # How many events to retrieve and write                     # Event time window duration\n",
    "NONLOCAL_NUM_EVENTS = 10\n",
    "NUM_NOISE_EVENTS = 10 #4000\n",
    "\n",
    "DURATION = 20                              # Time in seconds, centered around the event          \n",
    "PADDING = 20                               # Get waveforms padding length, and then trim to the duration after filtering\n",
    "ADD_TIME = event.get('AddTime', 0)         # Time to add to all events to correct for arrival times\n",
    "\n",
    "PRE_PADDING = event['PrePadding']\n",
    "POST_PADDING = event['PostPadding']\n",
    "\n",
    "# Time period to collect noise events\n",
    "NOISE_START = STARTTIME\n",
    "NOISE_END = NOISE_START + Day(60)\n",
    "\n",
    "# If specific network and station are specified\n",
    "NETWORK = event.get('Network')\n",
    "STATION = event.get('Station')\n",
    "\n",
    "# Filtering Constants for the Spectrograms\n",
    "MIN_FREQ = 1\n",
    "MAX_FREQ = 30\n",
    "    \n",
    "# Code\n",
    "client = Client(CLIENT_NAME)"
   ]
  },
  {
   "cell_type": "markdown",
   "metadata": {},
   "source": [
    "### Get Valid Station Near the Location "
   ]
  },
  {
   "cell_type": "code",
   "execution_count": 5,
   "metadata": {},
   "outputs": [],
   "source": [
    "# Verify that waveform FDSN works, so you don't waste time getting to the bottom \n",
    "\n",
    "from obspy.core.inventory import Inventory, Station, Network\n",
    "\n",
    "def get_all_stations(max_radius) -> Inventory:\n",
    "    \"\"\" Use this to find a valid station with the correct components \"\"\"\n",
    "    return client.get_stations(latitude=LATITUDE,\n",
    "                               longitude=LONGITUDE,\n",
    "                               maxradius=max_radius)\n",
    "\n",
    "def get_channel_names(stream):\n",
    "    \"\"\" Returns a list of names of each component, in the order they appear in the stream \"\"\"\n",
    "    return [trace.stats.channel for trace in stream]\n",
    "\n",
    "def verify_fsdn(network, station):\n",
    "    \"\"\" \n",
    "    Makes a call to the server. Requires 'HN*' component, and the ability to 'get_waveforms' from the station \n",
    "    Sometimes the stations are missing data, so it's important to actually make a request and get the waveform data.\n",
    "    \"\"\"\n",
    "    client = Client(CLIENT_NAME)\n",
    "    time = station.start_date + Day(365)\n",
    "    waves = client.get_waveforms(network.code, station.code, \"*\", \"HN*\", time, time + DURATION)\n",
    "    return True\n",
    "\n",
    "def get_valid_stations(inventory):\n",
    "    \"\"\" Attempts to get waveforms from a station, with the veriy_fsdn function. Returns valid stations. \"\"\"\n",
    "    valid = []\n",
    "    for network in inventory:\n",
    "        for station in network:\n",
    "            try:\n",
    "                verify_fsdn(network, station)\n",
    "            except Exception:\n",
    "                print(\"Failed station:\", station.code)\n",
    "            else:\n",
    "                print(\"Succeeded station:\", station.code, network.code)\n",
    "                valid.append(station)\n",
    "    return valid\n"
   ]
  },
  {
   "cell_type": "markdown",
   "metadata": {},
   "source": [
    "#### *Optional: Find a station with the correct components"
   ]
  },
  {
   "cell_type": "code",
   "execution_count": 6,
   "metadata": {},
   "outputs": [],
   "source": [
    "# inv = get_all_stations(STATION_MAX_RADIUS)\n",
    "# get_valid_stations(inv)\n"
   ]
  },
  {
   "cell_type": "code",
   "execution_count": 7,
   "metadata": {},
   "outputs": [
    {
     "name": "stdout",
     "output_type": "stream",
     "text": [
      "Station DSP (Deep Springs, California w84gm)\n",
      "\tStation Code: DSP\n",
      "\tChannel Count: 0/6 (Selected/Total)\n",
      "\t2015-09-11T00:00:00.000000Z - 2599-12-31T23:59:59.000000Z\n",
      "\tAccess: open \n",
      "\tLatitude: 37.37, Longitude: -117.97, Elevation: 1692.0 m\n",
      "\tAvailable Channels:\n",
      "\n"
     ]
    }
   ],
   "source": [
    "# Types\n",
    "inventory: Inventory\n",
    "network: Network\n",
    "station: Station\n",
    "    \n",
    "inventory = client.get_stations(network=NETWORK,\n",
    "                                station=STATION\n",
    "                                )\n",
    "\n",
    "# By default, get the first station and network unless specified\n",
    "network = inventory.select(NETWORK)[0]\n",
    "station = network.select(STATION)[0]\n",
    "print(station)"
   ]
  },
  {
   "cell_type": "code",
   "execution_count": 8,
   "metadata": {},
   "outputs": [],
   "source": [
    "# Verifies that the selected station supports 'get_waveforms' - saves time to not run the rest of the code\n",
    "assert verify_fsdn(network, station)"
   ]
  },
  {
   "cell_type": "code",
   "execution_count": 9,
   "metadata": {
    "ExecuteTime": {
     "end_time": "2018-02-21T10:52:10.442534Z",
     "start_time": "2018-02-21T10:52:10.438631Z"
    },
    "code_folding": [],
    "run_control": {
     "marked": false
    },
    "scrolled": false
   },
   "outputs": [
    {
     "data": {
      "text/plain": [
       "<matplotlib.figure.Figure at 0x7fb8423ad5f8>"
      ]
     },
     "metadata": {},
     "output_type": "display_data"
    }
   ],
   "source": [
    "# Optional, Visualize the Station\n",
    "import warnings\n",
    "\n",
    "with warnings.catch_warnings():\n",
    "    warnings.simplefilter(\"ignore\")\n",
    "    network.select(STATION).plot(projection='local')"
   ]
  },
  {
   "cell_type": "markdown",
   "metadata": {},
   "source": [
    "## 2. Retrieve Local and Non-Local Events From The Station "
   ]
  },
  {
   "cell_type": "markdown",
   "metadata": {},
   "source": [
    "### Functions for getting the noise times"
   ]
  },
  {
   "cell_type": "markdown",
   "metadata": {},
   "source": [
    "#### Get Events"
   ]
  },
  {
   "cell_type": "code",
   "execution_count": 10,
   "metadata": {
    "ExecuteTime": {
     "end_time": "2018-02-21T10:53:00.530107Z",
     "start_time": "2018-02-21T10:52:10.632519Z"
    },
    "code_folding": [],
    "run_control": {
     "marked": false
    },
    "scrolled": false
   },
   "outputs": [
    {
     "name": "stdout",
     "output_type": "stream",
     "text": [
      "LOCAL EVENTS: 10\n",
      "NONLOCAL EVENTS: 10\n",
      "NOISE EVENTS to Exclude: 8488\n"
     ]
    }
   ],
   "source": [
    "from obspy.clients.fdsn import Client\n",
    "from obspy.core.event import Catalog\n",
    "\n",
    "# Types\n",
    "local_catalog_events: Catalog\n",
    "nonlocal_catalog_events: Catalog\n",
    "    \n",
    "\n",
    "# Code\n",
    "client = Client(CLIENT_NAME)\n",
    "\n",
    "# Local Events\n",
    "local_catalog = client.get_events(latitude=station.latitude, \n",
    "                                 longitude=station.longitude,\n",
    "                                 maxradius=MAX_RADIUS,  # Local\n",
    "                                 starttime=STARTTIME,\n",
    "                                 limit=NUM_EVENTS,\n",
    "                                 endtime=ENDTIME\n",
    "                                 )\n",
    "\n",
    "# Nonlocal Events\n",
    "nonlocal_catalog = client.get_events(latitude=station.latitude, \n",
    "                                 longitude=station.longitude,\n",
    "                                 #minradius=NONLOCAL_MIN_RADIUS,  # Nonlocal\n",
    "                                 limit=NONLOCAL_NUM_EVENTS,\n",
    "                                 starttime=STARTTIME,\n",
    "                                 #endtime=ENDTIME\n",
    "                                 )\n",
    "\n",
    "\n",
    "# Noise Exclude Events\n",
    "noise_catalog = client.get_events(latitude=station.latitude, \n",
    "                                 longitude=station.longitude,\n",
    "                                 starttime=NOISE_START,\n",
    "                                 endtime=NOISE_END,\n",
    "                                 maxradius=10\n",
    "                                 )\n",
    "\n",
    "\n",
    "print(\"LOCAL EVENTS:\", len(local_catalog))\n",
    "print(\"NONLOCAL EVENTS:\", len(nonlocal_catalog))\n",
    "print(\"NOISE EVENTS to Exclude:\", len(noise_catalog))"
   ]
  },
  {
   "cell_type": "markdown",
   "metadata": {},
   "source": [
    "### Visualize Events Local and NonLocal"
   ]
  },
  {
   "cell_type": "code",
   "execution_count": 11,
   "metadata": {
    "ExecuteTime": {
     "end_time": "2018-02-21T10:53:44.363928Z",
     "start_time": "2018-02-21T10:53:44.360999Z"
    },
    "collapsed": true,
    "scrolled": true
   },
   "outputs": [
    {
     "data": {
      "image/png": "[encoded data removed]",
      "text/plain": [
       "<matplotlib.figure.Figure at 0x7fb840f4e390>"
      ]
     },
     "metadata": {},
     "output_type": "display_data"
    }
   ],
   "source": [
    "# Plot Events\n",
    "with warnings.catch_warnings():\n",
    "    warnings.simplefilter(\"ignore\")\n",
    "    local_catalog.plot(projection=\"local\")\n",
    "#     noise_catalog.plot()"
   ]
  },
  {
   "cell_type": "markdown",
   "metadata": {},
   "source": [
    "## 3. Retrieve Waveforms "
   ]
  },
  {
   "cell_type": "markdown",
   "metadata": {},
   "source": [
    "### Get times where events occur"
   ]
  },
  {
   "cell_type": "code",
   "execution_count": 12,
   "metadata": {
    "ExecuteTime": {
     "end_time": "2018-02-21T10:52:10.590006Z",
     "start_time": "2018-02-21T10:52:10.484947Z"
    },
    "code_folding": [
     10,
     21,
     29,
     45
    ],
    "collapsed": true,
    "run_control": {
     "marked": true
    },
    "scrolled": true
   },
   "outputs": [],
   "source": [
    "import random\n",
    "import math\n",
    "from bisect import bisect\n",
    "from collections import namedtuple\n",
    "from typing import List\n",
    "from obspy.core.event import Catalog\n",
    "\n",
    "\n",
    "# Holds a UTCDateTime start and end times of an event\n",
    "Time = namedtuple('Time', ('start', 'end'))   \n",
    "\n",
    "def find_closest_index(a, x):\n",
    "    \"\"\"\n",
    "    Find index of rightmost value less than x via binary search\n",
    "    @param a: Indexable object, the list to look through - MUST BE SORTED\n",
    "    @param x: Any, the item to find the closest index for in a\n",
    "    \"\"\"\n",
    "    i = bisect(a, x) \n",
    "    if i:\n",
    "        return i\n",
    "    return 0\n",
    "\n",
    "def overlaps(time: Time, time2: Time):\n",
    "    \"\"\"\n",
    "    Determines whether two times overlap.\n",
    "    @returns: boolean, True if the time1 overlaps with time2  \n",
    "    \"\"\"\n",
    "    # Starts after the second time ends, or ends before the second time starts\n",
    "    return not ((time.start > time2.end) or (time.end < time2.start))\n",
    "\n",
    "def encompassed(time: Time, sorted_times: List[Time]):\n",
    "    \"\"\"\n",
    "    Determines whether time overlaps with any times in sorted_times\n",
    "    @param time: Time\n",
    "    @param sorted_times: sorted list of Time - the list MUST be sorted for this to work\n",
    "    @return: boolean, True if the time overlaps\n",
    "    \"\"\"\n",
    "    index = find_closest_index(sorted_times, time)\n",
    "    try:\n",
    "        left = overlaps(time, sorted_times[index-1])\n",
    "        curr = overlaps(time, sorted_times[index])\n",
    "        right = overlaps(time, sorted_times[index+1])\n",
    "        return any((left, curr, right))\n",
    "    except IndexError:\n",
    "        return True     \n",
    "\n",
    "def get_noise_times(times_to_exclude: List[UTCDateTime], \n",
    "                    startafter: UTCDateTime, endbefore: UTCDateTime, amount: int, duration: float):\n",
    "    \"\"\"\n",
    "    Generates a list of noise times, which are not in the times_to_exclude\n",
    "    @param times_to_exclude: a list of times of events \n",
    "    @param startafter: Generate noise windows after this time\n",
    "    @param endbefore: Generate noise windows before this time\n",
    "    @param amount: How many noise windows to generate\n",
    "    @param duration: How long each event in times_to_exclude and noise window should be, to prevent overlapping\n",
    "    \"\"\"\n",
    "    exclude = [Time(time-duration/2, time + duration/2) for time in times_to_exclude]\n",
    "    exclude.sort()\n",
    "    noise_times = []\n",
    "    \n",
    "    def random_time():\n",
    "        return startafter + random.randint(0, math.floor(endbefore - startafter))\n",
    "    \n",
    "    # Generate a random time\n",
    "    while len(noise_times) < amount:\n",
    "        rt = random_time()\n",
    "        rand_time = Time(rt - duration/2, rt + duration/2)\n",
    "                         \n",
    "        if not encompassed(rand_time, exclude):\n",
    "            noise_times.append(rt)\n",
    "            index = bisect(exclude, rand_time)\n",
    "            exclude = exclude[:index] + [rand_time] + exclude[index:]\n",
    "        \n",
    "    return noise_times\n",
    "\n",
    "\n"
   ]
  },
  {
   "cell_type": "code",
   "execution_count": 13,
   "metadata": {
    "ExecuteTime": {
     "end_time": "2018-02-21T10:53:45.678542Z",
     "start_time": "2018-02-21T10:53:45.526660Z"
    },
    "code_folding": [],
    "run_control": {
     "marked": false
    }
   },
   "outputs": [],
   "source": [
    "from obspy.core import Stream\n",
    "from obspy.core.event.event import Event\n",
    "from pprint import pprint\n",
    "from obspy.taup import TauPyModel\n",
    "from obspy.geodetics.base import gps2dist_azimuth\n",
    "from obspy.geodetics import kilometers2degrees\n",
    "from multiprocessing import Pool\n",
    "from functools import partial\n",
    "from obspy.taup.helper_classes import SlownessModelError\n",
    "import math\n",
    "from collections import defaultdict\n",
    "\n",
    "# Constants\n",
    "model = TauPyModel(model=\"prem\")\n",
    "\n",
    "def get_magnitudes(catalog: Catalog):\n",
    "    \"\"\"\n",
    "    :return: dict, the range -1 to 0, 0 to 1, 1 to 2, etc. as magntitude buckets.\n",
    "    \"\"\"\n",
    "    mags = defaultdict(lambda: 0)\n",
    "    for event in catalog:\n",
    "        magnitude = event.magnitudes[0].mag\n",
    "        mags[math.trunc(magnitude)] += 1\n",
    "    return mags\n",
    "\n",
    "\n",
    "# Functions\n",
    "def get_event_time(station, event, give_anyways=False) -> UTCDateTime:\n",
    "    \"\"\" Corrects an event time when it arrived at a station, correcting for the PREM distance. \n",
    "    :param give_anyways: If the p_arrival can't be computed, give back the original time anyways\n",
    "    :return: List[UTCDateTime]\n",
    "             Errors will be stored as 'None' in the list, so that parallelization won't encounter Exceptions. I'm sure there's a better way to parallize the code.\n",
    "    \"\"\"\n",
    "    event_time = event.origins[0].time\n",
    "    try:\n",
    "        p_arrival, s_arrival = compute_distance(station, event)\n",
    "    except (SlownessModelError, IndexError) as e:\n",
    "        if not give_anyways:\n",
    "            return None\n",
    "        p_arrival = 0\n",
    "    event_time += p_arrival\n",
    "    return event_time\n",
    "\n",
    "\n",
    "def get_event_times(catalog: Catalog, station: Station) -> List[UTCDateTime]:\n",
    "    \"\"\"\n",
    "    Gets event times from a catalog and returns a list of them, corrected with the above functino.\n",
    "    \"\"\"\n",
    "    times = [get_event_time(station, event) for event in catalog]\n",
    "    times = filter(lambda time: time is not None, times)                     # Remove errored times\n",
    "    return list(times)\n",
    "\n",
    "\n",
    "def compute_distance(station: Station, event: Event):\n",
    "    \"\"\" Computes the time offset of an event to reach a station, based on PREM \"\"\"\n",
    "    origin = event.origins[0]\n",
    "    \n",
    "    event_distance = gps2dist_azimuth(station.latitude, station.longitude,\n",
    "                                      origin.latitude, origin.longitude)[0]\n",
    "    \n",
    "    depth = origin.depth/1000\n",
    "    distance = kilometers2degrees(event_distance / 1000)   # Meter to kilometer to degrees\n",
    "    arrivals = model.get_travel_times(source_depth_in_km=depth,  # meter to kilometer\n",
    "                                      distance_in_degree=distance,\n",
    "                                      phase_list=[\"p\", \"s\", \"P\", \"S\"]\n",
    "                                     )\n",
    "\n",
    "    p, s = arrivals[0].time, arrivals[1].time   # Time in seconds\n",
    "    return p, s\n",
    "\n",
    "\n",
    "    \n",
    "def parallel_get_event_times(catalog: Catalog, station, give_anyways=False):\n",
    "    \"\"\"\n",
    "    Parallelizes the 'get_event_time' function to make computation faster.\n",
    "    :param give_anyways: call 'get_event_time' with give_anyways set to True \n",
    "    \"\"\"\n",
    "    work = catalog   # Args that will be passed to the function\n",
    "\n",
    "    # Run with multiprocess\n",
    "    pool = Pool()\n",
    "    if give_anyways:\n",
    "        times = pool.map(partial(get_event_time, station, give_anyways=True), work)             # Map the args\n",
    "    else:\n",
    "        times = pool.map(partial(get_event_time, station), work)             \n",
    "    times = filter(lambda time: time is not None, times)                     # Remove errored times\n",
    "    return list(times)    \n",
    "\n"
   ]
  },
  {
   "cell_type": "code",
   "execution_count": 14,
   "metadata": {},
   "outputs": [
    {
     "name": "stdout",
     "output_type": "stream",
     "text": [
      "Got times\n"
     ]
    }
   ],
   "source": [
    "# Types\n",
    "local_times: List[UTCDateTime]\n",
    "nonlocal_times: List[UTCDateTime]\n",
    "noise_times: List[UTCDateTime]\n",
    "    \n",
    "    \n",
    "# Code\n",
    "local_times = parallel_get_event_times(local_catalog, station)\n",
    "nonlocal_times = parallel_get_event_times(nonlocal_catalog, station)\n",
    "_noise_times = parallel_get_event_times(noise_catalog, station, give_anyways=True)     # Even if PREM arrival can't be computed, get event times \n",
    " \n",
    "noise_times = get_noise_times(_noise_times, \n",
    "                              NOISE_START, # startafter\n",
    "                              NOISE_END, # endbefore\n",
    "                              NUM_NOISE_EVENTS, \n",
    "                              DURATION)\n",
    "\n",
    "print(\"Got times\")"
   ]
  },
  {
   "cell_type": "markdown",
   "metadata": {},
   "source": [
    "### Prepare data for the client"
   ]
  },
  {
   "cell_type": "code",
   "execution_count": 15,
   "metadata": {
    "ExecuteTime": {
     "end_time": "2018-02-21T10:53:46.919907Z",
     "start_time": "2018-02-21T10:53:46.902085Z"
    },
    "run_control": {
     "marked": false
    },
    "scrolled": true
   },
   "outputs": [
    {
     "name": "stdout",
     "output_type": "stream",
     "text": [
      "Created Bulks\n"
     ]
    }
   ],
   "source": [
    "# Functions\n",
    "end = lambda time: time + PADDING + ADD_TIME\n",
    "start = lambda time: time - PADDING + ADD_TIME\n",
    "\n",
    "def create_bulk(times):\n",
    "    return [(network.code, station.code, \"*\", \"HN*\", start(time), end(time)) for time in times]\n",
    "\n",
    "\n",
    "# Code\n",
    "local_bulk = create_bulk(local_times)\n",
    "nonlocal_bulk = create_bulk(nonlocal_times)\n",
    "noise_bulk = create_bulk(noise_times)\n",
    "print(\"Created Bulks\")"
   ]
  },
  {
   "cell_type": "markdown",
   "metadata": {},
   "source": [
    "### Get Waveforms "
   ]
  },
  {
   "cell_type": "code",
   "execution_count": 16,
   "metadata": {
    "ExecuteTime": {
     "end_time": "2018-02-21T10:53:49.629765Z",
     "start_time": "2018-02-21T10:53:49.423898Z"
    },
    "code_folding": [
     6,
     30,
     34,
     56
    ],
    "collapsed": true,
    "run_control": {
     "marked": true
    }
   },
   "outputs": [],
   "source": [
    "import asyncio  \n",
    "import time\n",
    "from functools import wraps\n",
    "from obspy.clients.fdsn.header import FDSNNoDataException, FDSNException\n",
    "\n",
    "\n",
    "def slide(iterable, num, stagger=None):\n",
    "    \"\"\" \n",
    "    A sliding window over an iterator, yielding sub arrays.\n",
    "    @param iterable: Iterable\n",
    "    @param num: int, the size of each subarray\n",
    "    @param stagger: int, the number of elements to start the next subarray by \n",
    "    \n",
    "    Example:\n",
    "    for arr in slide(list(range(98)), 5):\n",
    "        print(arr)\n",
    "    \"\"\"\n",
    "    stagger = num - stagger if stagger else 0\n",
    "    start = 0\n",
    "    end = num\n",
    "    \n",
    "    while start + stagger < len(iterable):\n",
    "        yield iterable[start:end]\n",
    "        start = end - stagger\n",
    "        end += num - stagger\n",
    "        \n",
    "        \n",
    "\n",
    "class AsyncClient(Client):\n",
    "    \n",
    "    def __init__(self, *args, **kwargs):\n",
    "        super().__init__(*args, **kwargs)\n",
    "        self.loop = asyncio.get_event_loop()\n",
    "    \n",
    "    async def async_get_waveforms(self, *args, **kwargs):\n",
    "        \"\"\" \n",
    "        Get waveforms asyncronously \n",
    "        @param *args, **kwargs: the arguments passed to Client.get_waveforms\n",
    "        @return: future\n",
    "        \"\"\"\n",
    "        \n",
    "        # kwargs can't be passed to loop.run_in_executor, so create a wrapper function.\n",
    "        @wraps(self.get_waveforms)\n",
    "        def call_with_kwargs(*args):\n",
    "            return self.get_waveforms(*args, **kwargs)\n",
    "            \n",
    "        future = self.loop.run_in_executor(None, call_with_kwargs, *args)\n",
    "        return await future\n",
    "    \n",
    "    def _get_batch(self, batch: List, bulk_kwargs: dict):\n",
    "        \"\"\"\n",
    "        Retrieves a batch of waveforms by calling 'get_waveforms' for each list of args in the batch\n",
    "        @param batch: list[list],each sublist is arguments to be passed to get_waveforms\n",
    "        @param bulk_kwargs: keyword arguments to pass the get_waveforms function. Will be applied to every batch.\n",
    "        \"\"\"\n",
    "        tasks = [self.async_get_waveforms(*data, **bulk_kwargs) for data in batch] # List of Asyncio Tasks\n",
    "        results = self.loop.run_until_complete(asyncio.gather(*tasks))             # Blocks until finished \n",
    "        return results\n",
    "    \n",
    "    def get_waveforms_bulk(self, bulk: List[List], batch_size=10, separation=1, bulk_kwargs=None, skip_errors=True):\n",
    "        \"\"\"\n",
    "        Gets waveforms in a bulk asynchronously.\n",
    "        @param bulk: List[List], data to pass get_waveforms like at - https://docs.obspy.org/packages/autogen/obspy.clients.fdsn.client.Client.get_waveforms_bulk.html\n",
    "        @param batch_size: how many simultaneous requests are sent at one. Keep this number < 10 \n",
    "        @param bulk_kwargs: dict, kwargs to pass to each get_waveforms request because you can't store them in the bulk list.\n",
    "        @param skip_errors: boolean, if False raises FSDN error if the server is missing a waveform  \n",
    "        @return: List[Stream], a list of the waveforms\n",
    "        \"\"\"\n",
    "        if batch_size > 10: raise ValueError(\"Batch size too high, could overload server.\")\n",
    "            \n",
    "        waveforms = []\n",
    "        bulk_kwargs = bulk_kwargs or {}\n",
    "        \n",
    "        generate_waveforms = self.yield_waveforms_bulk(bulk, batch_size, separation, bulk_kwargs, skip_errors)\n",
    "        \n",
    "        for i, result in enumerate(generate_waveforms):\n",
    "            waveforms.extend(result)\n",
    "            print(f\"\\rGot batch {i+1}: {len(waveforms)}/{len(bulk)}\", end=\"\")\n",
    "        \n",
    "        print(\"\\nDone.\")\n",
    "        return waveforms\n",
    "    \n",
    "    def yield_waveforms_bulk(self, bulk, batch_size=10, separation=1, bulk_kwargs=None, skip_errors=True):\n",
    "        \"\"\"\n",
    "        Yields a list of streams of size batch_size. Each call to the generator makes another call to the server.\n",
    "        This way you can be more strategic about how you get your data, hold it in memory, etc.\n",
    "        @yield: List[Stream]\n",
    "        \"\"\"\n",
    "        bulk_kwargs = bulk_kwargs or {}\n",
    "\n",
    "        if batch_size > 10: \n",
    "            raise ValueError(\"Batch size too high, could overload server.\")\n",
    "\n",
    "        for i, batch in enumerate(slide(bulk, batch_size)): \n",
    "            try:\n",
    "                yield self._get_batch(batch, bulk_kwargs)\n",
    "            except FDSNNoDataException as e:\n",
    "                if skip_errors:\n",
    "                    print(f\"Skipping batch {i} FDSNNoDataException\")\n",
    "                    continue\n",
    "                raise e\n",
    "            except FDSNException as e:\n",
    "                if skip_errors:    \n",
    "                    print(\"FDSN Exception: \", e)\n",
    "                    continue\n",
    "                raise e\n",
    "            finally:\n",
    "                time.sleep(separation)   # Prevent overloading the server"
   ]
  },
  {
   "cell_type": "markdown",
   "metadata": {},
   "source": [
    "#### Download waveforms Asynchronously"
   ]
  },
  {
   "cell_type": "code",
   "execution_count": 17,
   "metadata": {},
   "outputs": [],
   "source": [
    "client = AsyncClient(CLIENT_NAME)"
   ]
  },
  {
   "cell_type": "code",
   "execution_count": 18,
   "metadata": {
    "ExecuteTime": {
     "end_time": "2018-02-21T11:15:30.617850Z",
     "start_time": "2018-02-21T10:53:50.185007Z"
    },
    "code_folding": [],
    "run_control": {
     "marked": false
    },
    "scrolled": false
   },
   "outputs": [
    {
     "name": "stdout",
     "output_type": "stream",
     "text": [
      "Got batch 2: 9/9\n",
      "Done.\n",
      "\n",
      "Retrieved Local: 9\n"
     ]
    }
   ],
   "source": [
    "# Get Waveforms\n",
    "\n",
    "local_waveforms = client.get_waveforms_bulk(local_bulk, \n",
    "                                            batch_size=5, \n",
    "                                            bulk_kwargs=dict(attach_response=True),\n",
    "                                            skip_errors=True)\n",
    "\n",
    "print(\"\\nRetrieved Local:\", len(local_waveforms))"
   ]
  },
  {
   "cell_type": "code",
   "execution_count": 19,
   "metadata": {},
   "outputs": [
    {
     "name": "stdout",
     "output_type": "stream",
     "text": [
      "Skipping batch 0 FDSNNoDataException\n",
      "Skipping batch 1 FDSNNoDataException\n",
      "\n",
      "Done.\n",
      "\n",
      "Retrieved Nonlocal: 0\n"
     ]
    }
   ],
   "source": [
    "nonlocal_waveforms = client.get_waveforms_bulk(nonlocal_bulk, \n",
    "                                               batch_size=5, \n",
    "                                               bulk_kwargs=dict(attach_response=True),\n",
    "                                               skip_errors=True)\n",
    "\n",
    "print(\"\\nRetrieved Nonlocal:\", len(nonlocal_waveforms))"
   ]
  },
  {
   "cell_type": "code",
   "execution_count": 20,
   "metadata": {},
   "outputs": [
    {
     "name": "stdout",
     "output_type": "stream",
     "text": [
      "Got batch 2: 10/10\n",
      "Done.\n",
      "\n",
      "Retrieved Noise: 10\n"
     ]
    }
   ],
   "source": [
    "noise_waveforms = client.get_waveforms_bulk(noise_bulk, \n",
    "                                               batch_size=5, \n",
    "                                               bulk_kwargs=dict(attach_response=True),\n",
    "                                               skip_errors=True)\n",
    "\n",
    "print(\"\\nRetrieved Noise:\", len(noise_waveforms))"
   ]
  },
  {
   "cell_type": "markdown",
   "metadata": {},
   "source": [
    "#### Write Waveforms"
   ]
  },
  {
   "cell_type": "code",
   "execution_count": 21,
   "metadata": {},
   "outputs": [],
   "source": [
    "from typing import List\n",
    "from obspy import Stream\n",
    "from multiprocessing import Pool\n",
    "import matplotlib.pyplot as plt\n",
    "from matplotlib.ticker import NullLocator\n",
    "import glob\n",
    "import os\n",
    "\n",
    "def create_directory(path):\n",
    "    if not os.path.exists(path):\n",
    "        os.makedirs(path)\n",
    "        \n",
    "        \n",
    "def write_events(catalog, path):\n",
    "    create_directory(path)\n",
    "    catalog.write(os.path.join(path, 'events.xml'), format=\"QUAKEML\")\n",
    "        \n",
    "def write_waveforms(waveforms: List[Stream], path):\n",
    "    create_directory(path)\n",
    "    for i, stream in enumerate(waveforms):\n",
    "        stream.write(os.path.join(path, f'{i}.mseed'), format=\"MSEED\")\n",
    "        \n",
    "        \n",
    "def write_waveform(stream, file_path):\n",
    "    print(\"Writing: \", os.path.basename(file_path), end='\\r')\n",
    "    stream.write(file_path, format=\"MSEED\")\n",
    "    \n",
    "\n",
    "def parallel_write_waveforms(waveforms: List[Stream], path):\n",
    "    print(\"Writing Waveforms...\")\n",
    "    create_directory(path)\n",
    "\n",
    "    work = [] \n",
    "    \n",
    "    # Prep the file paths\n",
    "    for i, stream in enumerate(waveforms):\n",
    "        file_path = os.path.join(path, f'{i}.mseed')\n",
    "        \n",
    "        # Add the args for each stream\n",
    "        work.append(\n",
    "            (stream, file_path)  \n",
    "        )\n",
    "\n",
    "    # Run with multiprocess\n",
    "    pool = Pool()\n",
    "    pool.starmap(write_waveform, work)\n",
    "    \n",
    "    print(\"\\nWrote Waveforms\")\n",
    "\n",
    "def remove_response(waveforms: List[Stream]):\n",
    "    for stream in waveforms:\n",
    "        stream.remove_response(output='DISP', water_level=140)\n"
   ]
  },
  {
   "cell_type": "code",
   "execution_count": 22,
   "metadata": {},
   "outputs": [
    {
     "name": "stdout",
     "output_type": "stream",
     "text": [
      "Writing Waveforms...\n",
      "\n",
      "Wrote Waveforms\n",
      "Writing Waveforms...\n",
      "\n",
      "Wrote Waveforms\n",
      "Writing Waveforms...\n",
      "\n",
      "Wrote Waveforms\n",
      "Finished Writing\n"
     ]
    }
   ],
   "source": [
    "import warnings, os\n",
    "# Constants\n",
    "DIR_PATH = os.path.join(os.getcwd(), f\"waveforms/{NAME}\")\n",
    "\n",
    "# Write Waveforms\n",
    "with warnings.catch_warnings():\n",
    "    warnings.simplefilter(\"ignore\")\n",
    "    parallel_write_waveforms(local_waveforms, os.path.join(DIR_PATH, \"local\"))   \n",
    "    parallel_write_waveforms(nonlocal_waveforms, os.path.join(DIR_PATH, \"non_local\"))   \n",
    "    parallel_write_waveforms(noise_waveforms, os.path.join(DIR_PATH, \"noise\"))   \n",
    "    \n",
    "print(\"Finished Writing\")"
   ]
  },
  {
   "cell_type": "code",
   "execution_count": 23,
   "metadata": {},
   "outputs": [],
   "source": [
    "write_events(local_catalog, os.path.join(DIR_PATH, 'events'))"
   ]
  },
  {
   "cell_type": "markdown",
   "metadata": {},
   "source": [
    "### *Optional, read waveforms"
   ]
  },
  {
   "cell_type": "code",
   "execution_count": 24,
   "metadata": {},
   "outputs": [],
   "source": [
    "### READ WAVEFORMS ####\n",
    "\n",
    "from obspy import read\n",
    "import glob\n",
    "import os\n",
    "\n",
    "local_path = os.path.join(os.getcwd(), f\"waveforms/{NAME}/local\")\n",
    "noise_path = os.path.join(os.getcwd(), f\"waveforms/{NAME}/noise\")\n",
    "nonlocal_path = os.path.join(os.getcwd(), f\"waveforms/{NAME}/non_local\")\n",
    "\n",
    "def read_waveforms(dir_path):\n",
    "    files = glob.glob(os.path.join(dir_path, '*.mseed'))\n",
    "    waveforms = [read(file) for file in files]\n",
    "    return waveforms\n",
    "\n",
    "local_waveforms = read_waveforms(local_path)\n",
    "nonlocal_waveforms = read_waveforms(nonlocal_path)\n",
    "noise_waveforms = read_waveforms(noise_path)"
   ]
  },
  {
   "cell_type": "markdown",
   "metadata": {},
   "source": [
    "## 4. Filter "
   ]
  },
  {
   "cell_type": "code",
   "execution_count": 25,
   "metadata": {},
   "outputs": [
    {
     "name": "stdout",
     "output_type": "stream",
     "text": [
      "Filtered\n"
     ]
    }
   ],
   "source": [
    "from obspy import Stream\n",
    "import copy\n",
    "\n",
    "def filter_waveforms(waveforms: List[Stream]) -> List[Stream]:\n",
    "    \"\"\" \n",
    "    Filters the waveforms (in place) \n",
    "    @return: generator -> Stream\n",
    "    \"\"\"\n",
    "    assert PRE_PADDING + POST_PADDING == DURATION\n",
    "    for stream in waveforms:\n",
    "        event_start = stream[0].stats.starttime + PADDING\n",
    "        window_start = event_start - PRE_PADDING\n",
    "        window_end = event_start + POST_PADDING\n",
    "        stream.filter('bandpass', freqmin=MIN_FREQ, freqmax=MAX_FREQ)\n",
    "        stream.trim(window_start, window_end)\n",
    "                                                            \n",
    "    return waveforms\n",
    "\n",
    "    \n",
    "local_waves = filter_waveforms(copy.deepcopy(local_waveforms))\n",
    "nonlocal_waves = filter_waveforms(copy.deepcopy(nonlocal_waveforms))\n",
    "noise_waves = filter_waveforms(copy.deepcopy(noise_waveforms))\n",
    "print(\"Filtered\")\n"
   ]
  },
  {
   "cell_type": "markdown",
   "metadata": {},
   "source": [
    "## 5. Write Spectrograms"
   ]
  },
  {
   "cell_type": "code",
   "execution_count": 26,
   "metadata": {
    "ExecuteTime": {
     "end_time": "2018-02-21T11:17:43.632951Z",
     "start_time": "2018-02-21T11:17:43.432171Z"
    },
    "code_folding": [
     6,
     12,
     21,
     25,
     57,
     65
    ],
    "run_control": {
     "marked": false
    },
    "scrolled": true
   },
   "outputs": [],
   "source": [
    "from typing import List\n",
    "from obspy import Stream\n",
    "from multiprocessing import Pool\n",
    "import matplotlib.pyplot as plt\n",
    "from matplotlib.ticker import NullLocator\n",
    "import glob\n",
    "import os\n",
    "    \n",
    "\n",
    "def remove_borders(path):\n",
    "    \"\"\" \n",
    "    Removes borders of all .png files in curr directory  \n",
    "    Must have ImageMagik installed.\n",
    "    \"\"\"\n",
    "    png_paths = glob.glob(f\"{path}/*.png\")\n",
    "    \n",
    "    for file in png_paths:\n",
    "        print(\"Trimming: \", file, end='\\r')\n",
    "        !convert $file -trim +repage $file;\n",
    "    \n",
    "    \n",
    "    \n",
    "def show_spectrogram(stream):\n",
    "    figure_list = stream.spectrogram(show=False, title=\"\")\n",
    "    \n",
    "    for figure, channel in zip(figure_list, get_channel_names(stream)):\n",
    "        if channel in ('HNE', 'HNN', 'HNZ'):\n",
    "            axes = figure.gca() \n",
    "            axes.set_xlim([0, DURATION])\n",
    "            axes.set_ylim([0, MAX_FREQ])\n",
    "\n",
    "            # Get Rid of Whitespace\n",
    "            axes.axis(\"off\")\n",
    "            axes.xaxis.set_major_locator(NullLocator())\n",
    "            axes.yaxis.set_major_locator(NullLocator())\n",
    "\n",
    "    plt.show()\n",
    "\n",
    "\n",
    "\n",
    "def write_spectrogram(stream, path):\n",
    "    \"\"\"\n",
    "    @param stream: Stream, the file to make a spectrogram from.\n",
    "                   Each trace should be one component.\n",
    "    \n",
    "    @param path: Str, the directory to write into.\n",
    "    \n",
    "    Each component of the stream is written as its own figure, a .png file.\n",
    "    Components eg. \"NNE\" are saved as the filename eg. \"NNE.png\".\n",
    "    \"\"\"\n",
    "    create_directory(path)\n",
    "    figure_list = stream.spectrogram(show=False, title=\"\")\n",
    "    \n",
    "    for figure, channel in zip(figure_list, get_channel_names(stream)):\n",
    "        if channel in ('HNE', 'HNN', 'HNZ'):\n",
    "            axes = figure.gca() \n",
    "            axes.set_xlim([0, DURATION])\n",
    "            axes.set_ylim([0, MAX_FREQ])\n",
    "\n",
    "            # Get Rid of Whitespace\n",
    "            axes.axis(\"off\")\n",
    "            axes.xaxis.set_major_locator(NullLocator())\n",
    "            axes.yaxis.set_major_locator(NullLocator())\n",
    "            figure.savefig(f\"{path}/{channel}.png\", bbox_inches='tight', pad_inches=0, transparent=True)\n",
    "\n",
    "            # Free memory\n",
    "            figure.clf()\n",
    "            plt.close(\"ALL\") \n",
    "\n",
    "    remove_borders(path)  # Remove borders of all the spectrograms\n",
    "    \n",
    "    \n",
    "def write_spectrogram_ignore_exceptions(*args ,**kwargs):\n",
    "    try:\n",
    "        return write_spectrogram(*args, **kwargs)\n",
    "    except Exception as e:\n",
    "        print(\"Failed to write spectrogram: \", e)\n",
    "        return None\n",
    "\n",
    "\n",
    "\n",
    "def write_spectrograms(waveforms, path):   \n",
    "    for i, stream in enumerate(waveforms):\n",
    "        dir_path = os.path.join(path, str(i))\n",
    "        create_directory(dir_path)\n",
    "        write_spectrogram(stream, dir_path)\n",
    "    \n",
    "\n",
    "def async_write_spectrograms(waveforms, path):\n",
    "    \"\"\"\n",
    "    @param waveforms: List[Stream], the waveforms to make spectrograms from.\n",
    "    @param path: str, The directory to write to\n",
    "    \n",
    "    1. Calls 'write_spectrogram' on each Stream. \n",
    "    2. Each stream is written to its own folder\n",
    "    3. All components are written to their own file as a spectrogram .png image.\n",
    "    \"\"\"\n",
    "    print(\"Writing Files...\")\n",
    "\n",
    "    work = []   # Args that will be passed to the write_spectrogram function\n",
    "    \n",
    "    # Prep the file paths\n",
    "    for i, stream in enumerate(waveforms):\n",
    "        dir_path = os.path.join(path, str(i))\n",
    "        create_directory(dir_path)\n",
    "        \n",
    "        # Add the args for each stream\n",
    "        work.append(\n",
    "            (stream, os.path.join(path, str(i)))  # arguments to the 'write_spectrogram' function\n",
    "        )\n",
    "\n",
    "    # Run with multiprocess\n",
    "    pool = Pool()\n",
    "    pool.starmap(write_spectrogram_ignore_exceptions, work)             # Map the 'write_spectrogram' function to the work\n",
    "    \n",
    "    print(\"\\nWrote Files\")\n"
   ]
  },
  {
   "cell_type": "code",
   "execution_count": 27,
   "metadata": {
    "ExecuteTime": {
     "end_time": "2018-02-21T11:26:37.813472Z",
     "start_time": "2018-02-21T11:17:47.227497Z"
    }
   },
   "outputs": [
    {
     "name": "stdout",
     "output_type": "stream",
     "text": [
      "Writing Files...\n",
      "Trimming:  /data/pytorch_earthquake_recognition/spectrograms/UtahQuakes/local/969/HNE.png\n",
      "Wrote Files\n",
      "Writing Files...\n",
      "Trimming:  /data/pytorch_earthquake_recognition/spectrograms/UtahQuakes/noise/3905/HNE.png\n",
      "Wrote Files\n",
      "Writing Files...\n",
      "Trimming:  /data/pytorch_earthquake_recognition/spectrograms/UtahQuakes/non_local/3/HNE.png\n",
      "Wrote Files\n"
     ]
    }
   ],
   "source": [
    "import warnings\n",
    "# Constants\n",
    "DIR_PATH = os.path.join(os.getcwd(), f\"spectrograms/{NAME}\")\n",
    "\n",
    "# Write Waveforms\n",
    "with warnings.catch_warnings():\n",
    "    warnings.simplefilter(\"ignore\")\n",
    "    async_write_spectrograms(local_waves, os.path.join(DIR_PATH, \"local\"))   \n",
    "    async_write_spectrograms(noise_waves, os.path.join(DIR_PATH, \"noise\"))  \n",
    "    async_write_spectrograms(nonlocal_waves, os.path.join(DIR_PATH, \"non_local\"))   \n",
    "\n"
   ]
  },
  {
   "cell_type": "markdown",
   "metadata": {},
   "source": [
    "# Tests"
   ]
  },
  {
   "cell_type": "code",
   "execution_count": 32,
   "metadata": {
    "collapsed": true
   },
   "outputs": [],
   "source": [
    "import unittest \n",
    "\n",
    "class TestMethods(unittest.TestCase):\n",
    " \n",
    "\n",
    "    def test_overlaps(self):\n",
    "        time1 = UTCDateTime(2015, 1, 1, 10, 0, 10)\n",
    "        time2 = UTCDateTime(2015, 1, 1, 10, 0, 19)\n",
    "        time3 = UTCDateTime(2015, 1, 1, 10, 0, 30)\n",
    "        t1 = Time(time1, time1 + 10)\n",
    "        t2 = Time(time2, time2 + 10)\n",
    "        t3 = Time(time3, time3 + 10)\n",
    "        self.assertTrue(overlaps(t1, t2))\n",
    "        self.assertFalse(overlaps(t2, t3))\n",
    "\n",
    "        \n",
    "    def test_encompassed(self):\n",
    "        t = UTCDateTime(2015, 1, 1, 10, 0, 0) \n",
    "        times = [Time(t + 10*i, t + 10*(i+1)) for i in range(1, 7)]  # 1 minute of times \n",
    "        times.append(Time(t+1000, t+1010))\n",
    "        times.append(Time(t+1010, t+1020))\n",
    "        times.sort()                           # sorted just to remember that the function requires sorted times\n",
    "        \n",
    "        \n",
    "        # Encompassed within the times\n",
    "        self.assertTrue(encompassed(Time(t+30, t+40), times))\n",
    "        \n",
    "        # Not encompassed\n",
    "        self.assertFalse(encompassed(Time(t+990, t+999), times))\n",
    "        self.assertFalse(encompassed(Time(t-10, t), times)) \n",
    "            \n",
    "            \n",
    "    def test_find_closest_index(self):\n",
    "        lst = [1, 2, 3, 5, 6]\n",
    "        self.assertEqual(find_closest_index(lst, 2), 2)  # defaults to finding index to the right  \n",
    "        self.assertEqual(find_closest_index(lst, 4), 3)        \n",
    "            \n",
    "    def test_get_noise_times(self):\n",
    "        t = UTCDateTime(2015, 1, 1, 10, 0, 0) \n",
    "        exclude = [t + 60*i for i in range(1, 11)]  # 10 times in a 10 minute range \n",
    "    \n",
    "        times = get_noise_times(exclude, startafter=exclude[0], endbefore=exclude[-1], amount=10, duration=10)\n",
    "        \n",
    "        \n",
    "        # Make sure none of the noise times overlap with the event (exclude) times\n",
    "        exclude_times = [Time(time, time+10) for time in exclude]\n",
    "        self.assertFalse(any((encompassed(Time(time, time+10), exclude_times)) for time in times))\n",
    "        \n",
    "        # Make sure that the times are generated in the correct time window\n",
    "        times.sort()\n",
    "        self.assertTrue((times[0] > exclude[0]) and (times[-1] < exclude[-1]))\n",
    "        \n",
    "        # Should generate the correct amount\n",
    "        self.assertEqual(len(times), 10)\n",
    "        \n",
    "        \n",
    "    def test_slide(self):\n",
    "        gen = slide(list(range(7)), 3)\n",
    "        self.assertEqual(next(gen), [0, 1, 2])\n",
    "        self.assertEqual(next(gen), [3, 4, 5])\n",
    "        self.assertEqual(next(gen), [6])\n",
    "        \n",
    "        res = list(slide(list(range(7)), 3, 2))\n",
    "        self.assertEqual(res, [[0, 1, 2], [2, 3, 4], [4, 5, 6]])\n",
    "    "
   ]
  },
  {
   "cell_type": "code",
   "execution_count": 33,
   "metadata": {
    "collapsed": true
   },
   "outputs": [
    {
     "name": "stderr",
     "output_type": "stream",
     "text": [
      ".....\n",
      "----------------------------------------------------------------------\n",
      "Ran 5 tests in 0.007s\n",
      "\n",
      "OK\n"
     ]
    },
    {
     "data": {
      "text/plain": [
       "<unittest.runner.TextTestResult run=5 errors=0 failures=0>"
      ]
     },
     "execution_count": 33,
     "metadata": {},
     "output_type": "execute_result"
    }
   ],
   "source": [
    "methods = TestMethods()\n",
    "suite = unittest.TestLoader().loadTestsFromModule(methods)\n",
    "unittest.TextTestRunner().run(suite)\n"
   ]
  },
  {
   "cell_type": "code",
   "execution_count": null,
   "metadata": {},
   "outputs": [],
   "source": []
  }
 ],
 "metadata": {
  "kernelspec": {
   "display_name": "Python [conda root]",
   "language": "python",
   "name": "conda-root-py"
  },
  "language_info": {
   "codemirror_mode": {
    "name": "ipython",
    "version": 3
   },
   "file_extension": ".py",
   "mimetype": "text/x-python",
   "name": "python",
   "nbconvert_exporter": "python",
   "pygments_lexer": "ipython3",
   "version": "3.6.3"
  },
  "varInspector": {
   "cols": {
    "lenName": 16,
    "lenType": 16,
    "lenVar": 40
   },
   "kernels_config": {
    "python": {
     "delete_cmd_postfix": "",
     "delete_cmd_prefix": "del ",
     "library": "var_list.py",
     "varRefreshCmd": "print(var_dic_list())"
    },
    "r": {
     "delete_cmd_postfix": ") ",
     "delete_cmd_prefix": "rm(",
     "library": "var_list.r",
     "varRefreshCmd": "cat(var_dic_list()) "
    }
   },
   "oldHeight": 397.566666,
   "position": {
    "height": "474px",
    "left": "926.417px",
    "right": "102.417px",
    "top": "98px",
    "width": "489px"
   },
   "types_to_exclude": [
    "module",
    "function",
    "builtin_function_or_method",
    "instance",
    "_Feature"
   ],
   "varInspector_section_display": "block",
   "window_display": false
  }
 },
 "nbformat": 4,
 "nbformat_minor": 2
}
