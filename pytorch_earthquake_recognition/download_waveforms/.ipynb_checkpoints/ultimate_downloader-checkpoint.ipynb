{
 "cells": [
  {
   "cell_type": "markdown",
   "metadata": {},
   "source": [
    "# 1. Download Waveforms"
   ]
  },
  {
   "cell_type": "code",
   "execution_count": 1,
   "metadata": {},
   "outputs": [],
   "source": [
    "import matplotlib\n",
    "matplotlib.use('agg')\n",
    "\n",
    "from code.config import *\n",
    "from code.events import parallel_get_event_times\n",
    "from code.waveforms import parallel_write_waveforms\n",
    "from obspy.core.event import Catalog\n",
    "from code.helpers import *\n",
    "from code.async_client import AsyncClient\n",
    "import warnings\n",
    "from obspy import UTCDateTime"
   ]
  },
  {
   "cell_type": "code",
   "execution_count": 2,
   "metadata": {},
   "outputs": [],
   "source": [
    "CLIENT_NAME = 'IRIS'\n",
    "client = AsyncClient(CLIENT_NAME)"
   ]
  },
  {
   "cell_type": "code",
   "execution_count": 3,
   "metadata": {},
   "outputs": [],
   "source": [
    "inventory = client.get_stations(channel='HN*', startafter=UTCDateTime(year=2017, month=1, day=1))"
   ]
  },
  {
   "cell_type": "code",
   "execution_count": 17,
   "metadata": {},
   "outputs": [],
   "source": [
    "! touch waveforms/testfile"
   ]
  },
  {
   "cell_type": "code",
   "execution_count": 16,
   "metadata": {},
   "outputs": [
    {
     "name": "stdout",
     "output_type": "stream",
     "text": [
      "Starting Download Script...\n",
      "LOCAL EVENTS: 10\n",
      "NOISE EVENTS to Exclude: 721\n",
      "Got times\n",
      "Created Bulks\n",
      "Got batch 2: 10/10\n",
      "Done.\n",
      "\n",
      "Retrieved Local: 10\n",
      "Skipping batch 0 FDSNNoDataException\n",
      "Skipping batch 1 FDSNNoDataException\n",
      "\n",
      "Done.\n",
      "\n",
      "Retrieved Noise: 0\n",
      "Writing Waveforms...\n",
      "Writing:  9.mseed\n",
      "Wrote Waveforms\n",
      "Writing Waveforms...\n",
      "\n",
      "Wrote Waveforms\n",
      "Finished Writing\n"
     ]
    }
   ],
   "source": [
    "!docker run -v $(pwd)/waveforms:/data/waveforms -e PYTHONUNBUFFERED=0 downloadwaveforms_waveform-dind python main_download.py --network PR --station AGPR"
   ]
  },
  {
   "cell_type": "code",
   "execution_count": 8,
   "metadata": {},
   "outputs": [
    {
     "name": "stdout",
     "output_type": "stream",
     "text": [
      "/bin/sh: 1: docker: not found\n"
     ]
    }
   ],
   "source": [
    "docker run -v $(pwd)/waveforms:/data/waveforms -v $(pwd)/spectrograms:/data/spectrograms -e PYTHONUNBUFFERED=0 downloadwaveforms_waveform-dind python main_write.py --waveform_path PR --spectrogram_path AGPR"
   ]
  },
  {
   "cell_type": "code",
   "execution_count": null,
   "metadata": {},
   "outputs": [],
   "source": []
  }
 ],
 "metadata": {
  "kernelspec": {
   "display_name": "Python [default]",
   "language": "python",
   "name": "python3"
  },
  "language_info": {
   "codemirror_mode": {
    "name": "ipython",
    "version": 3
   },
   "file_extension": ".py",
   "mimetype": "text/x-python",
   "name": "python",
   "nbconvert_exporter": "python",
   "pygments_lexer": "ipython3",
   "version": "3.6.3"
  }
 },
 "nbformat": 4,
 "nbformat_minor": 2
}
